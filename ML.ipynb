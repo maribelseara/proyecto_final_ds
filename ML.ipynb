{
 "cells": [
  {
   "cell_type": "code",
   "execution_count": 24,
   "metadata": {},
   "outputs": [],
   "source": [
    "import pandas as pd\n",
    "from scipy.stats import shapiro\n",
    "from sklearn.preprocessing import OneHotEncoder, MinMaxScaler, RobustScaler\n",
    "from sklearn.pipeline import Pipeline\n",
    "from sklearn.compose import ColumnTransformer"
   ]
  },
  {
   "cell_type": "code",
   "execution_count": 4,
   "metadata": {},
   "outputs": [
    {
     "name": "stdout",
     "output_type": "stream",
     "text": [
      "<class 'pandas.core.frame.DataFrame'>\n",
      "Index: 14631 entries, 0 to 14657\n",
      "Data columns (total 27 columns):\n",
      " #   Column                  Non-Null Count  Dtype  \n",
      "---  ------                  --------------  -----  \n",
      " 0   Marca                   14631 non-null  object \n",
      " 1   Modelo                  14631 non-null  object \n",
      " 2   Precio                  14631 non-null  float64\n",
      " 3   Potencia                14631 non-null  float64\n",
      " 4   Tipo vendedor           14631 non-null  object \n",
      " 5   Categoría               14631 non-null  object \n",
      " 6   Tipo de vehículo        14631 non-null  object \n",
      " 7   puertas                 14631 non-null  int64  \n",
      " 8   Versión del país        14631 non-null  object \n",
      " 9   Garantía                14631 non-null  int64  \n",
      " 10  Kilometraje             14631 non-null  float64\n",
      " 11  Año                     14631 non-null  int64  \n",
      " 12  Tipo de cambio          14631 non-null  object \n",
      " 13  Capacidad               14631 non-null  float64\n",
      " 14  Consumo de combustible  14631 non-null  float64\n",
      " 15  Color exterior          14631 non-null  object \n",
      " 16  Color original          14631 non-null  object \n",
      " 17  Tracción                14631 non-null  object \n",
      " 18  plazas                  14631 non-null  float64\n",
      " 19  Número de marchas       14631 non-null  float64\n",
      " 20  Número de cilindros     14631 non-null  float64\n",
      " 21  Peso                    14631 non-null  float64\n",
      " 22  Tipo de combustible     14631 non-null  object \n",
      " 23  Mes                     14631 non-null  int64  \n",
      " 24  Ciudad                  14631 non-null  object \n",
      " 25  CP                      14631 non-null  int64  \n",
      " 26  provincia               14631 non-null  object \n",
      "dtypes: float64(9), int64(5), object(13)\n",
      "memory usage: 3.1+ MB\n"
     ]
    }
   ],
   "source": [
    "df=pd.read_csv(\"data//clean//vehiculos.csv\", index_col=\"Unnamed: 0\")\n",
    "df.info()"
   ]
  },
  {
   "cell_type": "markdown",
   "metadata": {},
   "source": [
    "Como 'Versión del país' siempre contiene el valor 'España' no es relevante y lo podemos eliminar."
   ]
  },
  {
   "cell_type": "code",
   "execution_count": 11,
   "metadata": {},
   "outputs": [],
   "source": [
    "df=df.drop('Versión del país', axis=1)"
   ]
  },
  {
   "cell_type": "markdown",
   "metadata": {},
   "source": [
    "Definimos las columnas numéricas y las categóricas:"
   ]
  },
  {
   "cell_type": "code",
   "execution_count": 12,
   "metadata": {},
   "outputs": [],
   "source": [
    "num_cols=df.select_dtypes(['int64', 'float64']).columns\n",
    "cat_cols=df.select_dtypes(['object']).columns"
   ]
  },
  {
   "cell_type": "markdown",
   "metadata": {},
   "source": [
    "De las columnas numéricas hay que mirar cuales tienen distribución gausiana, para saber a cuales podemos estandarizar con el StandartScaler."
   ]
  },
  {
   "cell_type": "code",
   "execution_count": 19,
   "metadata": {},
   "outputs": [],
   "source": [
    "def gaussian_columns(df):\n",
    "    gaus_cols=[]\n",
    "    for column in df.columns:\n",
    "        stat, p = shapiro(df[column])\n",
    "        if p > 0.05:\n",
    "            gaus_cols.append(column)\n",
    "    return gaus_cols"
   ]
  },
  {
   "cell_type": "code",
   "execution_count": 22,
   "metadata": {},
   "outputs": [
    {
     "name": "stdout",
     "output_type": "stream",
     "text": [
      "[]\n"
     ]
    },
    {
     "name": "stderr",
     "output_type": "stream",
     "text": [
      "c:\\Users\\mabi1\\anaconda3\\envs\\proj\\Lib\\site-packages\\scipy\\stats\\_morestats.py:1882: UserWarning: p-value may not be accurate for N > 5000.\n",
      "  warnings.warn(\"p-value may not be accurate for N > 5000.\")\n"
     ]
    }
   ],
   "source": [
    "df_num=df[num_cols]\n",
    "gaus_cols=gaussian_columns(df_num)\n",
    "print(gaus_cols)"
   ]
  },
  {
   "cell_type": "markdown",
   "metadata": {},
   "source": [
    "Ninguna es probable que tenga distribución gausiana. Ahora de las columnas numéricas vamos a separar las que tienen outliers de las que no, para ello cogeremos el dataframe con solo las columnas numéricas, tomaremos también el primer cuantil, el tercero y la diferencia entre ambos y con una fórmula matemática seleccionaremos las columnas donde hay outliers. Una vez obtenidas las columnas con outliers haremos un drop de las mismas en el dataframe de columnas numéricas y las restantes serán las que no tienen outliers. Es importante tener en cuenta cuales tienen outliers y cuales no para saber qué tipo de escalado aplicarles."
   ]
  },
  {
   "cell_type": "code",
   "execution_count": 17,
   "metadata": {},
   "outputs": [],
   "source": [
    "q1 = df_num.quantile(0.25)\n",
    "q3 = df_num.quantile(0.75)\n",
    "diff = q3 - q1\n",
    "out_cols=df_num.columns[((df_num < (q1 - 1.5 * diff)) |(df_num > (q3 + 1.5 * diff))).any(axis=0)]\n",
    "no_out_cols=df_num.drop(out_cols, axis=1).columns"
   ]
  },
  {
   "cell_type": "code",
   "execution_count": 18,
   "metadata": {},
   "outputs": [
    {
     "name": "stdout",
     "output_type": "stream",
     "text": [
      "Index(['Precio', 'Potencia', 'puertas', 'Garantía', 'Kilometraje', 'Año',\n",
      "       'Capacidad', 'Consumo de combustible', 'plazas', 'Número de marchas',\n",
      "       'Número de cilindros', 'Peso'],\n",
      "      dtype='object')\n",
      "Index(['Mes', 'CP'], dtype='object')\n"
     ]
    }
   ],
   "source": [
    "print(out_cols)\n",
    "print(no_out_cols)"
   ]
  },
  {
   "cell_type": "markdown",
   "metadata": {},
   "source": [
    "Así pues, ahora tenemos las columnas de nuestro dataset divididas en tres sets: columnas categóricas (cat_cols), columnas numéricas con outliers(out_cols) y columnas numéricas sin outliers (no_out_cols).\n",
    "A las columnas categóricas les aplicaremos OneHotEncoder, a las que tienen outliers RobustScaler y a las que no tienen outliers MinMaxScaler."
   ]
  },
  {
   "cell_type": "code",
   "execution_count": 26,
   "metadata": {},
   "outputs": [],
   "source": [
    "out_pipeline = Pipeline(steps=[\n",
    "    ('scale',RobustScaler())\n",
    "])\n",
    "\n",
    "no_out_pipeline = Pipeline(steps=[\n",
    "    ('scale',MinMaxScaler())\n",
    "])\n",
    "\n",
    "cat_pipeline = Pipeline(steps=[\n",
    "    ('scale',OneHotEncoder())\n",
    "])"
   ]
  },
  {
   "cell_type": "markdown",
   "metadata": {},
   "source": [
    "Añadiremos estas pequeñas pipeslines a un ColumnTransformer para que a cada tipo de columna se le aplique lo indicado. Le indicaremos remainder='drop' para que ignore cualquier columna del dataframe que no esté contemplada en esas categorías. Y n_jobs= -1 para que use todos los procesadores que tengamos en paralelo."
   ]
  },
  {
   "cell_type": "code",
   "execution_count": 27,
   "metadata": {},
   "outputs": [],
   "source": [
    "col_trans = ColumnTransformer(transformers=[\n",
    "    ('out_pipeline',out_pipeline,out_cols),\n",
    "    ('no_out_pipeline',no_out_pipeline,no_out_cols),\n",
    "    ('cat_pipeline', cat_pipeline, cat_cols)\n",
    "    ],\n",
    "    remainder='drop',\n",
    "    n_jobs=-1)"
   ]
  },
  {
   "cell_type": "markdown",
   "metadata": {},
   "source": [
    "Este column transformer será añadido a un pipeline final que también contendrá el modelo. Pero primero deberíamos decidir qué modelo utilizar."
   ]
  }
 ],
 "metadata": {
  "kernelspec": {
   "display_name": "proj",
   "language": "python",
   "name": "python3"
  },
  "language_info": {
   "codemirror_mode": {
    "name": "ipython",
    "version": 3
   },
   "file_extension": ".py",
   "mimetype": "text/x-python",
   "name": "python",
   "nbconvert_exporter": "python",
   "pygments_lexer": "ipython3",
   "version": "3.11.5"
  }
 },
 "nbformat": 4,
 "nbformat_minor": 2
}
