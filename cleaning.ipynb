{
 "cells": [
  {
   "cell_type": "code",
   "execution_count": 95,
   "metadata": {},
   "outputs": [],
   "source": [
    "import pandas as pd\n",
    "import re\n",
    "from urllib.parse import urlparse, unquote\n",
    "from geopy.geocoders import Nominatim"
   ]
  },
  {
   "cell_type": "markdown",
   "metadata": {},
   "source": [
    "# Limpieza de datos"
   ]
  },
  {
   "cell_type": "markdown",
   "metadata": {},
   "source": [
    "Los datos procedentes del scraping tienen formatos que no nos interesan (por ejemplo el símbolo euro después de cada precio o 'kms' después de cada distancia). Además hay bastantes NaN que tenemos que tratar. Por eso, antes de pasar a las fase de análisis y de machine learning será necesario que limpiemos los datos."
   ]
  },
  {
   "cell_type": "code",
   "execution_count": 2,
   "metadata": {},
   "outputs": [
    {
     "name": "stdout",
     "output_type": "stream",
     "text": [
      "<class 'pandas.core.frame.DataFrame'>\n",
      "RangeIndex: 11173 entries, 0 to 11172\n",
      "Data columns (total 50 columns):\n",
      " #   Column                                Non-Null Count  Dtype  \n",
      "---  ------                                --------------  -----  \n",
      " 0   Unnamed: 0                            11173 non-null  int64  \n",
      " 1   Fecha extrac                          11173 non-null  object \n",
      " 2   Enlace                                11173 non-null  object \n",
      " 3   Marca                                 11173 non-null  object \n",
      " 4   Modelo                                10768 non-null  object \n",
      " 5   Precio                                11173 non-null  object \n",
      " 6   Localización                          11173 non-null  object \n",
      " 7   Potencia                              11173 non-null  object \n",
      " 8   Tipo vendedor                         11173 non-null  object \n",
      " 9   Categoría                             11171 non-null  object \n",
      " 10  Tipo de vehículo                      11171 non-null  object \n",
      " 11  puertas                               11095 non-null  float64\n",
      " 12  Versión del país                      10708 non-null  object \n",
      " 13  Núm. de oferta                        10708 non-null  float64\n",
      " 14  Garantía                              8871 non-null   object \n",
      " 15  Kilometraje                           10604 non-null  object \n",
      " 16  Año                                   10604 non-null  object \n",
      " 17  Tipo de cambio                        11084 non-null  object \n",
      " 18  Capacidad                             9850 non-null   object \n",
      " 19  Otras fuentes de energía              947 non-null    object \n",
      " 20  Consumo de combustible\n",
      "2              9247 non-null   object \n",
      " 21  Color exterior                        9883 non-null   object \n",
      " 22  Color original                        7459 non-null   object \n",
      " 23  Tracción                              8486 non-null   object \n",
      " 24  plazas                                8915 non-null   float64\n",
      " 25  Número de marchas                     8684 non-null   float64\n",
      " 26  Número de cilindros                   8441 non-null   float64\n",
      " 27  Peso                                  7677 non-null   object \n",
      " 28  Tipo de combustible                   10187 non-null  object \n",
      " 29  Tipo de pintura                       1857 non-null   object \n",
      " 30  Emisión de CO₂\n",
      "2                      495 non-null    object \n",
      " 31  ITV                                   128 non-null    object \n",
      " 32  Guía de mantenimiento                 142 non-null    object \n",
      " 33  Tipo de emisión                       146 non-null    object \n",
      " 34  Propietarios                          188 non-null    float64\n",
      " 35  Color de los accesorios del interior  258 non-null    object \n",
      " 36  Material                              224 non-null    object \n",
      " 37  Consumo de combustible (WLTP)\n",
      "2       7 non-null      object \n",
      " 38  Emisión de CO₂ (WLTP)\n",
      "2               9 non-null      object \n",
      " 39  Última revisión                       164 non-null    object \n",
      " 40  Vehículo de no fumadores              212 non-null    object \n",
      " 41  Cambio kit distribución               60 non-null     object \n",
      " 42  Etiqueta de emisión                   1 non-null      object \n",
      " 43  Año de fabricación                    1 non-null      float64\n",
      " 44  Número de ejes                        1 non-null      float64\n",
      " 45  PMA (kg)                              1 non-null      object \n",
      " 46  Gama eléctrica (WLTP)                 1 non-null      object \n",
      " 47  Propiedad de la batería               1 non-null      object \n",
      " 48  Tiempo de carga del 10 % al 80 %      1 non-null      object \n",
      " 49  Unnamed: 49                           0 non-null      float64\n",
      "dtypes: float64(9), int64(1), object(40)\n",
      "memory usage: 4.3+ MB\n"
     ]
    }
   ],
   "source": [
    "df=pd.read_csv(\"vehiculos_usados.csv\")\n",
    "df.info()"
   ]
  },
  {
   "cell_type": "code",
   "execution_count": 3,
   "metadata": {},
   "outputs": [
    {
     "data": {
      "text/plain": [
       "Unnamed: 0                                  0\n",
       "Fecha extrac                                0\n",
       "Enlace                                      0\n",
       "Marca                                       0\n",
       "Modelo                                    405\n",
       "Precio                                      0\n",
       "Localización                                0\n",
       "Potencia                                    0\n",
       "Tipo vendedor                               0\n",
       "Categoría                                   2\n",
       "Tipo de vehículo                            2\n",
       "puertas                                    78\n",
       "Versión del país                          465\n",
       "Núm. de oferta                            465\n",
       "Garantía                                 2302\n",
       "Kilometraje                               569\n",
       "Año                                       569\n",
       "Tipo de cambio                             89\n",
       "Capacidad                                1323\n",
       "Otras fuentes de energía                10226\n",
       "Consumo de combustible\\n2                1926\n",
       "Color exterior                           1290\n",
       "Color original                           3714\n",
       "Tracción                                 2687\n",
       "plazas                                   2258\n",
       "Número de marchas                        2489\n",
       "Número de cilindros                      2732\n",
       "Peso                                     3496\n",
       "Tipo de combustible                       986\n",
       "Tipo de pintura                          9316\n",
       "Emisión de CO₂\\n2                       10678\n",
       "ITV                                     11045\n",
       "Guía de mantenimiento                   11031\n",
       "Tipo de emisión                         11027\n",
       "Propietarios                            10985\n",
       "Color de los accesorios del interior    10915\n",
       "Material                                10949\n",
       "Consumo de combustible (WLTP)\\n2        11166\n",
       "Emisión de CO₂ (WLTP)\\n2                11164\n",
       "Última revisión                         11009\n",
       "Vehículo de no fumadores                10961\n",
       "Cambio kit distribución                 11113\n",
       "Etiqueta de emisión                     11172\n",
       "Año de fabricación                      11172\n",
       "Número de ejes                          11172\n",
       "PMA (kg)                                11172\n",
       "Gama eléctrica (WLTP)                   11172\n",
       "Propiedad de la batería                 11172\n",
       "Tiempo de carga del 10 % al 80 %        11172\n",
       "Unnamed: 49                             11173\n",
       "dtype: int64"
      ]
     },
     "execution_count": 3,
     "metadata": {},
     "output_type": "execute_result"
    }
   ],
   "source": [
    "df.isna().sum()"
   ]
  },
  {
   "cell_type": "markdown",
   "metadata": {},
   "source": [
    "Como podemos ver hay columnas que tienen más de la mitad de los registros en NaN, en concreto las últimas 21 columnas. Así que empezaremos eliminando esas."
   ]
  },
  {
   "cell_type": "code",
   "execution_count": 4,
   "metadata": {},
   "outputs": [
    {
     "data": {
      "text/plain": [
       "Unnamed: 0                       0\n",
       "Fecha extrac                     0\n",
       "Enlace                           0\n",
       "Marca                            0\n",
       "Modelo                         405\n",
       "Precio                           0\n",
       "Localización                     0\n",
       "Potencia                         0\n",
       "Tipo vendedor                    0\n",
       "Categoría                        2\n",
       "Tipo de vehículo                 2\n",
       "puertas                         78\n",
       "Versión del país               465\n",
       "Núm. de oferta                 465\n",
       "Garantía                      2302\n",
       "Kilometraje                    569\n",
       "Año                            569\n",
       "Tipo de cambio                  89\n",
       "Capacidad                     1323\n",
       "Otras fuentes de energía     10226\n",
       "Consumo de combustible\\n2     1926\n",
       "Color exterior                1290\n",
       "Color original                3714\n",
       "Tracción                      2687\n",
       "plazas                        2258\n",
       "Número de marchas             2489\n",
       "Número de cilindros           2732\n",
       "Peso                          3496\n",
       "Tipo de combustible            986\n",
       "dtype: int64"
      ]
     },
     "execution_count": 4,
     "metadata": {},
     "output_type": "execute_result"
    }
   ],
   "source": [
    "df = df.iloc[:,:-21]\n",
    "df.isna().sum()"
   ]
  },
  {
   "cell_type": "markdown",
   "metadata": {},
   "source": [
    "Nos sigue quedando el atributo 'Otras fuentes de energía' con la mayoría de valores en NaN. Lo eliminamos también."
   ]
  },
  {
   "cell_type": "code",
   "execution_count": 5,
   "metadata": {},
   "outputs": [
    {
     "data": {
      "text/plain": [
       "Unnamed: 0                      0\n",
       "Fecha extrac                    0\n",
       "Enlace                          0\n",
       "Marca                           0\n",
       "Modelo                        405\n",
       "Precio                          0\n",
       "Localización                    0\n",
       "Potencia                        0\n",
       "Tipo vendedor                   0\n",
       "Categoría                       2\n",
       "Tipo de vehículo                2\n",
       "puertas                        78\n",
       "Versión del país              465\n",
       "Núm. de oferta                465\n",
       "Garantía                     2302\n",
       "Kilometraje                   569\n",
       "Año                           569\n",
       "Tipo de cambio                 89\n",
       "Capacidad                    1323\n",
       "Consumo de combustible\\n2    1926\n",
       "Color exterior               1290\n",
       "Color original               3714\n",
       "Tracción                     2687\n",
       "plazas                       2258\n",
       "Número de marchas            2489\n",
       "Número de cilindros          2732\n",
       "Peso                         3496\n",
       "Tipo de combustible           986\n",
       "dtype: int64"
      ]
     },
     "execution_count": 5,
     "metadata": {},
     "output_type": "execute_result"
    }
   ],
   "source": [
    "df=df.drop(['Otras fuentes de energía'], axis=1)\n",
    "df.isna().sum()"
   ]
  },
  {
   "cell_type": "markdown",
   "metadata": {},
   "source": [
    "Vamos a ocuparnos ahora de los NaN de los atributos 'Color original' y 'Color exterior'"
   ]
  },
  {
   "cell_type": "code",
   "execution_count": 6,
   "metadata": {},
   "outputs": [
    {
     "data": {
      "text/html": [
       "<div>\n",
       "<style scoped>\n",
       "    .dataframe tbody tr th:only-of-type {\n",
       "        vertical-align: middle;\n",
       "    }\n",
       "\n",
       "    .dataframe tbody tr th {\n",
       "        vertical-align: top;\n",
       "    }\n",
       "\n",
       "    .dataframe thead th {\n",
       "        text-align: right;\n",
       "    }\n",
       "</style>\n",
       "<table border=\"1\" class=\"dataframe\">\n",
       "  <thead>\n",
       "    <tr style=\"text-align: right;\">\n",
       "      <th></th>\n",
       "      <th>Color exterior</th>\n",
       "      <th>Color original</th>\n",
       "    </tr>\n",
       "  </thead>\n",
       "  <tbody>\n",
       "    <tr>\n",
       "      <th>0</th>\n",
       "      <td>Azul</td>\n",
       "      <td>Azul</td>\n",
       "    </tr>\n",
       "    <tr>\n",
       "      <th>1</th>\n",
       "      <td>Negro</td>\n",
       "      <td>Negro Midnight (metalizado)</td>\n",
       "    </tr>\n",
       "    <tr>\n",
       "      <th>2</th>\n",
       "      <td>Gris</td>\n",
       "      <td>NaN</td>\n",
       "    </tr>\n",
       "    <tr>\n",
       "      <th>3</th>\n",
       "      <td>NaN</td>\n",
       "      <td>ROJO</td>\n",
       "    </tr>\n",
       "    <tr>\n",
       "      <th>4</th>\n",
       "      <td>Plateado</td>\n",
       "      <td>Gris Plata</td>\n",
       "    </tr>\n",
       "    <tr>\n",
       "      <th>5</th>\n",
       "      <td>Gris</td>\n",
       "      <td>Gris Ágata</td>\n",
       "    </tr>\n",
       "    <tr>\n",
       "      <th>6</th>\n",
       "      <td>Rojo</td>\n",
       "      <td>Rosso Corsa</td>\n",
       "    </tr>\n",
       "    <tr>\n",
       "      <th>7</th>\n",
       "      <td>Negro</td>\n",
       "      <td>Negro</td>\n",
       "    </tr>\n",
       "    <tr>\n",
       "      <th>8</th>\n",
       "      <td>Blanco</td>\n",
       "      <td>Blanco</td>\n",
       "    </tr>\n",
       "    <tr>\n",
       "      <th>9</th>\n",
       "      <td>Azul</td>\n",
       "      <td>PACK AMG</td>\n",
       "    </tr>\n",
       "    <tr>\n",
       "      <th>10</th>\n",
       "      <td>NaN</td>\n",
       "      <td>NEGRO OBSIDIANA</td>\n",
       "    </tr>\n",
       "    <tr>\n",
       "      <th>11</th>\n",
       "      <td>Negro</td>\n",
       "      <td>NaN</td>\n",
       "    </tr>\n",
       "    <tr>\n",
       "      <th>12</th>\n",
       "      <td>Gris</td>\n",
       "      <td>Selenita</td>\n",
       "    </tr>\n",
       "    <tr>\n",
       "      <th>13</th>\n",
       "      <td>Negro</td>\n",
       "      <td>Negro</td>\n",
       "    </tr>\n",
       "    <tr>\n",
       "      <th>14</th>\n",
       "      <td>Gris</td>\n",
       "      <td>NaN</td>\n",
       "    </tr>\n",
       "    <tr>\n",
       "      <th>15</th>\n",
       "      <td>Gris</td>\n",
       "      <td>Gris</td>\n",
       "    </tr>\n",
       "    <tr>\n",
       "      <th>16</th>\n",
       "      <td>NaN</td>\n",
       "      <td>Blanco polar</td>\n",
       "    </tr>\n",
       "    <tr>\n",
       "      <th>17</th>\n",
       "      <td>Negro</td>\n",
       "      <td>NaN</td>\n",
       "    </tr>\n",
       "    <tr>\n",
       "      <th>18</th>\n",
       "      <td>Gris</td>\n",
       "      <td>Grey Nardo</td>\n",
       "    </tr>\n",
       "    <tr>\n",
       "      <th>19</th>\n",
       "      <td>Negro</td>\n",
       "      <td>NaN</td>\n",
       "    </tr>\n",
       "    <tr>\n",
       "      <th>20</th>\n",
       "      <td>Negro</td>\n",
       "      <td>Negro</td>\n",
       "    </tr>\n",
       "    <tr>\n",
       "      <th>21</th>\n",
       "      <td>Rojo</td>\n",
       "      <td>ROJO</td>\n",
       "    </tr>\n",
       "    <tr>\n",
       "      <th>22</th>\n",
       "      <td>Gris</td>\n",
       "      <td>NaN</td>\n",
       "    </tr>\n",
       "    <tr>\n",
       "      <th>23</th>\n",
       "      <td>NaN</td>\n",
       "      <td>BLANCO POLAR - PINTURA UN</td>\n",
       "    </tr>\n",
       "    <tr>\n",
       "      <th>24</th>\n",
       "      <td>Negro</td>\n",
       "      <td>Negro</td>\n",
       "    </tr>\n",
       "    <tr>\n",
       "      <th>25</th>\n",
       "      <td>Negro</td>\n",
       "      <td>Negro</td>\n",
       "    </tr>\n",
       "    <tr>\n",
       "      <th>26</th>\n",
       "      <td>Gris</td>\n",
       "      <td>NaN</td>\n",
       "    </tr>\n",
       "    <tr>\n",
       "      <th>27</th>\n",
       "      <td>Azul</td>\n",
       "      <td>NaN</td>\n",
       "    </tr>\n",
       "    <tr>\n",
       "      <th>28</th>\n",
       "      <td>Blanco</td>\n",
       "      <td>Blanco</td>\n",
       "    </tr>\n",
       "    <tr>\n",
       "      <th>29</th>\n",
       "      <td>Gris</td>\n",
       "      <td>Gris</td>\n",
       "    </tr>\n",
       "    <tr>\n",
       "      <th>30</th>\n",
       "      <td>Negro</td>\n",
       "      <td>Negro Noche</td>\n",
       "    </tr>\n",
       "    <tr>\n",
       "      <th>31</th>\n",
       "      <td>Blanco</td>\n",
       "      <td>Blanco</td>\n",
       "    </tr>\n",
       "    <tr>\n",
       "      <th>32</th>\n",
       "      <td>Blanco</td>\n",
       "      <td>NaN</td>\n",
       "    </tr>\n",
       "    <tr>\n",
       "      <th>33</th>\n",
       "      <td>NaN</td>\n",
       "      <td>Gris-negro</td>\n",
       "    </tr>\n",
       "    <tr>\n",
       "      <th>34</th>\n",
       "      <td>Gris</td>\n",
       "      <td>M Brooklyn Grey Metallic</td>\n",
       "    </tr>\n",
       "    <tr>\n",
       "      <th>35</th>\n",
       "      <td>Gris</td>\n",
       "      <td>R-DYNAMIC</td>\n",
       "    </tr>\n",
       "    <tr>\n",
       "      <th>36</th>\n",
       "      <td>Gris</td>\n",
       "      <td>Gris</td>\n",
       "    </tr>\n",
       "    <tr>\n",
       "      <th>37</th>\n",
       "      <td>Plateado</td>\n",
       "      <td>Plateado</td>\n",
       "    </tr>\n",
       "    <tr>\n",
       "      <th>38</th>\n",
       "      <td>Negro</td>\n",
       "      <td>Negro</td>\n",
       "    </tr>\n",
       "    <tr>\n",
       "      <th>39</th>\n",
       "      <td>Negro</td>\n",
       "      <td>NaN</td>\n",
       "    </tr>\n",
       "    <tr>\n",
       "      <th>40</th>\n",
       "      <td>Azul</td>\n",
       "      <td>Ink Blue Metallic (C7)</td>\n",
       "    </tr>\n",
       "    <tr>\n",
       "      <th>41</th>\n",
       "      <td>Gris</td>\n",
       "      <td>Gris Daytona efecto perla</td>\n",
       "    </tr>\n",
       "    <tr>\n",
       "      <th>42</th>\n",
       "      <td>Negro</td>\n",
       "      <td>Negro Obsidiana</td>\n",
       "    </tr>\n",
       "    <tr>\n",
       "      <th>43</th>\n",
       "      <td>Gris</td>\n",
       "      <td>NaN</td>\n",
       "    </tr>\n",
       "    <tr>\n",
       "      <th>44</th>\n",
       "      <td>Amarillo</td>\n",
       "      <td>NaN</td>\n",
       "    </tr>\n",
       "    <tr>\n",
       "      <th>45</th>\n",
       "      <td>Blanco</td>\n",
       "      <td>NaN</td>\n",
       "    </tr>\n",
       "    <tr>\n",
       "      <th>46</th>\n",
       "      <td>Negro</td>\n",
       "      <td>NaN</td>\n",
       "    </tr>\n",
       "    <tr>\n",
       "      <th>47</th>\n",
       "      <td>Negro</td>\n",
       "      <td>Negro</td>\n",
       "    </tr>\n",
       "    <tr>\n",
       "      <th>48</th>\n",
       "      <td>Gris</td>\n",
       "      <td>GRAPHENE</td>\n",
       "    </tr>\n",
       "    <tr>\n",
       "      <th>49</th>\n",
       "      <td>Negro</td>\n",
       "      <td>Negro</td>\n",
       "    </tr>\n",
       "    <tr>\n",
       "      <th>50</th>\n",
       "      <td>Azul</td>\n",
       "      <td>Azul metalizado (CAVANSITE BLU</td>\n",
       "    </tr>\n",
       "  </tbody>\n",
       "</table>\n",
       "</div>"
      ],
      "text/plain": [
       "   Color exterior                  Color original\n",
       "0            Azul                            Azul\n",
       "1           Negro     Negro Midnight (metalizado)\n",
       "2            Gris                             NaN\n",
       "3             NaN                            ROJO\n",
       "4        Plateado                      Gris Plata\n",
       "5            Gris                      Gris Ágata\n",
       "6            Rojo                     Rosso Corsa\n",
       "7           Negro                           Negro\n",
       "8          Blanco                          Blanco\n",
       "9            Azul                        PACK AMG\n",
       "10            NaN                 NEGRO OBSIDIANA\n",
       "11          Negro                             NaN\n",
       "12           Gris                        Selenita\n",
       "13          Negro                           Negro\n",
       "14           Gris                             NaN\n",
       "15           Gris                            Gris\n",
       "16            NaN                    Blanco polar\n",
       "17          Negro                             NaN\n",
       "18           Gris                      Grey Nardo\n",
       "19          Negro                             NaN\n",
       "20          Negro                           Negro\n",
       "21           Rojo                            ROJO\n",
       "22           Gris                             NaN\n",
       "23            NaN       BLANCO POLAR - PINTURA UN\n",
       "24          Negro                           Negro\n",
       "25          Negro                           Negro\n",
       "26           Gris                             NaN\n",
       "27           Azul                             NaN\n",
       "28         Blanco                          Blanco\n",
       "29           Gris                            Gris\n",
       "30          Negro                     Negro Noche\n",
       "31         Blanco                          Blanco\n",
       "32         Blanco                             NaN\n",
       "33            NaN                      Gris-negro\n",
       "34           Gris        M Brooklyn Grey Metallic\n",
       "35           Gris                       R-DYNAMIC\n",
       "36           Gris                            Gris\n",
       "37       Plateado                        Plateado\n",
       "38          Negro                           Negro\n",
       "39          Negro                             NaN\n",
       "40           Azul          Ink Blue Metallic (C7)\n",
       "41           Gris       Gris Daytona efecto perla\n",
       "42          Negro                 Negro Obsidiana\n",
       "43           Gris                             NaN\n",
       "44       Amarillo                             NaN\n",
       "45         Blanco                             NaN\n",
       "46          Negro                             NaN\n",
       "47          Negro                           Negro\n",
       "48           Gris                        GRAPHENE\n",
       "49          Negro                           Negro\n",
       "50           Azul  Azul metalizado (CAVANSITE BLU"
      ]
     },
     "execution_count": 6,
     "metadata": {},
     "output_type": "execute_result"
    }
   ],
   "source": [
    "df.loc[:50, ['Color exterior', 'Color original']]"
   ]
  },
  {
   "cell_type": "markdown",
   "metadata": {},
   "source": [
    "Asumiremos que la mayoría de coches no son repintados para cambiarles el color. De manera que cuando haya un NaN en el color original le copiaremos el valor del color exterior y viceversa."
   ]
  },
  {
   "cell_type": "code",
   "execution_count": 7,
   "metadata": {},
   "outputs": [],
   "source": [
    "df['Color exterior'].fillna(df['Color original'], inplace=True)\n",
    "df['Color original'].fillna(df['Color exterior'], inplace=True)"
   ]
  },
  {
   "cell_type": "code",
   "execution_count": 8,
   "metadata": {},
   "outputs": [
    {
     "data": {
      "text/plain": [
       "Unnamed: 0                      0\n",
       "Fecha extrac                    0\n",
       "Enlace                          0\n",
       "Marca                           0\n",
       "Modelo                        405\n",
       "Precio                          0\n",
       "Localización                    0\n",
       "Potencia                        0\n",
       "Tipo vendedor                   0\n",
       "Categoría                       2\n",
       "Tipo de vehículo                2\n",
       "puertas                        78\n",
       "Versión del país              465\n",
       "Núm. de oferta                465\n",
       "Garantía                     2302\n",
       "Kilometraje                   569\n",
       "Año                           569\n",
       "Tipo de cambio                 89\n",
       "Capacidad                    1323\n",
       "Consumo de combustible\\n2    1926\n",
       "Color exterior                704\n",
       "Color original                704\n",
       "Tracción                     2687\n",
       "plazas                       2258\n",
       "Número de marchas            2489\n",
       "Número de cilindros          2732\n",
       "Peso                         3496\n",
       "Tipo de combustible           986\n",
       "dtype: int64"
      ]
     },
     "execution_count": 8,
     "metadata": {},
     "output_type": "execute_result"
    }
   ],
   "source": [
    "df.isna().sum()"
   ]
  },
  {
   "cell_type": "markdown",
   "metadata": {},
   "source": [
    "Con esta maniobra hemos reducido los NaN de la variable 'Color exterior' a casi la mitad y los de la variable 'Color original' en un 80%. No creemos que el color sea un dato tan relevante como para justificar eliminar 640 registros, así que lo rellenaremos con la moda."
   ]
  },
  {
   "cell_type": "code",
   "execution_count": 9,
   "metadata": {},
   "outputs": [
    {
     "name": "stdout",
     "output_type": "stream",
     "text": [
      "La moda de 'Color exterior' es Blanco\n",
      "La moda de 'Color original' es Blanco\n"
     ]
    }
   ],
   "source": [
    "print(\"La moda de 'Color exterior' es\", df['Color exterior'].mode()[0])\n",
    "print(\"La moda de 'Color original' es\", df['Color original'].mode()[0])"
   ]
  },
  {
   "cell_type": "code",
   "execution_count": 10,
   "metadata": {},
   "outputs": [
    {
     "data": {
      "text/plain": [
       "Unnamed: 0                      0\n",
       "Fecha extrac                    0\n",
       "Enlace                          0\n",
       "Marca                           0\n",
       "Modelo                        405\n",
       "Precio                          0\n",
       "Localización                    0\n",
       "Potencia                        0\n",
       "Tipo vendedor                   0\n",
       "Categoría                       2\n",
       "Tipo de vehículo                2\n",
       "puertas                        78\n",
       "Versión del país              465\n",
       "Núm. de oferta                465\n",
       "Garantía                     2302\n",
       "Kilometraje                   569\n",
       "Año                           569\n",
       "Tipo de cambio                 89\n",
       "Capacidad                    1323\n",
       "Consumo de combustible\\n2    1926\n",
       "Color exterior                  0\n",
       "Color original                  0\n",
       "Tracción                     2687\n",
       "plazas                       2258\n",
       "Número de marchas            2489\n",
       "Número de cilindros          2732\n",
       "Peso                         3496\n",
       "Tipo de combustible           986\n",
       "dtype: int64"
      ]
     },
     "execution_count": 10,
     "metadata": {},
     "output_type": "execute_result"
    }
   ],
   "source": [
    "df['Color exterior'].fillna(df['Color exterior'].mode()[0], inplace=True)\n",
    "df['Color original'].fillna(df['Color original'].mode()[0], inplace=True)\n",
    "df.isna().sum()"
   ]
  },
  {
   "cell_type": "markdown",
   "metadata": {},
   "source": [
    "Ahora vamos a ocuparnos de los NaN del atributo Peso. Primero intentaremos ver si los podemos rellenar cogiendo el peso de los coches de la misma marca y modelo que lo tengan indicado."
   ]
  },
  {
   "cell_type": "code",
   "execution_count": 11,
   "metadata": {},
   "outputs": [],
   "source": [
    "df['Peso'] = df.groupby(['Marca', 'Modelo'])['Peso'].fillna(method='ffill')"
   ]
  },
  {
   "cell_type": "code",
   "execution_count": 12,
   "metadata": {},
   "outputs": [
    {
     "data": {
      "text/plain": [
       "Unnamed: 0                      0\n",
       "Fecha extrac                    0\n",
       "Enlace                          0\n",
       "Marca                           0\n",
       "Modelo                        405\n",
       "Precio                          0\n",
       "Localización                    0\n",
       "Potencia                        0\n",
       "Tipo vendedor                   0\n",
       "Categoría                       2\n",
       "Tipo de vehículo                2\n",
       "puertas                        78\n",
       "Versión del país              465\n",
       "Núm. de oferta                465\n",
       "Garantía                     2302\n",
       "Kilometraje                   569\n",
       "Año                           569\n",
       "Tipo de cambio                 89\n",
       "Capacidad                    1323\n",
       "Consumo de combustible\\n2    1926\n",
       "Color exterior                  0\n",
       "Color original                  0\n",
       "Tracción                     2687\n",
       "plazas                       2258\n",
       "Número de marchas            2489\n",
       "Número de cilindros          2732\n",
       "Peso                         1678\n",
       "Tipo de combustible           986\n",
       "dtype: int64"
      ]
     },
     "execution_count": 12,
     "metadata": {},
     "output_type": "execute_result"
    }
   ],
   "source": [
    "df.isna().sum()"
   ]
  },
  {
   "cell_type": "markdown",
   "metadata": {},
   "source": [
    "Así hemos conseguido completar algo más de la mitad de los valores NaN. Vamos a ver si completando de atrás hacia alante conseguimos completar alguno más."
   ]
  },
  {
   "cell_type": "code",
   "execution_count": 13,
   "metadata": {},
   "outputs": [
    {
     "data": {
      "text/plain": [
       "Unnamed: 0                      0\n",
       "Fecha extrac                    0\n",
       "Enlace                          0\n",
       "Marca                           0\n",
       "Modelo                        405\n",
       "Precio                          0\n",
       "Localización                    0\n",
       "Potencia                        0\n",
       "Tipo vendedor                   0\n",
       "Categoría                       2\n",
       "Tipo de vehículo                2\n",
       "puertas                        78\n",
       "Versión del país              465\n",
       "Núm. de oferta                465\n",
       "Garantía                     2302\n",
       "Kilometraje                   569\n",
       "Año                           569\n",
       "Tipo de cambio                 89\n",
       "Capacidad                    1323\n",
       "Consumo de combustible\\n2    1926\n",
       "Color exterior                  0\n",
       "Color original                  0\n",
       "Tracción                     2687\n",
       "plazas                       2258\n",
       "Número de marchas            2489\n",
       "Número de cilindros          2732\n",
       "Peso                          771\n",
       "Tipo de combustible           986\n",
       "dtype: int64"
      ]
     },
     "execution_count": 13,
     "metadata": {},
     "output_type": "execute_result"
    }
   ],
   "source": [
    "df['Peso'] = df.groupby(['Marca', 'Modelo'])['Peso'].fillna(method='bfill')\n",
    "df.isna().sum()"
   ]
  },
  {
   "cell_type": "markdown",
   "metadata": {},
   "source": [
    "Parece que ya no hay más coches de la misma marca y modelo con los que completar la información. Para los restantes queremos ponerle la media de peso de los coches de esa misma marca. Pero no podemos calcularla aún porque el peso es un texto con el sufijo 'kg'. Primero tendremos que quitarle el sufijo y cambiarle el tipo al atributo 'Peso'"
   ]
  },
  {
   "cell_type": "code",
   "execution_count": 14,
   "metadata": {},
   "outputs": [],
   "source": [
    "def process_numbers_and_nans(text):\n",
    "    if pd.isna(text):\n",
    "        return None\n",
    "    numbers = re.findall(r'\\d+', text)\n",
    "    return int(''.join(numbers))"
   ]
  },
  {
   "cell_type": "code",
   "execution_count": 15,
   "metadata": {},
   "outputs": [
    {
     "data": {
      "text/plain": [
       "0    1237.0\n",
       "1    1761.0\n",
       "2    1760.0\n",
       "3    2215.0\n",
       "4    1580.0\n",
       "Name: Peso, dtype: float64"
      ]
     },
     "execution_count": 15,
     "metadata": {},
     "output_type": "execute_result"
    }
   ],
   "source": [
    "df['Peso']=df['Peso'].apply(process_numbers_and_nans)\n",
    "df['Peso'].head()"
   ]
  },
  {
   "cell_type": "markdown",
   "metadata": {},
   "source": [
    "Ahora vamos a aplicar la media de la marca a los pesos que siguen en Nan"
   ]
  },
  {
   "cell_type": "code",
   "execution_count": 16,
   "metadata": {},
   "outputs": [
    {
     "data": {
      "text/plain": [
       "Unnamed: 0                      0\n",
       "Fecha extrac                    0\n",
       "Enlace                          0\n",
       "Marca                           0\n",
       "Modelo                        405\n",
       "Precio                          0\n",
       "Localización                    0\n",
       "Potencia                        0\n",
       "Tipo vendedor                   0\n",
       "Categoría                       2\n",
       "Tipo de vehículo                2\n",
       "puertas                        78\n",
       "Versión del país              465\n",
       "Núm. de oferta                465\n",
       "Garantía                     2302\n",
       "Kilometraje                   569\n",
       "Año                           569\n",
       "Tipo de cambio                 89\n",
       "Capacidad                    1323\n",
       "Consumo de combustible\\n2    1926\n",
       "Color exterior                  0\n",
       "Color original                  0\n",
       "Tracción                     2687\n",
       "plazas                       2258\n",
       "Número de marchas            2489\n",
       "Número de cilindros          2732\n",
       "Peso                            6\n",
       "Tipo de combustible           986\n",
       "dtype: int64"
      ]
     },
     "execution_count": 16,
     "metadata": {},
     "output_type": "execute_result"
    }
   ],
   "source": [
    "df['Peso'] = df.groupby(['Marca'])['Peso'].transform(lambda x: x.fillna(x.mean()))\n",
    "df.isna().sum()"
   ]
  },
  {
   "cell_type": "markdown",
   "metadata": {},
   "source": [
    "Los que quedan en Nan deben ser los que no tienen otros vehículos con la misma marca con peso asignado. Así que los rellenaremos con la media de peso de coches, sin filtrar por marca"
   ]
  },
  {
   "cell_type": "code",
   "execution_count": 17,
   "metadata": {},
   "outputs": [
    {
     "data": {
      "text/plain": [
       "Unnamed: 0                      0\n",
       "Fecha extrac                    0\n",
       "Enlace                          0\n",
       "Marca                           0\n",
       "Modelo                        405\n",
       "Precio                          0\n",
       "Localización                    0\n",
       "Potencia                        0\n",
       "Tipo vendedor                   0\n",
       "Categoría                       2\n",
       "Tipo de vehículo                2\n",
       "puertas                        78\n",
       "Versión del país              465\n",
       "Núm. de oferta                465\n",
       "Garantía                     2302\n",
       "Kilometraje                   569\n",
       "Año                           569\n",
       "Tipo de cambio                 89\n",
       "Capacidad                    1323\n",
       "Consumo de combustible\\n2    1926\n",
       "Color exterior                  0\n",
       "Color original                  0\n",
       "Tracción                     2687\n",
       "plazas                       2258\n",
       "Número de marchas            2489\n",
       "Número de cilindros          2732\n",
       "Peso                            0\n",
       "Tipo de combustible           986\n",
       "dtype: int64"
      ]
     },
     "execution_count": 17,
     "metadata": {},
     "output_type": "execute_result"
    }
   ],
   "source": [
    "df['Peso'] = df['Peso'].transform(lambda x: x.fillna(x.mean()))\n",
    "df.isna().sum()"
   ]
  },
  {
   "cell_type": "markdown",
   "metadata": {},
   "source": [
    "Repetiremos el proceso para el número de cilindros. Primero intentaremos llenar hacia alante y hacia atrás con los coches de la misma marca y modelo."
   ]
  },
  {
   "cell_type": "code",
   "execution_count": 18,
   "metadata": {},
   "outputs": [
    {
     "data": {
      "text/plain": [
       "Unnamed: 0                      0\n",
       "Fecha extrac                    0\n",
       "Enlace                          0\n",
       "Marca                           0\n",
       "Modelo                        405\n",
       "Precio                          0\n",
       "Localización                    0\n",
       "Potencia                        0\n",
       "Tipo vendedor                   0\n",
       "Categoría                       2\n",
       "Tipo de vehículo                2\n",
       "puertas                        78\n",
       "Versión del país              465\n",
       "Núm. de oferta                465\n",
       "Garantía                     2302\n",
       "Kilometraje                   569\n",
       "Año                           569\n",
       "Tipo de cambio                 89\n",
       "Capacidad                    1323\n",
       "Consumo de combustible\\n2    1926\n",
       "Color exterior                  0\n",
       "Color original                  0\n",
       "Tracción                     2687\n",
       "plazas                       2258\n",
       "Número de marchas            2489\n",
       "Número de cilindros           537\n",
       "Peso                            0\n",
       "Tipo de combustible           986\n",
       "dtype: int64"
      ]
     },
     "execution_count": 18,
     "metadata": {},
     "output_type": "execute_result"
    }
   ],
   "source": [
    "df['Número de cilindros'] = df.groupby(['Marca', 'Modelo'])['Número de cilindros'].fillna(method='ffill')\n",
    "df['Número de cilindros'] = df.groupby(['Marca', 'Modelo'])['Número de cilindros'].fillna(method='bfill')\n",
    "df.isna().sum()"
   ]
  },
  {
   "cell_type": "markdown",
   "metadata": {},
   "source": [
    "Hemos reducido significativamente el número de NaN. Ahora aplicaremos la media para esa marca a los que no hemos podido rellenar."
   ]
  },
  {
   "cell_type": "code",
   "execution_count": 19,
   "metadata": {},
   "outputs": [
    {
     "data": {
      "text/plain": [
       "Unnamed: 0                      0\n",
       "Fecha extrac                    0\n",
       "Enlace                          0\n",
       "Marca                           0\n",
       "Modelo                        405\n",
       "Precio                          0\n",
       "Localización                    0\n",
       "Potencia                        0\n",
       "Tipo vendedor                   0\n",
       "Categoría                       2\n",
       "Tipo de vehículo                2\n",
       "puertas                        78\n",
       "Versión del país              465\n",
       "Núm. de oferta                465\n",
       "Garantía                     2302\n",
       "Kilometraje                   569\n",
       "Año                           569\n",
       "Tipo de cambio                 89\n",
       "Capacidad                    1323\n",
       "Consumo de combustible\\n2    1926\n",
       "Color exterior                  0\n",
       "Color original                  0\n",
       "Tracción                     2687\n",
       "plazas                       2258\n",
       "Número de marchas            2489\n",
       "Número de cilindros             6\n",
       "Peso                            0\n",
       "Tipo de combustible           986\n",
       "dtype: int64"
      ]
     },
     "execution_count": 19,
     "metadata": {},
     "output_type": "execute_result"
    }
   ],
   "source": [
    "df['Número de cilindros'] = df.groupby(['Marca'])['Número de cilindros'].transform(lambda x: x.fillna(x.mean()))\n",
    "df.isna().sum()"
   ]
  },
  {
   "cell_type": "markdown",
   "metadata": {},
   "source": [
    "Y por último los que faltan les asignaremos la media de cilindros de todos nuestros registros."
   ]
  },
  {
   "cell_type": "code",
   "execution_count": 20,
   "metadata": {},
   "outputs": [
    {
     "data": {
      "text/plain": [
       "Unnamed: 0                      0\n",
       "Fecha extrac                    0\n",
       "Enlace                          0\n",
       "Marca                           0\n",
       "Modelo                        405\n",
       "Precio                          0\n",
       "Localización                    0\n",
       "Potencia                        0\n",
       "Tipo vendedor                   0\n",
       "Categoría                       2\n",
       "Tipo de vehículo                2\n",
       "puertas                        78\n",
       "Versión del país              465\n",
       "Núm. de oferta                465\n",
       "Garantía                     2302\n",
       "Kilometraje                   569\n",
       "Año                           569\n",
       "Tipo de cambio                 89\n",
       "Capacidad                    1323\n",
       "Consumo de combustible\\n2    1926\n",
       "Color exterior                  0\n",
       "Color original                  0\n",
       "Tracción                     2687\n",
       "plazas                       2258\n",
       "Número de marchas            2489\n",
       "Número de cilindros             0\n",
       "Peso                            0\n",
       "Tipo de combustible           986\n",
       "dtype: int64"
      ]
     },
     "execution_count": 20,
     "metadata": {},
     "output_type": "execute_result"
    }
   ],
   "source": [
    "df['Número de cilindros'] = df['Número de cilindros'].transform(lambda x: x.fillna(x.mean()))\n",
    "df.isna().sum()"
   ]
  },
  {
   "cell_type": "markdown",
   "metadata": {},
   "source": [
    "Como no puede haber decimales en el número de cilindros que contiene un coche lo cambiaremos a entero."
   ]
  },
  {
   "cell_type": "code",
   "execution_count": 21,
   "metadata": {},
   "outputs": [],
   "source": [
    "df['Número de cilindros']=df['Número de cilindros'].astype('int64')"
   ]
  },
  {
   "cell_type": "markdown",
   "metadata": {},
   "source": [
    "Repetiremos el mismo proceso con el número de marchas en el mismo orden. Rellenado con valores de la misma marca y modelo hacia alante y hacia atrás, media de la marca y media de de los coches"
   ]
  },
  {
   "cell_type": "code",
   "execution_count": 22,
   "metadata": {},
   "outputs": [
    {
     "data": {
      "text/plain": [
       "Unnamed: 0                      0\n",
       "Fecha extrac                    0\n",
       "Enlace                          0\n",
       "Marca                           0\n",
       "Modelo                        405\n",
       "Precio                          0\n",
       "Localización                    0\n",
       "Potencia                        0\n",
       "Tipo vendedor                   0\n",
       "Categoría                       2\n",
       "Tipo de vehículo                2\n",
       "puertas                        78\n",
       "Versión del país              465\n",
       "Núm. de oferta                465\n",
       "Garantía                     2302\n",
       "Kilometraje                   569\n",
       "Año                           569\n",
       "Tipo de cambio                 89\n",
       "Capacidad                    1323\n",
       "Consumo de combustible\\n2    1926\n",
       "Color exterior                  0\n",
       "Color original                  0\n",
       "Tracción                     2687\n",
       "plazas                       2258\n",
       "Número de marchas               0\n",
       "Número de cilindros             0\n",
       "Peso                            0\n",
       "Tipo de combustible           986\n",
       "dtype: int64"
      ]
     },
     "execution_count": 22,
     "metadata": {},
     "output_type": "execute_result"
    }
   ],
   "source": [
    "df['Número de marchas'] = df.groupby(['Marca', 'Modelo'])['Número de marchas'].fillna(method='ffill')\n",
    "df['Número de marchas'] = df.groupby(['Marca', 'Modelo'])['Número de marchas'].fillna(method='bfill')\n",
    "df['Número de marchas'] = df.groupby(['Marca'])['Número de marchas'].transform(lambda x: x.fillna(x.mean()))\n",
    "df['Número de marchas'] = df['Número de marchas'].transform(lambda x: x.fillna(x.mean()))\n",
    "df.isna().sum()"
   ]
  },
  {
   "cell_type": "markdown",
   "metadata": {},
   "source": [
    "Cambiaremos la columna a entera porque no puede haber número de marchas decimales"
   ]
  },
  {
   "cell_type": "code",
   "execution_count": 23,
   "metadata": {},
   "outputs": [
    {
     "data": {
      "text/plain": [
       "Número de marchas\n",
       "6     4598\n",
       "5     2038\n",
       "8     1780\n",
       "7     1426\n",
       "1      729\n",
       "9      337\n",
       "4      174\n",
       "3       47\n",
       "2       31\n",
       "10      13\n",
       "Name: count, dtype: int64"
      ]
     },
     "execution_count": 23,
     "metadata": {},
     "output_type": "execute_result"
    }
   ],
   "source": [
    "df['Número de marchas']=df['Número de marchas'].astype('int64')\n",
    "df['Número de marchas'].value_counts()"
   ]
  },
  {
   "cell_type": "markdown",
   "metadata": {},
   "source": [
    "Mismo proceso para el atributo 'Tracción' pero al no tratarse de un atributo numérico, para los dos últimos pasos usaremso la moda en lugar de la media."
   ]
  },
  {
   "cell_type": "code",
   "execution_count": 24,
   "metadata": {},
   "outputs": [
    {
     "data": {
      "text/plain": [
       "Unnamed: 0                      0\n",
       "Fecha extrac                    0\n",
       "Enlace                          0\n",
       "Marca                           0\n",
       "Modelo                        405\n",
       "Precio                          0\n",
       "Localización                    0\n",
       "Potencia                        0\n",
       "Tipo vendedor                   0\n",
       "Categoría                       2\n",
       "Tipo de vehículo                2\n",
       "puertas                        78\n",
       "Versión del país              465\n",
       "Núm. de oferta                465\n",
       "Garantía                     2302\n",
       "Kilometraje                   569\n",
       "Año                           569\n",
       "Tipo de cambio                 89\n",
       "Capacidad                    1323\n",
       "Consumo de combustible\\n2    1926\n",
       "Color exterior                  0\n",
       "Color original                  0\n",
       "Tracción                        0\n",
       "plazas                       2258\n",
       "Número de marchas               0\n",
       "Número de cilindros             0\n",
       "Peso                            0\n",
       "Tipo de combustible           986\n",
       "dtype: int64"
      ]
     },
     "execution_count": 24,
     "metadata": {},
     "output_type": "execute_result"
    }
   ],
   "source": [
    "df['Tracción'] = df.groupby(['Marca', 'Modelo'])['Tracción'].fillna(method='ffill')\n",
    "df['Tracción'] = df.groupby(['Marca', 'Modelo'])['Tracción'].fillna(method='bfill')\n",
    "#El siguiente bloque está con try/except porque si la moda de la marca era NaN crasheaba.\n",
    "try:\n",
    "    df['Tracción'] = df.groupby(['Marca'])['Tracción'].transform(lambda x: x.fillna(x.mode()[0]))\n",
    "except:\n",
    "    pass\n",
    "df['Tracción'] = df['Tracción'].transform(lambda x: x.fillna(x.mode()[0]))\n",
    "df.isna().sum()"
   ]
  },
  {
   "cell_type": "markdown",
   "metadata": {},
   "source": [
    "Pasamos al atributo 'Garantía'. Lo primero que haremos es quitar el sufijo 'mes' que aparece después de cada valor."
   ]
  },
  {
   "cell_type": "code",
   "execution_count": 25,
   "metadata": {},
   "outputs": [
    {
     "data": {
      "text/plain": [
       "0      12\n",
       "1      12\n",
       "2      12\n",
       "3      12\n",
       "4      12\n",
       "5      18\n",
       "6      12\n",
       "7      12\n",
       "8      12\n",
       "9      12\n",
       "10     24\n",
       "11     12\n",
       "12     24\n",
       "13    NaN\n",
       "14    NaN\n",
       "15     12\n",
       "16     36\n",
       "17    NaN\n",
       "18     12\n",
       "19     12\n",
       "Name: Garantía, dtype: object"
      ]
     },
     "execution_count": 25,
     "metadata": {},
     "output_type": "execute_result"
    }
   ],
   "source": [
    "df['Garantía']=df['Garantía'].str.extract(r'(\\d+)')\n",
    "df['Garantía'].head(20)"
   ]
  },
  {
   "cell_type": "markdown",
   "metadata": {},
   "source": [
    "En España la legislación dice que los vendedores particulares deben ofrecer 6 meses de garantía para cubrir las averías ocultas que un vehículo de segunda mano pudiera tener.\n",
    "En el caso de vendedores profesionales la garantía que deben ofrecer es de 12 meses. Así que rellenaremos los Nan según la legalidad que ha de ofrecer el tipo de vendedor."
   ]
  },
  {
   "cell_type": "code",
   "execution_count": 26,
   "metadata": {},
   "outputs": [
    {
     "data": {
      "text/plain": [
       "Unnamed: 0                      0\n",
       "Fecha extrac                    0\n",
       "Enlace                          0\n",
       "Marca                           0\n",
       "Modelo                        405\n",
       "Precio                          0\n",
       "Localización                    0\n",
       "Potencia                        0\n",
       "Tipo vendedor                   0\n",
       "Categoría                       2\n",
       "Tipo de vehículo                2\n",
       "puertas                        78\n",
       "Versión del país              465\n",
       "Núm. de oferta                465\n",
       "Garantía                        0\n",
       "Kilometraje                   569\n",
       "Año                           569\n",
       "Tipo de cambio                 89\n",
       "Capacidad                    1323\n",
       "Consumo de combustible\\n2    1926\n",
       "Color exterior                  0\n",
       "Color original                  0\n",
       "Tracción                        0\n",
       "plazas                       2258\n",
       "Número de marchas               0\n",
       "Número de cilindros             0\n",
       "Peso                            0\n",
       "Tipo de combustible           986\n",
       "dtype: int64"
      ]
     },
     "execution_count": 26,
     "metadata": {},
     "output_type": "execute_result"
    }
   ],
   "source": [
    "df['Garantía'] = df.apply(lambda row: 6 if row['Tipo vendedor'] != 'Prof.' and pd.isna(row['Garantía']) else row['Garantía'], axis=1)\n",
    "df['Garantía'].fillna(12, inplace=True)\n",
    "df.isna().sum()"
   ]
  },
  {
   "cell_type": "markdown",
   "metadata": {},
   "source": [
    "Para el consumo de combustible haremos el proceso de rellenar con los datos de misma marca y modelo, hacia alante y hacia atrás. En este caso la variable es texto por el momento, así que aplicaremos la moda cuando la copiemos de la marca o genérica. Primero le cambiaremos el nombre a la columna."
   ]
  },
  {
   "cell_type": "code",
   "execution_count": 27,
   "metadata": {},
   "outputs": [],
   "source": [
    "df=df.rename(columns={'Consumo de combustible\\n2' : 'Consumo de combustible'})"
   ]
  },
  {
   "cell_type": "code",
   "execution_count": 28,
   "metadata": {},
   "outputs": [
    {
     "data": {
      "text/plain": [
       "Unnamed: 0                   0\n",
       "Fecha extrac                 0\n",
       "Enlace                       0\n",
       "Marca                        0\n",
       "Modelo                     405\n",
       "Precio                       0\n",
       "Localización                 0\n",
       "Potencia                     0\n",
       "Tipo vendedor                0\n",
       "Categoría                    2\n",
       "Tipo de vehículo             2\n",
       "puertas                     78\n",
       "Versión del país           465\n",
       "Núm. de oferta             465\n",
       "Garantía                     0\n",
       "Kilometraje                569\n",
       "Año                        569\n",
       "Tipo de cambio              89\n",
       "Capacidad                 1323\n",
       "Consumo de combustible       0\n",
       "Color exterior               0\n",
       "Color original               0\n",
       "Tracción                     0\n",
       "plazas                    2258\n",
       "Número de marchas            0\n",
       "Número de cilindros          0\n",
       "Peso                         0\n",
       "Tipo de combustible        986\n",
       "dtype: int64"
      ]
     },
     "execution_count": 28,
     "metadata": {},
     "output_type": "execute_result"
    }
   ],
   "source": [
    "df['Consumo de combustible'] = df.groupby(['Marca', 'Modelo'])['Consumo de combustible'].fillna(method='ffill')\n",
    "df['Consumo de combustible'] = df.groupby(['Marca', 'Modelo'])['Consumo de combustible'].fillna(method='bfill')\n",
    "try:\n",
    "    df['Consumo de combustible'] = df.groupby(['Marca'])['Consumo de combustible'].transform(lambda x: x.fillna(x.mode()[0]))\n",
    "except:\n",
    "    pass\n",
    "df['Consumo de combustible'] = df['Consumo de combustible'].transform(lambda x: x.fillna(x.mode()[0]))\n",
    "df.isna().sum()"
   ]
  },
  {
   "cell_type": "markdown",
   "metadata": {},
   "source": [
    "A continuación nos ocuparemos de la capacidad. Empezaremos quitando 'cm3' después de los valores y dejando solo el número, como hicimos con los kms. Luego llenaremos según marca y modelo, luego la media de la marca, y finalmente la media total"
   ]
  },
  {
   "cell_type": "code",
   "execution_count": 29,
   "metadata": {},
   "outputs": [],
   "source": [
    "df['Capacidad']=df['Capacidad'].apply(process_numbers_and_nans)"
   ]
  },
  {
   "cell_type": "code",
   "execution_count": 30,
   "metadata": {},
   "outputs": [],
   "source": [
    "df['Capacidad'] = df.groupby(['Marca', 'Modelo'])['Capacidad'].fillna(method='ffill')\n",
    "df['Capacidad'] = df.groupby(['Marca', 'Modelo'])['Capacidad'].fillna(method='bfill')\n",
    "df['Capacidad'] = df.groupby(['Marca'])['Capacidad'].transform(lambda x: x.fillna(x.mean()))\n",
    "df['Capacidad'] = df['Capacidad'].transform(lambda x: x.fillna(x.mean()))"
   ]
  },
  {
   "cell_type": "code",
   "execution_count": 31,
   "metadata": {},
   "outputs": [
    {
     "data": {
      "text/plain": [
       "Unnamed: 0                   0\n",
       "Fecha extrac                 0\n",
       "Enlace                       0\n",
       "Marca                        0\n",
       "Modelo                     405\n",
       "Precio                       0\n",
       "Localización                 0\n",
       "Potencia                     0\n",
       "Tipo vendedor                0\n",
       "Categoría                    2\n",
       "Tipo de vehículo             2\n",
       "puertas                     78\n",
       "Versión del país           465\n",
       "Núm. de oferta             465\n",
       "Garantía                     0\n",
       "Kilometraje                569\n",
       "Año                        569\n",
       "Tipo de cambio              89\n",
       "Capacidad                    0\n",
       "Consumo de combustible       0\n",
       "Color exterior               0\n",
       "Color original               0\n",
       "Tracción                     0\n",
       "plazas                    2258\n",
       "Número de marchas            0\n",
       "Número de cilindros          0\n",
       "Peso                         0\n",
       "Tipo de combustible        986\n",
       "dtype: int64"
      ]
     },
     "execution_count": 31,
     "metadata": {},
     "output_type": "execute_result"
    }
   ],
   "source": [
    "df.isna().sum()"
   ]
  },
  {
   "cell_type": "markdown",
   "metadata": {},
   "source": [
    "El mismo proceso que venimos aplicando ahora para el número de plazas."
   ]
  },
  {
   "cell_type": "code",
   "execution_count": 32,
   "metadata": {},
   "outputs": [
    {
     "data": {
      "text/plain": [
       "Unnamed: 0                  0\n",
       "Fecha extrac                0\n",
       "Enlace                      0\n",
       "Marca                       0\n",
       "Modelo                    405\n",
       "Precio                      0\n",
       "Localización                0\n",
       "Potencia                    0\n",
       "Tipo vendedor               0\n",
       "Categoría                   2\n",
       "Tipo de vehículo            2\n",
       "puertas                    78\n",
       "Versión del país          465\n",
       "Núm. de oferta            465\n",
       "Garantía                    0\n",
       "Kilometraje               569\n",
       "Año                       569\n",
       "Tipo de cambio             89\n",
       "Capacidad                   0\n",
       "Consumo de combustible      0\n",
       "Color exterior              0\n",
       "Color original              0\n",
       "Tracción                    0\n",
       "plazas                      0\n",
       "Número de marchas           0\n",
       "Número de cilindros         0\n",
       "Peso                        0\n",
       "Tipo de combustible       986\n",
       "dtype: int64"
      ]
     },
     "execution_count": 32,
     "metadata": {},
     "output_type": "execute_result"
    }
   ],
   "source": [
    "df['plazas'] = df.groupby(['Marca', 'Modelo'])['plazas'].fillna(method='ffill')\n",
    "df['plazas'] = df.groupby(['Marca', 'Modelo'])['plazas'].fillna(method='bfill')\n",
    "try:\n",
    "    df['plazas'] = df.groupby(['Marca'])['plazas'].transform(lambda x: x.fillna(x.mode()[0]))\n",
    "except:\n",
    "    pass\n",
    "df['plazas'] = df['plazas'].transform(lambda x: x.fillna(x.mode()[0]))\n",
    "df.isna().sum()"
   ]
  },
  {
   "cell_type": "markdown",
   "metadata": {},
   "source": [
    "Repetiremos para el tipo de combustible"
   ]
  },
  {
   "cell_type": "code",
   "execution_count": 33,
   "metadata": {},
   "outputs": [
    {
     "data": {
      "text/plain": [
       "Unnamed: 0                  0\n",
       "Fecha extrac                0\n",
       "Enlace                      0\n",
       "Marca                       0\n",
       "Modelo                    405\n",
       "Precio                      0\n",
       "Localización                0\n",
       "Potencia                    0\n",
       "Tipo vendedor               0\n",
       "Categoría                   2\n",
       "Tipo de vehículo            2\n",
       "puertas                    78\n",
       "Versión del país          465\n",
       "Núm. de oferta            465\n",
       "Garantía                    0\n",
       "Kilometraje               569\n",
       "Año                       569\n",
       "Tipo de cambio             89\n",
       "Capacidad                   0\n",
       "Consumo de combustible      0\n",
       "Color exterior              0\n",
       "Color original              0\n",
       "Tracción                    0\n",
       "plazas                      0\n",
       "Número de marchas           0\n",
       "Número de cilindros         0\n",
       "Peso                        0\n",
       "Tipo de combustible         0\n",
       "dtype: int64"
      ]
     },
     "execution_count": 33,
     "metadata": {},
     "output_type": "execute_result"
    }
   ],
   "source": [
    "df['Tipo de combustible'] = df.groupby(['Marca', 'Modelo'])['Tipo de combustible'].fillna(method='ffill')\n",
    "df['Tipo de combustible'] = df.groupby(['Marca', 'Modelo'])['Tipo de combustible'].fillna(method='bfill')\n",
    "try:\n",
    "    df['Tipo de combustible'] = df.groupby(['Marca'])['Tipo de combustible'].transform(lambda x: x.fillna(x.mode()[0]))\n",
    "except:\n",
    "    pass\n",
    "df['Tipo de combustible'] = df['Tipo de combustible'].transform(lambda x: x.fillna(x.mode()[0]))\n",
    "df.isna().sum()"
   ]
  },
  {
   "cell_type": "markdown",
   "metadata": {},
   "source": [
    "Ahora lo aplicamos para el año, y luego separaremos la fecha en formato mm/aa en 'Mes' y 'Año'"
   ]
  },
  {
   "cell_type": "code",
   "execution_count": 34,
   "metadata": {},
   "outputs": [
    {
     "data": {
      "text/plain": [
       "Año\n",
       "04/2023    271\n",
       "05/2019    190\n",
       "04/2019    178\n",
       "08/2019    168\n",
       "07/2019    161\n",
       "          ... \n",
       "03/1998      1\n",
       "11/1992      1\n",
       "01/1992      1\n",
       "09/1988      1\n",
       "03/1987      1\n",
       "Name: count, Length: 545, dtype: int64"
      ]
     },
     "execution_count": 34,
     "metadata": {},
     "output_type": "execute_result"
    }
   ],
   "source": [
    "df['Año'].value_counts()"
   ]
  },
  {
   "cell_type": "code",
   "execution_count": 35,
   "metadata": {},
   "outputs": [],
   "source": [
    "df['Año'].fillna('', inplace=True)\n",
    "df[['Mes', 'Año']] = df['Año'].str.split('/', expand=True)\n",
    "df['Año']=df['Año'].apply(process_numbers_and_nans)"
   ]
  },
  {
   "cell_type": "code",
   "execution_count": 36,
   "metadata": {},
   "outputs": [
    {
     "data": {
      "text/plain": [
       "Unnamed: 0                  0\n",
       "Fecha extrac                0\n",
       "Enlace                      0\n",
       "Marca                       0\n",
       "Modelo                    405\n",
       "Precio                      0\n",
       "Localización                0\n",
       "Potencia                    0\n",
       "Tipo vendedor               0\n",
       "Categoría                   2\n",
       "Tipo de vehículo            2\n",
       "puertas                    78\n",
       "Versión del país          465\n",
       "Núm. de oferta            465\n",
       "Garantía                    0\n",
       "Kilometraje               569\n",
       "Año                       569\n",
       "Tipo de cambio             89\n",
       "Capacidad                   0\n",
       "Consumo de combustible      0\n",
       "Color exterior              0\n",
       "Color original              0\n",
       "Tracción                    0\n",
       "plazas                    405\n",
       "Número de marchas           0\n",
       "Número de cilindros         0\n",
       "Peso                        0\n",
       "Tipo de combustible         0\n",
       "Mes                         0\n",
       "dtype: int64"
      ]
     },
     "execution_count": 36,
     "metadata": {},
     "output_type": "execute_result"
    }
   ],
   "source": [
    "try:\n",
    "    df['plazas'] = df.groupby(['Marca', 'Modelo'])['plazas'].transform(lambda x: x.fillna(x.mode()[0]))\n",
    "except:\n",
    "    pass\n",
    "df.isna().sum()\n"
   ]
  },
  {
   "cell_type": "markdown",
   "metadata": {},
   "source": [
    "Para el año hemos intentado que dentro de la misma marca y el mismo modelo nos buscara la moda del año que más hay de ese modelo, pero no nos ha servido para disminuir el número de NaNs. En este caso no parece buena idea coger la media de la marca o general porque las mismas marcas llevan fabricando coches muchas décadas y una mala asignación del año de un vehículo en el rango de décadas afectaría mucho a la predicción. Así que eliminaremos los registros de los que no podemos obtener el año."
   ]
  },
  {
   "cell_type": "code",
   "execution_count": 37,
   "metadata": {},
   "outputs": [
    {
     "data": {
      "text/plain": [
       "Unnamed: 0                  0\n",
       "Fecha extrac                0\n",
       "Enlace                      0\n",
       "Marca                       0\n",
       "Modelo                    378\n",
       "Precio                      0\n",
       "Localización                0\n",
       "Potencia                    0\n",
       "Tipo vendedor               0\n",
       "Categoría                   0\n",
       "Tipo de vehículo            0\n",
       "puertas                    76\n",
       "Versión del país          463\n",
       "Núm. de oferta            463\n",
       "Garantía                    0\n",
       "Kilometraje                 0\n",
       "Año                         0\n",
       "Tipo de cambio             87\n",
       "Capacidad                   0\n",
       "Consumo de combustible      0\n",
       "Color exterior              0\n",
       "Color original              0\n",
       "Tracción                    0\n",
       "plazas                    378\n",
       "Número de marchas           0\n",
       "Número de cilindros         0\n",
       "Peso                        0\n",
       "Tipo de combustible         0\n",
       "Mes                         0\n",
       "dtype: int64"
      ]
     },
     "execution_count": 37,
     "metadata": {},
     "output_type": "execute_result"
    }
   ],
   "source": [
    "df=df[df['Año'].notna()]\n",
    "df.isna().sum()"
   ]
  },
  {
   "cell_type": "markdown",
   "metadata": {},
   "source": [
    "Pasamos al atributo 'Version del país'. El único valor disponible en el dataset es España, así que es el que asignaremos a todos los vehículos con Nan en ese atributo"
   ]
  },
  {
   "cell_type": "code",
   "execution_count": 38,
   "metadata": {},
   "outputs": [
    {
     "data": {
      "text/plain": [
       "Versión del país\n",
       "España    10141\n",
       "Name: count, dtype: int64"
      ]
     },
     "execution_count": 38,
     "metadata": {},
     "output_type": "execute_result"
    }
   ],
   "source": [
    "df['Versión del país'].value_counts()"
   ]
  },
  {
   "cell_type": "code",
   "execution_count": 39,
   "metadata": {},
   "outputs": [
    {
     "data": {
      "text/plain": [
       "Unnamed: 0                  0\n",
       "Fecha extrac                0\n",
       "Enlace                      0\n",
       "Marca                       0\n",
       "Modelo                    378\n",
       "Precio                      0\n",
       "Localización                0\n",
       "Potencia                    0\n",
       "Tipo vendedor               0\n",
       "Categoría                   0\n",
       "Tipo de vehículo            0\n",
       "puertas                    76\n",
       "Versión del país            0\n",
       "Núm. de oferta            463\n",
       "Garantía                    0\n",
       "Kilometraje                 0\n",
       "Año                         0\n",
       "Tipo de cambio             87\n",
       "Capacidad                   0\n",
       "Consumo de combustible      0\n",
       "Color exterior              0\n",
       "Color original              0\n",
       "Tracción                    0\n",
       "plazas                    378\n",
       "Número de marchas           0\n",
       "Número de cilindros         0\n",
       "Peso                        0\n",
       "Tipo de combustible         0\n",
       "Mes                         0\n",
       "dtype: int64"
      ]
     },
     "execution_count": 39,
     "metadata": {},
     "output_type": "execute_result"
    }
   ],
   "source": [
    "df['Versión del país'].fillna('España', inplace=True)\n",
    "df.isna().sum()"
   ]
  },
  {
   "cell_type": "markdown",
   "metadata": {},
   "source": [
    "El siguiente atributo con NaNs es 'Núm. de oferta'. Este atributo al ser un identificador nos sirve para detectar duplicados, pero una vez se han eliminado estos no tiene interés para el análisis ni el modelo, así que lo eliminaremos."
   ]
  },
  {
   "cell_type": "code",
   "execution_count": 40,
   "metadata": {},
   "outputs": [
    {
     "data": {
      "text/plain": [
       "Núm. de oferta\n",
       "10506192.0    2\n",
       "11062636.0    2\n",
       "9787939.0     2\n",
       "10794610.0    2\n",
       "10889853.0    2\n",
       "             ..\n",
       "8189853.0     1\n",
       "11136647.0    1\n",
       "8906401.0     1\n",
       "8559553.0     1\n",
       "10752433.0    1\n",
       "Name: count, Length: 10136, dtype: int64"
      ]
     },
     "execution_count": 40,
     "metadata": {},
     "output_type": "execute_result"
    }
   ],
   "source": [
    "df['Núm. de oferta'].value_counts()"
   ]
  },
  {
   "cell_type": "code",
   "execution_count": 41,
   "metadata": {},
   "outputs": [
    {
     "data": {
      "text/html": [
       "<div>\n",
       "<style scoped>\n",
       "    .dataframe tbody tr th:only-of-type {\n",
       "        vertical-align: middle;\n",
       "    }\n",
       "\n",
       "    .dataframe tbody tr th {\n",
       "        vertical-align: top;\n",
       "    }\n",
       "\n",
       "    .dataframe thead th {\n",
       "        text-align: right;\n",
       "    }\n",
       "</style>\n",
       "<table border=\"1\" class=\"dataframe\">\n",
       "  <thead>\n",
       "    <tr style=\"text-align: right;\">\n",
       "      <th></th>\n",
       "      <th>Unnamed: 0</th>\n",
       "      <th>Fecha extrac</th>\n",
       "      <th>Enlace</th>\n",
       "      <th>Marca</th>\n",
       "      <th>Modelo</th>\n",
       "      <th>Precio</th>\n",
       "      <th>Localización</th>\n",
       "      <th>Potencia</th>\n",
       "      <th>Tipo vendedor</th>\n",
       "      <th>Categoría</th>\n",
       "      <th>...</th>\n",
       "      <th>Consumo de combustible</th>\n",
       "      <th>Color exterior</th>\n",
       "      <th>Color original</th>\n",
       "      <th>Tracción</th>\n",
       "      <th>plazas</th>\n",
       "      <th>Número de marchas</th>\n",
       "      <th>Número de cilindros</th>\n",
       "      <th>Peso</th>\n",
       "      <th>Tipo de combustible</th>\n",
       "      <th>Mes</th>\n",
       "    </tr>\n",
       "  </thead>\n",
       "  <tbody>\n",
       "    <tr>\n",
       "      <th>360</th>\n",
       "      <td>360</td>\n",
       "      <td>2023-11-11</td>\n",
       "      <td>https://www.autoscout24.es/anuncios/audi-q7-4-...</td>\n",
       "      <td>Audi</td>\n",
       "      <td>Q7</td>\n",
       "      <td>€ 64.623,-</td>\n",
       "      <td>https://maps.google.com/?q=C%2F%20MATRICERS%20...</td>\n",
       "      <td>320 kW (435 CV)</td>\n",
       "      <td>Prof.</td>\n",
       "      <td>SUV/4x4/Pickup</td>\n",
       "      <td>...</td>\n",
       "      <td>0 l/100 km (mixto)\\n0 l/100 km (urbano)\\n0 l/1...</td>\n",
       "      <td>Blanco</td>\n",
       "      <td>Blanco</td>\n",
       "      <td>Tracción delantera</td>\n",
       "      <td>5.0</td>\n",
       "      <td>6</td>\n",
       "      <td>4</td>\n",
       "      <td>1165.0</td>\n",
       "      <td>Diésel</td>\n",
       "      <td>03</td>\n",
       "    </tr>\n",
       "    <tr>\n",
       "      <th>1539</th>\n",
       "      <td>1539</td>\n",
       "      <td>2023-11-13</td>\n",
       "      <td>https://www.autoscout24.es/anuncios/audi-q7-s-...</td>\n",
       "      <td>Audi</td>\n",
       "      <td>Q7</td>\n",
       "      <td>€ 60.912,-</td>\n",
       "      <td>https://maps.google.com/?q=C%2F%20MATRICERS%20...</td>\n",
       "      <td>320 kW (435 CV)</td>\n",
       "      <td>Prof.</td>\n",
       "      <td>SUV/4x4/Pickup</td>\n",
       "      <td>...</td>\n",
       "      <td>5 l/100 km (mixto)\\n5,9 l/100 km (urbano)\\n4,6...</td>\n",
       "      <td>Blanco</td>\n",
       "      <td>Blanco</td>\n",
       "      <td>Tracción delantera</td>\n",
       "      <td>5.0</td>\n",
       "      <td>6</td>\n",
       "      <td>4</td>\n",
       "      <td>1460.0</td>\n",
       "      <td>Diésel</td>\n",
       "      <td>03</td>\n",
       "    </tr>\n",
       "  </tbody>\n",
       "</table>\n",
       "<p>2 rows × 29 columns</p>\n",
       "</div>"
      ],
      "text/plain": [
       "      Unnamed: 0 Fecha extrac  \\\n",
       "360          360   2023-11-11   \n",
       "1539        1539   2023-11-13   \n",
       "\n",
       "                                                 Enlace Marca Modelo  \\\n",
       "360   https://www.autoscout24.es/anuncios/audi-q7-4-...  Audi     Q7   \n",
       "1539  https://www.autoscout24.es/anuncios/audi-q7-s-...  Audi     Q7   \n",
       "\n",
       "          Precio                                       Localización  \\\n",
       "360   € 64.623,-  https://maps.google.com/?q=C%2F%20MATRICERS%20...   \n",
       "1539  € 60.912,-  https://maps.google.com/?q=C%2F%20MATRICERS%20...   \n",
       "\n",
       "             Potencia Tipo vendedor       Categoría  ...  \\\n",
       "360   320 kW (435 CV)         Prof.  SUV/4x4/Pickup  ...   \n",
       "1539  320 kW (435 CV)         Prof.  SUV/4x4/Pickup  ...   \n",
       "\n",
       "                                 Consumo de combustible  Color exterior  \\\n",
       "360   0 l/100 km (mixto)\\n0 l/100 km (urbano)\\n0 l/1...          Blanco   \n",
       "1539  5 l/100 km (mixto)\\n5,9 l/100 km (urbano)\\n4,6...          Blanco   \n",
       "\n",
       "     Color original            Tracción plazas Número de marchas  \\\n",
       "360          Blanco  Tracción delantera    5.0                 6   \n",
       "1539         Blanco  Tracción delantera    5.0                 6   \n",
       "\n",
       "      Número de cilindros    Peso  Tipo de combustible Mes  \n",
       "360                     4  1165.0               Diésel  03  \n",
       "1539                    4  1460.0               Diésel  03  \n",
       "\n",
       "[2 rows x 29 columns]"
      ]
     },
     "execution_count": 41,
     "metadata": {},
     "output_type": "execute_result"
    }
   ],
   "source": [
    "df[df['Núm. de oferta']==10506192.0]"
   ]
  },
  {
   "cell_type": "markdown",
   "metadata": {},
   "source": [
    "Vemos que efectivamente cuando el número de oferta coincide el vehículo anunciado es el mismo. Eliminaremos estos duplicados y posteriormente la columna."
   ]
  },
  {
   "cell_type": "code",
   "execution_count": 42,
   "metadata": {},
   "outputs": [],
   "source": [
    "df=df.drop_duplicates(['Núm. de oferta'], keep='last')"
   ]
  },
  {
   "cell_type": "code",
   "execution_count": 43,
   "metadata": {},
   "outputs": [
    {
     "data": {
      "text/plain": [
       "Núm. de oferta\n",
       "11099248.0    1\n",
       "10997710.0    1\n",
       "9232695.0     1\n",
       "11344210.0    1\n",
       "9821752.0     1\n",
       "             ..\n",
       "8189853.0     1\n",
       "11136647.0    1\n",
       "8906401.0     1\n",
       "8559553.0     1\n",
       "10752433.0    1\n",
       "Name: count, Length: 10136, dtype: int64"
      ]
     },
     "execution_count": 43,
     "metadata": {},
     "output_type": "execute_result"
    }
   ],
   "source": [
    "df['Núm. de oferta'].value_counts()"
   ]
  },
  {
   "cell_type": "code",
   "execution_count": 44,
   "metadata": {},
   "outputs": [
    {
     "data": {
      "text/plain": [
       "Unnamed: 0                  0\n",
       "Fecha extrac                0\n",
       "Enlace                      0\n",
       "Marca                       0\n",
       "Modelo                    349\n",
       "Precio                      0\n",
       "Localización                0\n",
       "Potencia                    0\n",
       "Tipo vendedor               0\n",
       "Categoría                   0\n",
       "Tipo de vehículo            0\n",
       "puertas                    25\n",
       "Versión del país            0\n",
       "Garantía                    0\n",
       "Kilometraje                 0\n",
       "Año                         0\n",
       "Tipo de cambio              7\n",
       "Capacidad                   0\n",
       "Consumo de combustible      0\n",
       "Color exterior              0\n",
       "Color original              0\n",
       "Tracción                    0\n",
       "plazas                    349\n",
       "Número de marchas           0\n",
       "Número de cilindros         0\n",
       "Peso                        0\n",
       "Tipo de combustible         0\n",
       "Mes                         0\n",
       "dtype: int64"
      ]
     },
     "execution_count": 44,
     "metadata": {},
     "output_type": "execute_result"
    }
   ],
   "source": [
    "df=df.drop(['Núm. de oferta'], axis=1)\n",
    "df.isna().sum()"
   ]
  },
  {
   "cell_type": "markdown",
   "metadata": {},
   "source": [
    "Vamos a aplicar el proceso que venimos haciendo al atributo 'plazas'"
   ]
  },
  {
   "cell_type": "code",
   "execution_count": 45,
   "metadata": {},
   "outputs": [
    {
     "data": {
      "text/plain": [
       "Unnamed: 0                  0\n",
       "Fecha extrac                0\n",
       "Enlace                      0\n",
       "Marca                       0\n",
       "Modelo                    349\n",
       "Precio                      0\n",
       "Localización                0\n",
       "Potencia                    0\n",
       "Tipo vendedor               0\n",
       "Categoría                   0\n",
       "Tipo de vehículo            0\n",
       "puertas                    25\n",
       "Versión del país            0\n",
       "Garantía                    0\n",
       "Kilometraje                 0\n",
       "Año                         0\n",
       "Tipo de cambio              7\n",
       "Capacidad                   0\n",
       "Consumo de combustible      0\n",
       "Color exterior              0\n",
       "Color original              0\n",
       "Tracción                    0\n",
       "plazas                      0\n",
       "Número de marchas           0\n",
       "Número de cilindros         0\n",
       "Peso                        0\n",
       "Tipo de combustible         0\n",
       "Mes                         0\n",
       "dtype: int64"
      ]
     },
     "execution_count": 45,
     "metadata": {},
     "output_type": "execute_result"
    }
   ],
   "source": [
    "df['plazas'] = df.groupby(['Marca', 'Modelo'])['plazas'].fillna(method='ffill')\n",
    "df['plazas'] = df.groupby(['Marca', 'Modelo'])['plazas'].fillna(method='bfill')\n",
    "try:\n",
    "    df['plazas'] = df.groupby(['Marca'])['plazas'].transform(lambda x: x.fillna(x.mode()[0]))\n",
    "except:\n",
    "    pass\n",
    "df['plazas'] = df['plazas'].transform(lambda x: x.fillna(x.mode()[0]))\n",
    "df.isna().sum()"
   ]
  },
  {
   "cell_type": "markdown",
   "metadata": {},
   "source": [
    "Los NaN en el atributo 'Modelo' son porque no se ha especificado el modelo en la casilla correspondiente al poner el anuncio. A veces se puede encontrar en la descripción, pero dado que son pocos no compensa el trabajo de intentar encontrarlo allí. Puesto que el modelo es un atributo muy importante a la hora de calcular el precio, tampoco parece razonable imputarlo a través de la moda o similares. Así que borraremos los registros que no tienen el modelo especificado."
   ]
  },
  {
   "cell_type": "code",
   "execution_count": 46,
   "metadata": {},
   "outputs": [
    {
     "data": {
      "text/plain": [
       "Unnamed: 0                 0\n",
       "Fecha extrac               0\n",
       "Enlace                     0\n",
       "Marca                      0\n",
       "Modelo                     0\n",
       "Precio                     0\n",
       "Localización               0\n",
       "Potencia                   0\n",
       "Tipo vendedor              0\n",
       "Categoría                  0\n",
       "Tipo de vehículo           0\n",
       "puertas                   21\n",
       "Versión del país           0\n",
       "Garantía                   0\n",
       "Kilometraje                0\n",
       "Año                        0\n",
       "Tipo de cambio             6\n",
       "Capacidad                  0\n",
       "Consumo de combustible     0\n",
       "Color exterior             0\n",
       "Color original             0\n",
       "Tracción                   0\n",
       "plazas                     0\n",
       "Número de marchas          0\n",
       "Número de cilindros        0\n",
       "Peso                       0\n",
       "Tipo de combustible        0\n",
       "Mes                        0\n",
       "dtype: int64"
      ]
     },
     "execution_count": 46,
     "metadata": {},
     "output_type": "execute_result"
    }
   ],
   "source": [
    "df=df[df['Modelo'].notna()]\n",
    "df.isna().sum()"
   ]
  },
  {
   "cell_type": "markdown",
   "metadata": {},
   "source": [
    "Finalmente solo nos quedan NaN en el atributo 'puertas'. Usaremos el método de copiarlo de coches de la misma marca y modelo o coger la moda de la marca o general."
   ]
  },
  {
   "cell_type": "code",
   "execution_count": 47,
   "metadata": {},
   "outputs": [
    {
     "data": {
      "text/plain": [
       "Unnamed: 0                0\n",
       "Fecha extrac              0\n",
       "Enlace                    0\n",
       "Marca                     0\n",
       "Modelo                    0\n",
       "Precio                    0\n",
       "Localización              0\n",
       "Potencia                  0\n",
       "Tipo vendedor             0\n",
       "Categoría                 0\n",
       "Tipo de vehículo          0\n",
       "puertas                   0\n",
       "Versión del país          0\n",
       "Garantía                  0\n",
       "Kilometraje               0\n",
       "Año                       0\n",
       "Tipo de cambio            6\n",
       "Capacidad                 0\n",
       "Consumo de combustible    0\n",
       "Color exterior            0\n",
       "Color original            0\n",
       "Tracción                  0\n",
       "plazas                    0\n",
       "Número de marchas         0\n",
       "Número de cilindros       0\n",
       "Peso                      0\n",
       "Tipo de combustible       0\n",
       "Mes                       0\n",
       "dtype: int64"
      ]
     },
     "execution_count": 47,
     "metadata": {},
     "output_type": "execute_result"
    }
   ],
   "source": [
    "df['puertas'] = df.groupby(['Marca', 'Modelo'])['puertas'].fillna(method='ffill')\n",
    "df['puertas'] = df.groupby(['Marca', 'Modelo'])['puertas'].fillna(method='bfill')\n",
    "try:\n",
    "    df['puertas'] = df.groupby(['Marca'])['puertas'].transform(lambda x: x.fillna(x.mode()[0]))\n",
    "except:\n",
    "    pass\n",
    "df['puertas'] = df['puertas'].transform(lambda x: x.fillna(x.mode()[0]))\n",
    "df.isna().sum()"
   ]
  },
  {
   "cell_type": "code",
   "execution_count": 48,
   "metadata": {},
   "outputs": [
    {
     "data": {
      "text/html": [
       "<div>\n",
       "<style scoped>\n",
       "    .dataframe tbody tr th:only-of-type {\n",
       "        vertical-align: middle;\n",
       "    }\n",
       "\n",
       "    .dataframe tbody tr th {\n",
       "        vertical-align: top;\n",
       "    }\n",
       "\n",
       "    .dataframe thead th {\n",
       "        text-align: right;\n",
       "    }\n",
       "</style>\n",
       "<table border=\"1\" class=\"dataframe\">\n",
       "  <thead>\n",
       "    <tr style=\"text-align: right;\">\n",
       "      <th></th>\n",
       "      <th>Unnamed: 0</th>\n",
       "      <th>Fecha extrac</th>\n",
       "      <th>Enlace</th>\n",
       "      <th>Marca</th>\n",
       "      <th>Modelo</th>\n",
       "      <th>Precio</th>\n",
       "      <th>Localización</th>\n",
       "      <th>Potencia</th>\n",
       "      <th>Tipo vendedor</th>\n",
       "      <th>Categoría</th>\n",
       "      <th>...</th>\n",
       "      <th>Consumo de combustible</th>\n",
       "      <th>Color exterior</th>\n",
       "      <th>Color original</th>\n",
       "      <th>Tracción</th>\n",
       "      <th>plazas</th>\n",
       "      <th>Número de marchas</th>\n",
       "      <th>Número de cilindros</th>\n",
       "      <th>Peso</th>\n",
       "      <th>Tipo de combustible</th>\n",
       "      <th>Mes</th>\n",
       "    </tr>\n",
       "  </thead>\n",
       "  <tbody>\n",
       "    <tr>\n",
       "      <th>0</th>\n",
       "      <td>0</td>\n",
       "      <td>2023-11-11</td>\n",
       "      <td>https://www.autoscout24.es/anuncios/lynk-co-01...</td>\n",
       "      <td>Lynk &amp; Co</td>\n",
       "      <td>01</td>\n",
       "      <td>€ 22.630,-1</td>\n",
       "      <td>https://maps.google.com/?q=AVENIDA%20CARLOS%20...</td>\n",
       "      <td>145 kW (197 CV)</td>\n",
       "      <td>Prof.</td>\n",
       "      <td>SUV/4x4/Pickup</td>\n",
       "      <td>...</td>\n",
       "      <td>0 l/100 km (mixto)\\n0 l/100 km (urbano)\\n0 l/1...</td>\n",
       "      <td>Azul</td>\n",
       "      <td>Azul</td>\n",
       "      <td>Tracción delantera</td>\n",
       "      <td>5.0</td>\n",
       "      <td>6</td>\n",
       "      <td>3</td>\n",
       "      <td>1237.0</td>\n",
       "      <td>Gasolina</td>\n",
       "      <td>11</td>\n",
       "    </tr>\n",
       "    <tr>\n",
       "      <th>1</th>\n",
       "      <td>1</td>\n",
       "      <td>2023-11-11</td>\n",
       "      <td>https://www.autoscout24.es/anuncios/cupra-form...</td>\n",
       "      <td>Cupra</td>\n",
       "      <td>Formentor</td>\n",
       "      <td>€ 20.995,-</td>\n",
       "      <td>https://maps.google.com/?q=AVENIDA%20DE%20CATA...</td>\n",
       "      <td>110 kW (150 CV)</td>\n",
       "      <td>Prof.</td>\n",
       "      <td>SUV/4x4/Pickup</td>\n",
       "      <td>...</td>\n",
       "      <td>0 l/100 km (mixto)\\n0 l/100 km (urbano)\\n0 l/1...</td>\n",
       "      <td>Negro</td>\n",
       "      <td>Negro Midnight (metalizado)</td>\n",
       "      <td>Tracción a las cuatro ruedas</td>\n",
       "      <td>5.0</td>\n",
       "      <td>7</td>\n",
       "      <td>4</td>\n",
       "      <td>1761.0</td>\n",
       "      <td>Diésel</td>\n",
       "      <td>05</td>\n",
       "    </tr>\n",
       "    <tr>\n",
       "      <th>2</th>\n",
       "      <td>2</td>\n",
       "      <td>2023-11-11</td>\n",
       "      <td>https://www.autoscout24.es/anuncios/gmc-yukon-...</td>\n",
       "      <td>GMC</td>\n",
       "      <td>Yukon</td>\n",
       "      <td>€ 79.000,-</td>\n",
       "      <td>https://maps.google.com/?q=C%2F%20VICENTE%20MU...</td>\n",
       "      <td>313 kW (426 CV)</td>\n",
       "      <td>Prof.</td>\n",
       "      <td>SUV/4x4/Pickup</td>\n",
       "      <td>...</td>\n",
       "      <td>5,1 l/100 km (mixto)\\n5,3 l/100 km (urbano)\\n4...</td>\n",
       "      <td>Gris</td>\n",
       "      <td>Gris</td>\n",
       "      <td>Tracción a las cuatro ruedas</td>\n",
       "      <td>2.0</td>\n",
       "      <td>8</td>\n",
       "      <td>4</td>\n",
       "      <td>1760.0</td>\n",
       "      <td>Diésel</td>\n",
       "      <td>06</td>\n",
       "    </tr>\n",
       "    <tr>\n",
       "      <th>3</th>\n",
       "      <td>3</td>\n",
       "      <td>2023-11-11</td>\n",
       "      <td>https://www.autoscout24.es/anuncios/infiniti-q...</td>\n",
       "      <td>Infiniti</td>\n",
       "      <td>Q50</td>\n",
       "      <td>€ 27.250,-</td>\n",
       "      <td>https://maps.google.com/?q=CARRETERA%20N-II%20...</td>\n",
       "      <td>268 kW (364 CV)</td>\n",
       "      <td>Prof.</td>\n",
       "      <td>Sedán</td>\n",
       "      <td>...</td>\n",
       "      <td>8 l/100 km (mixto)\\n10 l/100 km (urbano)\\n7 l/...</td>\n",
       "      <td>ROJO</td>\n",
       "      <td>ROJO</td>\n",
       "      <td>Tracción a las cuatro ruedas</td>\n",
       "      <td>4.0</td>\n",
       "      <td>8</td>\n",
       "      <td>8</td>\n",
       "      <td>2215.0</td>\n",
       "      <td>Diésel</td>\n",
       "      <td>01</td>\n",
       "    </tr>\n",
       "    <tr>\n",
       "      <th>4</th>\n",
       "      <td>4</td>\n",
       "      <td>2023-11-11</td>\n",
       "      <td>https://www.autoscout24.es/anuncios/audi-r8-4-...</td>\n",
       "      <td>Audi</td>\n",
       "      <td>R8</td>\n",
       "      <td>€ 51.500,-</td>\n",
       "      <td>https://maps.google.com/?q=Ctra.%20Madrid%2C%2...</td>\n",
       "      <td>309 kW (420 CV)</td>\n",
       "      <td>Prof.</td>\n",
       "      <td>Coupé</td>\n",
       "      <td>...</td>\n",
       "      <td>5,3 l/100 km (mixto)\\n6,1 l/100 km (urbano)\\n4...</td>\n",
       "      <td>Plateado</td>\n",
       "      <td>Gris Plata</td>\n",
       "      <td>Tracción delantera</td>\n",
       "      <td>5.0</td>\n",
       "      <td>6</td>\n",
       "      <td>4</td>\n",
       "      <td>1580.0</td>\n",
       "      <td>Diésel</td>\n",
       "      <td>06</td>\n",
       "    </tr>\n",
       "    <tr>\n",
       "      <th>5</th>\n",
       "      <td>5</td>\n",
       "      <td>2023-11-11</td>\n",
       "      <td>https://www.autoscout24.es/anuncios/porsche-99...</td>\n",
       "      <td>Porsche</td>\n",
       "      <td>992</td>\n",
       "      <td>€ 289.900,-</td>\n",
       "      <td>https://maps.google.com/?q=Poligono%20Industri...</td>\n",
       "      <td>478 kW (650 CV)</td>\n",
       "      <td>Prof.</td>\n",
       "      <td>Coupé</td>\n",
       "      <td>...</td>\n",
       "      <td>5,7 l/100 km (mixto)\\n7 l/100 km (urbano)\\n5 l...</td>\n",
       "      <td>Gris</td>\n",
       "      <td>Gris Ágata</td>\n",
       "      <td>Tracción delantera</td>\n",
       "      <td>5.0</td>\n",
       "      <td>5</td>\n",
       "      <td>4</td>\n",
       "      <td>1285.0</td>\n",
       "      <td>Gasolina</td>\n",
       "      <td>11</td>\n",
       "    </tr>\n",
       "    <tr>\n",
       "      <th>6</th>\n",
       "      <td>6</td>\n",
       "      <td>2023-11-11</td>\n",
       "      <td>https://www.autoscout24.es/anuncios/ferrari-81...</td>\n",
       "      <td>Ferrari</td>\n",
       "      <td>812</td>\n",
       "      <td>€ 379.999,-</td>\n",
       "      <td>https://maps.google.com/?q=C%2FCARRIL%20DE%20P...</td>\n",
       "      <td>588 kW (799 CV)</td>\n",
       "      <td>Prof.</td>\n",
       "      <td>Coupé</td>\n",
       "      <td>...</td>\n",
       "      <td>0 l/100 km (mixto)\\n0 l/100 km (urbano)\\n0 l/1...</td>\n",
       "      <td>Rojo</td>\n",
       "      <td>Rosso Corsa</td>\n",
       "      <td>Tracción trasera</td>\n",
       "      <td>5.0</td>\n",
       "      <td>9</td>\n",
       "      <td>4</td>\n",
       "      <td>1870.0</td>\n",
       "      <td>Diésel</td>\n",
       "      <td>01</td>\n",
       "    </tr>\n",
       "    <tr>\n",
       "      <th>7</th>\n",
       "      <td>7</td>\n",
       "      <td>2023-11-11</td>\n",
       "      <td>https://www.autoscout24.es/anuncios/ds-automob...</td>\n",
       "      <td>DS Automobiles</td>\n",
       "      <td>DS 7 Crossback</td>\n",
       "      <td>€ 21.290,-1</td>\n",
       "      <td>https://maps.google.com/?q=AV.%20DE%20AR%C3%93...</td>\n",
       "      <td>96 kW (131 CV)</td>\n",
       "      <td>Prof.</td>\n",
       "      <td>SUV/4x4/Pickup</td>\n",
       "      <td>...</td>\n",
       "      <td>0 l/100 km (mixto)\\n0 l/100 km (urbano)\\n0 l/1...</td>\n",
       "      <td>Negro</td>\n",
       "      <td>Negro</td>\n",
       "      <td>Tracción trasera</td>\n",
       "      <td>5.0</td>\n",
       "      <td>7</td>\n",
       "      <td>10</td>\n",
       "      <td>1339.0</td>\n",
       "      <td>Gasolina</td>\n",
       "      <td>03</td>\n",
       "    </tr>\n",
       "    <tr>\n",
       "      <th>8</th>\n",
       "      <td>8</td>\n",
       "      <td>2023-11-11</td>\n",
       "      <td>https://www.autoscout24.es/anuncios/bentley-co...</td>\n",
       "      <td>Bentley</td>\n",
       "      <td>Continental</td>\n",
       "      <td>€ 64.500,-</td>\n",
       "      <td>https://maps.google.com/?q=Crtra.de%20Cadiz%20...</td>\n",
       "      <td>449 kW (610 CV)</td>\n",
       "      <td>Prof.</td>\n",
       "      <td>Coupé</td>\n",
       "      <td>...</td>\n",
       "      <td>6 l/100 km (mixto)\\n7,8 l/100 km (urbano)\\n4,9...</td>\n",
       "      <td>Blanco</td>\n",
       "      <td>Blanco</td>\n",
       "      <td>Tracción trasera</td>\n",
       "      <td>5.0</td>\n",
       "      <td>8</td>\n",
       "      <td>6</td>\n",
       "      <td>1950.0</td>\n",
       "      <td>Diésel</td>\n",
       "      <td>06</td>\n",
       "    </tr>\n",
       "    <tr>\n",
       "      <th>9</th>\n",
       "      <td>9</td>\n",
       "      <td>2023-11-11</td>\n",
       "      <td>https://www.autoscout24.es/anuncios/mercedes-b...</td>\n",
       "      <td>Mercedes-Benz</td>\n",
       "      <td>GLC 250</td>\n",
       "      <td>€ 35.900,-1</td>\n",
       "      <td>https://maps.google.com/?q=AVDA%20CAMINO%20DE%...</td>\n",
       "      <td>150 kW (204 CV)</td>\n",
       "      <td>Prof.</td>\n",
       "      <td>SUV/4x4/Pickup</td>\n",
       "      <td>...</td>\n",
       "      <td>9,1 l/100 km (mixto)\\n12,3 l/100 km (urbano)\\n...</td>\n",
       "      <td>Azul</td>\n",
       "      <td>PACK AMG</td>\n",
       "      <td>Tracción trasera</td>\n",
       "      <td>4.0</td>\n",
       "      <td>6</td>\n",
       "      <td>4</td>\n",
       "      <td>935.0</td>\n",
       "      <td>Gasolina</td>\n",
       "      <td>05</td>\n",
       "    </tr>\n",
       "  </tbody>\n",
       "</table>\n",
       "<p>10 rows × 28 columns</p>\n",
       "</div>"
      ],
      "text/plain": [
       "   Unnamed: 0 Fecha extrac                                             Enlace  \\\n",
       "0           0   2023-11-11  https://www.autoscout24.es/anuncios/lynk-co-01...   \n",
       "1           1   2023-11-11  https://www.autoscout24.es/anuncios/cupra-form...   \n",
       "2           2   2023-11-11  https://www.autoscout24.es/anuncios/gmc-yukon-...   \n",
       "3           3   2023-11-11  https://www.autoscout24.es/anuncios/infiniti-q...   \n",
       "4           4   2023-11-11  https://www.autoscout24.es/anuncios/audi-r8-4-...   \n",
       "5           5   2023-11-11  https://www.autoscout24.es/anuncios/porsche-99...   \n",
       "6           6   2023-11-11  https://www.autoscout24.es/anuncios/ferrari-81...   \n",
       "7           7   2023-11-11  https://www.autoscout24.es/anuncios/ds-automob...   \n",
       "8           8   2023-11-11  https://www.autoscout24.es/anuncios/bentley-co...   \n",
       "9           9   2023-11-11  https://www.autoscout24.es/anuncios/mercedes-b...   \n",
       "\n",
       "            Marca          Modelo       Precio  \\\n",
       "0       Lynk & Co              01  € 22.630,-1   \n",
       "1           Cupra       Formentor   € 20.995,-   \n",
       "2             GMC           Yukon   € 79.000,-   \n",
       "3        Infiniti             Q50   € 27.250,-   \n",
       "4            Audi              R8   € 51.500,-   \n",
       "5         Porsche             992  € 289.900,-   \n",
       "6         Ferrari             812  € 379.999,-   \n",
       "7  DS Automobiles  DS 7 Crossback  € 21.290,-1   \n",
       "8         Bentley     Continental   € 64.500,-   \n",
       "9   Mercedes-Benz         GLC 250  € 35.900,-1   \n",
       "\n",
       "                                        Localización         Potencia  \\\n",
       "0  https://maps.google.com/?q=AVENIDA%20CARLOS%20...  145 kW (197 CV)   \n",
       "1  https://maps.google.com/?q=AVENIDA%20DE%20CATA...  110 kW (150 CV)   \n",
       "2  https://maps.google.com/?q=C%2F%20VICENTE%20MU...  313 kW (426 CV)   \n",
       "3  https://maps.google.com/?q=CARRETERA%20N-II%20...  268 kW (364 CV)   \n",
       "4  https://maps.google.com/?q=Ctra.%20Madrid%2C%2...  309 kW (420 CV)   \n",
       "5  https://maps.google.com/?q=Poligono%20Industri...  478 kW (650 CV)   \n",
       "6  https://maps.google.com/?q=C%2FCARRIL%20DE%20P...  588 kW (799 CV)   \n",
       "7  https://maps.google.com/?q=AV.%20DE%20AR%C3%93...   96 kW (131 CV)   \n",
       "8  https://maps.google.com/?q=Crtra.de%20Cadiz%20...  449 kW (610 CV)   \n",
       "9  https://maps.google.com/?q=AVDA%20CAMINO%20DE%...  150 kW (204 CV)   \n",
       "\n",
       "  Tipo vendedor       Categoría  ...  \\\n",
       "0         Prof.  SUV/4x4/Pickup  ...   \n",
       "1         Prof.  SUV/4x4/Pickup  ...   \n",
       "2         Prof.  SUV/4x4/Pickup  ...   \n",
       "3         Prof.           Sedán  ...   \n",
       "4         Prof.           Coupé  ...   \n",
       "5         Prof.           Coupé  ...   \n",
       "6         Prof.           Coupé  ...   \n",
       "7         Prof.  SUV/4x4/Pickup  ...   \n",
       "8         Prof.           Coupé  ...   \n",
       "9         Prof.  SUV/4x4/Pickup  ...   \n",
       "\n",
       "                              Consumo de combustible  Color exterior  \\\n",
       "0  0 l/100 km (mixto)\\n0 l/100 km (urbano)\\n0 l/1...            Azul   \n",
       "1  0 l/100 km (mixto)\\n0 l/100 km (urbano)\\n0 l/1...           Negro   \n",
       "2  5,1 l/100 km (mixto)\\n5,3 l/100 km (urbano)\\n4...            Gris   \n",
       "3  8 l/100 km (mixto)\\n10 l/100 km (urbano)\\n7 l/...            ROJO   \n",
       "4  5,3 l/100 km (mixto)\\n6,1 l/100 km (urbano)\\n4...        Plateado   \n",
       "5  5,7 l/100 km (mixto)\\n7 l/100 km (urbano)\\n5 l...            Gris   \n",
       "6  0 l/100 km (mixto)\\n0 l/100 km (urbano)\\n0 l/1...            Rojo   \n",
       "7  0 l/100 km (mixto)\\n0 l/100 km (urbano)\\n0 l/1...           Negro   \n",
       "8  6 l/100 km (mixto)\\n7,8 l/100 km (urbano)\\n4,9...          Blanco   \n",
       "9  9,1 l/100 km (mixto)\\n12,3 l/100 km (urbano)\\n...            Azul   \n",
       "\n",
       "                Color original                      Tracción plazas  \\\n",
       "0                         Azul            Tracción delantera    5.0   \n",
       "1  Negro Midnight (metalizado)  Tracción a las cuatro ruedas    5.0   \n",
       "2                         Gris  Tracción a las cuatro ruedas    2.0   \n",
       "3                         ROJO  Tracción a las cuatro ruedas    4.0   \n",
       "4                   Gris Plata            Tracción delantera    5.0   \n",
       "5                   Gris Ágata            Tracción delantera    5.0   \n",
       "6                  Rosso Corsa              Tracción trasera    5.0   \n",
       "7                        Negro              Tracción trasera    5.0   \n",
       "8                       Blanco              Tracción trasera    5.0   \n",
       "9                     PACK AMG              Tracción trasera    4.0   \n",
       "\n",
       "   Número de marchas Número de cilindros    Peso Tipo de combustible Mes  \n",
       "0                  6                   3  1237.0            Gasolina  11  \n",
       "1                  7                   4  1761.0              Diésel  05  \n",
       "2                  8                   4  1760.0              Diésel  06  \n",
       "3                  8                   8  2215.0              Diésel  01  \n",
       "4                  6                   4  1580.0              Diésel  06  \n",
       "5                  5                   4  1285.0            Gasolina  11  \n",
       "6                  9                   4  1870.0              Diésel  01  \n",
       "7                  7                  10  1339.0            Gasolina  03  \n",
       "8                  8                   6  1950.0              Diésel  06  \n",
       "9                  6                   4   935.0            Gasolina  05  \n",
       "\n",
       "[10 rows x 28 columns]"
      ]
     },
     "execution_count": 48,
     "metadata": {},
     "output_type": "execute_result"
    }
   ],
   "source": [
    "df.head(10)"
   ]
  },
  {
   "cell_type": "markdown",
   "metadata": {},
   "source": [
    "Ahora que ya hemos tratado los NaN iremos a limpiar los problemas de formato. Lo primero que haremos es eliminar la columna 'Unnamed: 0' que equivale al índice. Y a continuación quitaremos el símbolo de euro y el punto al atributo 'Precio'"
   ]
  },
  {
   "cell_type": "code",
   "execution_count": 49,
   "metadata": {},
   "outputs": [],
   "source": [
    "df=df.drop(['Unnamed: 0'], axis=1)"
   ]
  },
  {
   "cell_type": "code",
   "execution_count": 50,
   "metadata": {},
   "outputs": [],
   "source": [
    "df['Precio']=df['Precio'].apply(process_numbers_and_nans)"
   ]
  },
  {
   "cell_type": "markdown",
   "metadata": {},
   "source": [
    "Del atributo 'Potencia' nos quedaremos con los caballos (CV) ya que es la medida que se usa en España."
   ]
  },
  {
   "cell_type": "code",
   "execution_count": 51,
   "metadata": {},
   "outputs": [
    {
     "data": {
      "text/plain": [
       "0    197\n",
       "1    150\n",
       "2    426\n",
       "3    364\n",
       "4    420\n",
       "Name: Potencia, dtype: object"
      ]
     },
     "execution_count": 51,
     "metadata": {},
     "output_type": "execute_result"
    }
   ],
   "source": [
    "df['Potencia']=df['Potencia'].str.extract(r'\\((\\d+)\\s*CV\\)')\n",
    "df['Potencia'].head()"
   ]
  },
  {
   "cell_type": "markdown",
   "metadata": {},
   "source": [
    "Al atributo 'Kilometraje' hay que quitarle el 'km' después del número y el punto de separación de miles."
   ]
  },
  {
   "cell_type": "code",
   "execution_count": 53,
   "metadata": {},
   "outputs": [
    {
     "data": {
      "text/plain": [
       "0    53627\n",
       "1    26141\n",
       "2    81422\n",
       "3    92253\n",
       "4    81100\n",
       "Name: Kilometraje, dtype: int64"
      ]
     },
     "execution_count": 53,
     "metadata": {},
     "output_type": "execute_result"
    }
   ],
   "source": [
    "df['Kilometraje']=df['Kilometraje'].apply(process_numbers_and_nans)\n",
    "df['Kilometraje'].head()"
   ]
  },
  {
   "cell_type": "markdown",
   "metadata": {},
   "source": [
    "El atributo 'Consumo de combustible' contiene en realidad 3 datos (consumo mixto, urbano y extraurbano). Nos quedaremos solo con el consumo mixto y únicamente con la cifra"
   ]
  },
  {
   "cell_type": "code",
   "execution_count": 56,
   "metadata": {},
   "outputs": [
    {
     "data": {
      "text/plain": [
       "'5,1 l/100 km (mixto)\\n5,3 l/100 km (urbano)\\n4,9 l/100 km (extraurbano)'"
      ]
     },
     "execution_count": 56,
     "metadata": {},
     "output_type": "execute_result"
    }
   ],
   "source": [
    "df['Consumo de combustible'][2]"
   ]
  },
  {
   "cell_type": "code",
   "execution_count": 57,
   "metadata": {},
   "outputs": [],
   "source": [
    "df['Consumo de combustible'] = df['Consumo de combustible'].str.extract(r'(\\d+,\\d+)')"
   ]
  },
  {
   "cell_type": "code",
   "execution_count": 58,
   "metadata": {},
   "outputs": [
    {
     "data": {
      "text/plain": [
       "0    NaN\n",
       "1    NaN\n",
       "2    5,1\n",
       "3    NaN\n",
       "4    5,3\n",
       "Name: Consumo de combustible, dtype: object"
      ]
     },
     "execution_count": 58,
     "metadata": {},
     "output_type": "execute_result"
    }
   ],
   "source": [
    "df['Consumo de combustible'].head()"
   ]
  },
  {
   "cell_type": "markdown",
   "metadata": {},
   "source": [
    "La limpieza del atributo ha generado los Nan que estaban ocultos por estar puesto a valor 0 (ningún coche tiene un consumo 0). Vamos a ver cuántos NaN tenemos y a limpiarlos con el proceso que hemos seguido en la mayoría de campos."
   ]
  },
  {
   "cell_type": "code",
   "execution_count": 59,
   "metadata": {},
   "outputs": [
    {
     "data": {
      "text/plain": [
       "2577"
      ]
     },
     "execution_count": 59,
     "metadata": {},
     "output_type": "execute_result"
    }
   ],
   "source": [
    "df['Consumo de combustible'].isna().sum()"
   ]
  },
  {
   "cell_type": "code",
   "execution_count": 66,
   "metadata": {},
   "outputs": [],
   "source": [
    "df['Consumo de combustible']=df['Consumo de combustible'].str.replace(',', '.')\n",
    "df['Consumo de combustible']=df['Consumo de combustible'].astype('float64')"
   ]
  },
  {
   "cell_type": "code",
   "execution_count": 71,
   "metadata": {},
   "outputs": [
    {
     "data": {
      "text/plain": [
       "0"
      ]
     },
     "execution_count": 71,
     "metadata": {},
     "output_type": "execute_result"
    }
   ],
   "source": [
    "df['Consumo de combustible'] = df.groupby(['Marca', 'Modelo'])['Consumo de combustible'].fillna(method='ffill')\n",
    "df['Consumo de combustible'] = df.groupby(['Marca', 'Modelo'])['Consumo de combustible'].fillna(method='bfill')\n",
    "try:\n",
    "    df['Consumo de combustible'] = df.groupby(['Marca'])['Consumo de combustible'].transform(lambda x: x.fillna(x.mean()))\n",
    "except:\n",
    "    pass\n",
    "df['Consumo de combustible'] = df['Consumo de combustible'].transform(lambda x: x.fillna(x.mean()))\n",
    "df['Consumo de combustible'].isna().sum()"
   ]
  },
  {
   "cell_type": "markdown",
   "metadata": {},
   "source": [
    "A continuación vamos a ver qué columnas no están en el formato que nos interesa y se lo cambiaremos"
   ]
  },
  {
   "cell_type": "code",
   "execution_count": 72,
   "metadata": {},
   "outputs": [
    {
     "name": "stdout",
     "output_type": "stream",
     "text": [
      "<class 'pandas.core.frame.DataFrame'>\n",
      "Index: 9788 entries, 0 to 11172\n",
      "Data columns (total 27 columns):\n",
      " #   Column                  Non-Null Count  Dtype  \n",
      "---  ------                  --------------  -----  \n",
      " 0   Fecha extrac            9788 non-null   object \n",
      " 1   Enlace                  9788 non-null   object \n",
      " 2   Marca                   9788 non-null   object \n",
      " 3   Modelo                  9788 non-null   object \n",
      " 4   Precio                  9788 non-null   int64  \n",
      " 5   Localización            9788 non-null   object \n",
      " 6   Potencia                9532 non-null   object \n",
      " 7   Tipo vendedor           9788 non-null   object \n",
      " 8   Categoría               9788 non-null   object \n",
      " 9   Tipo de vehículo        9788 non-null   object \n",
      " 10  puertas                 9788 non-null   float64\n",
      " 11  Versión del país        9788 non-null   object \n",
      " 12  Garantía                9788 non-null   object \n",
      " 13  Kilometraje             9788 non-null   int64  \n",
      " 14  Año                     9788 non-null   float64\n",
      " 15  Tipo de cambio          9782 non-null   object \n",
      " 16  Capacidad               9788 non-null   float64\n",
      " 17  Consumo de combustible  9788 non-null   float64\n",
      " 18  Color exterior          9788 non-null   object \n",
      " 19  Color original          9788 non-null   object \n",
      " 20  Tracción                9788 non-null   object \n",
      " 21  plazas                  9788 non-null   float64\n",
      " 22  Número de marchas       9788 non-null   int64  \n",
      " 23  Número de cilindros     9788 non-null   int64  \n",
      " 24  Peso                    9788 non-null   float64\n",
      " 25  Tipo de combustible     9788 non-null   object \n",
      " 26  Mes                     9788 non-null   object \n",
      "dtypes: float64(6), int64(4), object(17)\n",
      "memory usage: 2.3+ MB\n"
     ]
    }
   ],
   "source": [
    "df.info()"
   ]
  },
  {
   "cell_type": "code",
   "execution_count": 76,
   "metadata": {},
   "outputs": [],
   "source": [
    "df[['puertas', 'Garantía', 'Año', 'plazas', 'Mes']]=df[['puertas', 'Garantía', 'Año', 'plazas', 'Mes']].astype('int64')\n",
    "df['Precio']=df['Precio'].astype('float64')"
   ]
  },
  {
   "cell_type": "code",
   "execution_count": 77,
   "metadata": {},
   "outputs": [
    {
     "name": "stdout",
     "output_type": "stream",
     "text": [
      "<class 'pandas.core.frame.DataFrame'>\n",
      "Index: 9788 entries, 0 to 11172\n",
      "Data columns (total 27 columns):\n",
      " #   Column                  Non-Null Count  Dtype  \n",
      "---  ------                  --------------  -----  \n",
      " 0   Fecha extrac            9788 non-null   object \n",
      " 1   Enlace                  9788 non-null   object \n",
      " 2   Marca                   9788 non-null   object \n",
      " 3   Modelo                  9788 non-null   object \n",
      " 4   Precio                  9788 non-null   float64\n",
      " 5   Localización            9788 non-null   object \n",
      " 6   Potencia                9532 non-null   object \n",
      " 7   Tipo vendedor           9788 non-null   object \n",
      " 8   Categoría               9788 non-null   object \n",
      " 9   Tipo de vehículo        9788 non-null   object \n",
      " 10  puertas                 9788 non-null   int64  \n",
      " 11  Versión del país        9788 non-null   object \n",
      " 12  Garantía                9788 non-null   int64  \n",
      " 13  Kilometraje             9788 non-null   int64  \n",
      " 14  Año                     9788 non-null   int64  \n",
      " 15  Tipo de cambio          9782 non-null   object \n",
      " 16  Capacidad               9788 non-null   float64\n",
      " 17  Consumo de combustible  9788 non-null   float64\n",
      " 18  Color exterior          9788 non-null   object \n",
      " 19  Color original          9788 non-null   object \n",
      " 20  Tracción                9788 non-null   object \n",
      " 21  plazas                  9788 non-null   int64  \n",
      " 22  Número de marchas       9788 non-null   int64  \n",
      " 23  Número de cilindros     9788 non-null   int64  \n",
      " 24  Peso                    9788 non-null   float64\n",
      " 25  Tipo de combustible     9788 non-null   object \n",
      " 26  Mes                     9788 non-null   int64  \n",
      "dtypes: float64(4), int64(8), object(15)\n",
      "memory usage: 2.3+ MB\n"
     ]
    }
   ],
   "source": [
    "df.info()"
   ]
  },
  {
   "cell_type": "code",
   "execution_count": 78,
   "metadata": {},
   "outputs": [
    {
     "data": {
      "text/html": [
       "<div>\n",
       "<style scoped>\n",
       "    .dataframe tbody tr th:only-of-type {\n",
       "        vertical-align: middle;\n",
       "    }\n",
       "\n",
       "    .dataframe tbody tr th {\n",
       "        vertical-align: top;\n",
       "    }\n",
       "\n",
       "    .dataframe thead th {\n",
       "        text-align: right;\n",
       "    }\n",
       "</style>\n",
       "<table border=\"1\" class=\"dataframe\">\n",
       "  <thead>\n",
       "    <tr style=\"text-align: right;\">\n",
       "      <th></th>\n",
       "      <th>Fecha extrac</th>\n",
       "      <th>Enlace</th>\n",
       "      <th>Marca</th>\n",
       "      <th>Modelo</th>\n",
       "      <th>Precio</th>\n",
       "      <th>Localización</th>\n",
       "      <th>Potencia</th>\n",
       "      <th>Tipo vendedor</th>\n",
       "      <th>Categoría</th>\n",
       "      <th>Tipo de vehículo</th>\n",
       "      <th>...</th>\n",
       "      <th>Consumo de combustible</th>\n",
       "      <th>Color exterior</th>\n",
       "      <th>Color original</th>\n",
       "      <th>Tracción</th>\n",
       "      <th>plazas</th>\n",
       "      <th>Número de marchas</th>\n",
       "      <th>Número de cilindros</th>\n",
       "      <th>Peso</th>\n",
       "      <th>Tipo de combustible</th>\n",
       "      <th>Mes</th>\n",
       "    </tr>\n",
       "  </thead>\n",
       "  <tbody>\n",
       "    <tr>\n",
       "      <th>0</th>\n",
       "      <td>2023-11-11</td>\n",
       "      <td>https://www.autoscout24.es/anuncios/lynk-co-01...</td>\n",
       "      <td>Lynk &amp; Co</td>\n",
       "      <td>01</td>\n",
       "      <td>226301.0</td>\n",
       "      <td>https://maps.google.com/?q=AVENIDA%20CARLOS%20...</td>\n",
       "      <td>197</td>\n",
       "      <td>Prof.</td>\n",
       "      <td>SUV/4x4/Pickup</td>\n",
       "      <td>Ocasión</td>\n",
       "      <td>...</td>\n",
       "      <td>8.3</td>\n",
       "      <td>Azul</td>\n",
       "      <td>Azul</td>\n",
       "      <td>Tracción delantera</td>\n",
       "      <td>5</td>\n",
       "      <td>6</td>\n",
       "      <td>3</td>\n",
       "      <td>1237.0</td>\n",
       "      <td>Gasolina</td>\n",
       "      <td>11</td>\n",
       "    </tr>\n",
       "    <tr>\n",
       "      <th>1</th>\n",
       "      <td>2023-11-11</td>\n",
       "      <td>https://www.autoscout24.es/anuncios/cupra-form...</td>\n",
       "      <td>Cupra</td>\n",
       "      <td>Formentor</td>\n",
       "      <td>20995.0</td>\n",
       "      <td>https://maps.google.com/?q=AVENIDA%20DE%20CATA...</td>\n",
       "      <td>150</td>\n",
       "      <td>Prof.</td>\n",
       "      <td>SUV/4x4/Pickup</td>\n",
       "      <td>Ocasión</td>\n",
       "      <td>...</td>\n",
       "      <td>12.1</td>\n",
       "      <td>Negro</td>\n",
       "      <td>Negro Midnight (metalizado)</td>\n",
       "      <td>Tracción a las cuatro ruedas</td>\n",
       "      <td>5</td>\n",
       "      <td>7</td>\n",
       "      <td>4</td>\n",
       "      <td>1761.0</td>\n",
       "      <td>Diésel</td>\n",
       "      <td>5</td>\n",
       "    </tr>\n",
       "    <tr>\n",
       "      <th>2</th>\n",
       "      <td>2023-11-11</td>\n",
       "      <td>https://www.autoscout24.es/anuncios/gmc-yukon-...</td>\n",
       "      <td>GMC</td>\n",
       "      <td>Yukon</td>\n",
       "      <td>79000.0</td>\n",
       "      <td>https://maps.google.com/?q=C%2F%20VICENTE%20MU...</td>\n",
       "      <td>426</td>\n",
       "      <td>Prof.</td>\n",
       "      <td>SUV/4x4/Pickup</td>\n",
       "      <td>Ocasión</td>\n",
       "      <td>...</td>\n",
       "      <td>5.1</td>\n",
       "      <td>Gris</td>\n",
       "      <td>Gris</td>\n",
       "      <td>Tracción a las cuatro ruedas</td>\n",
       "      <td>2</td>\n",
       "      <td>8</td>\n",
       "      <td>4</td>\n",
       "      <td>1760.0</td>\n",
       "      <td>Diésel</td>\n",
       "      <td>6</td>\n",
       "    </tr>\n",
       "    <tr>\n",
       "      <th>3</th>\n",
       "      <td>2023-11-11</td>\n",
       "      <td>https://www.autoscout24.es/anuncios/infiniti-q...</td>\n",
       "      <td>Infiniti</td>\n",
       "      <td>Q50</td>\n",
       "      <td>27250.0</td>\n",
       "      <td>https://maps.google.com/?q=CARRETERA%20N-II%20...</td>\n",
       "      <td>364</td>\n",
       "      <td>Prof.</td>\n",
       "      <td>Sedán</td>\n",
       "      <td>Ocasión</td>\n",
       "      <td>...</td>\n",
       "      <td>2.7</td>\n",
       "      <td>ROJO</td>\n",
       "      <td>ROJO</td>\n",
       "      <td>Tracción a las cuatro ruedas</td>\n",
       "      <td>4</td>\n",
       "      <td>8</td>\n",
       "      <td>8</td>\n",
       "      <td>2215.0</td>\n",
       "      <td>Diésel</td>\n",
       "      <td>1</td>\n",
       "    </tr>\n",
       "    <tr>\n",
       "      <th>4</th>\n",
       "      <td>2023-11-11</td>\n",
       "      <td>https://www.autoscout24.es/anuncios/audi-r8-4-...</td>\n",
       "      <td>Audi</td>\n",
       "      <td>R8</td>\n",
       "      <td>51500.0</td>\n",
       "      <td>https://maps.google.com/?q=Ctra.%20Madrid%2C%2...</td>\n",
       "      <td>420</td>\n",
       "      <td>Prof.</td>\n",
       "      <td>Coupé</td>\n",
       "      <td>Ocasión</td>\n",
       "      <td>...</td>\n",
       "      <td>5.3</td>\n",
       "      <td>Plateado</td>\n",
       "      <td>Gris Plata</td>\n",
       "      <td>Tracción delantera</td>\n",
       "      <td>5</td>\n",
       "      <td>6</td>\n",
       "      <td>4</td>\n",
       "      <td>1580.0</td>\n",
       "      <td>Diésel</td>\n",
       "      <td>6</td>\n",
       "    </tr>\n",
       "  </tbody>\n",
       "</table>\n",
       "<p>5 rows × 27 columns</p>\n",
       "</div>"
      ],
      "text/plain": [
       "  Fecha extrac                                             Enlace      Marca  \\\n",
       "0   2023-11-11  https://www.autoscout24.es/anuncios/lynk-co-01...  Lynk & Co   \n",
       "1   2023-11-11  https://www.autoscout24.es/anuncios/cupra-form...      Cupra   \n",
       "2   2023-11-11  https://www.autoscout24.es/anuncios/gmc-yukon-...        GMC   \n",
       "3   2023-11-11  https://www.autoscout24.es/anuncios/infiniti-q...   Infiniti   \n",
       "4   2023-11-11  https://www.autoscout24.es/anuncios/audi-r8-4-...       Audi   \n",
       "\n",
       "      Modelo    Precio                                       Localización  \\\n",
       "0         01  226301.0  https://maps.google.com/?q=AVENIDA%20CARLOS%20...   \n",
       "1  Formentor   20995.0  https://maps.google.com/?q=AVENIDA%20DE%20CATA...   \n",
       "2      Yukon   79000.0  https://maps.google.com/?q=C%2F%20VICENTE%20MU...   \n",
       "3        Q50   27250.0  https://maps.google.com/?q=CARRETERA%20N-II%20...   \n",
       "4         R8   51500.0  https://maps.google.com/?q=Ctra.%20Madrid%2C%2...   \n",
       "\n",
       "  Potencia Tipo vendedor       Categoría Tipo de vehículo  ...  \\\n",
       "0      197         Prof.  SUV/4x4/Pickup          Ocasión  ...   \n",
       "1      150         Prof.  SUV/4x4/Pickup          Ocasión  ...   \n",
       "2      426         Prof.  SUV/4x4/Pickup          Ocasión  ...   \n",
       "3      364         Prof.           Sedán          Ocasión  ...   \n",
       "4      420         Prof.           Coupé          Ocasión  ...   \n",
       "\n",
       "   Consumo de combustible Color exterior               Color original  \\\n",
       "0                     8.3           Azul                         Azul   \n",
       "1                    12.1          Negro  Negro Midnight (metalizado)   \n",
       "2                     5.1           Gris                         Gris   \n",
       "3                     2.7           ROJO                         ROJO   \n",
       "4                     5.3       Plateado                   Gris Plata   \n",
       "\n",
       "                       Tracción  plazas Número de marchas  \\\n",
       "0            Tracción delantera       5                 6   \n",
       "1  Tracción a las cuatro ruedas       5                 7   \n",
       "2  Tracción a las cuatro ruedas       2                 8   \n",
       "3  Tracción a las cuatro ruedas       4                 8   \n",
       "4            Tracción delantera       5                 6   \n",
       "\n",
       "   Número de cilindros    Peso Tipo de combustible Mes  \n",
       "0                    3  1237.0            Gasolina  11  \n",
       "1                    4  1761.0              Diésel   5  \n",
       "2                    4  1760.0              Diésel   6  \n",
       "3                    8  2215.0              Diésel   1  \n",
       "4                    4  1580.0              Diésel   6  \n",
       "\n",
       "[5 rows x 27 columns]"
      ]
     },
     "execution_count": 78,
     "metadata": {},
     "output_type": "execute_result"
    }
   ],
   "source": [
    "df.head()"
   ]
  },
  {
   "cell_type": "markdown",
   "metadata": {},
   "source": [
    "Sobre la localización, actualmente tenemos un enlace de Google Maps, que nos puede ser muy útil, pero nos gustaría tener también un atributo 'Província'. Esa información está contenida en el enlace de Google Maps, así que vamos a parsearlo para obtenerla"
   ]
  },
  {
   "cell_type": "code",
   "execution_count": 92,
   "metadata": {},
   "outputs": [],
   "source": [
    "def obtener_ciudad_cp(url):\n",
    "    parsed_url = urlparse(url)\n",
    "    query_params = dict(pair.split('=') for pair in parsed_url.query.split('&'))\n",
    "    \n",
    "    # Decodificar la dirección de la URL\n",
    "    decoded_address = unquote(query_params['q'])\n",
    "    \n",
    "    # Dividir la dirección en partes\n",
    "    partes_direccion = decoded_address.split(',')\n",
    "    \n",
    "    # Obtener la ciudad y el código postal\n",
    "    cp_ciudad = partes_direccion[-2].strip()\n",
    "    #La ciudad contiene actualmente el código postal, vamos a separlo en dos atributos\n",
    "    cp, ciudad = cp_ciudad.split(' ', 1) if ' ' in cp_ciudad else (cp_ciudad, '')\n",
    "    ciudad=ciudad.capitalize()\n",
    "\n",
    "    return ciudad, cp"
   ]
  },
  {
   "cell_type": "code",
   "execution_count": 94,
   "metadata": {},
   "outputs": [
    {
     "data": {
      "text/html": [
       "<div>\n",
       "<style scoped>\n",
       "    .dataframe tbody tr th:only-of-type {\n",
       "        vertical-align: middle;\n",
       "    }\n",
       "\n",
       "    .dataframe tbody tr th {\n",
       "        vertical-align: top;\n",
       "    }\n",
       "\n",
       "    .dataframe thead th {\n",
       "        text-align: right;\n",
       "    }\n",
       "</style>\n",
       "<table border=\"1\" class=\"dataframe\">\n",
       "  <thead>\n",
       "    <tr style=\"text-align: right;\">\n",
       "      <th></th>\n",
       "      <th>Localización</th>\n",
       "      <th>Ciudad</th>\n",
       "      <th>CP</th>\n",
       "    </tr>\n",
       "  </thead>\n",
       "  <tbody>\n",
       "    <tr>\n",
       "      <th>0</th>\n",
       "      <td>https://maps.google.com/?q=AVENIDA%20CARLOS%20...</td>\n",
       "      <td>Madrid</td>\n",
       "      <td>28914</td>\n",
       "    </tr>\n",
       "    <tr>\n",
       "      <th>1</th>\n",
       "      <td>https://maps.google.com/?q=AVENIDA%20DE%20CATA...</td>\n",
       "      <td>Zaragoza</td>\n",
       "      <td>50014</td>\n",
       "    </tr>\n",
       "    <tr>\n",
       "      <th>2</th>\n",
       "      <td>https://maps.google.com/?q=C%2F%20VICENTE%20MU...</td>\n",
       "      <td>Madrid</td>\n",
       "      <td>28043</td>\n",
       "    </tr>\n",
       "    <tr>\n",
       "      <th>3</th>\n",
       "      <td>https://maps.google.com/?q=CARRETERA%20N-II%20...</td>\n",
       "      <td>Fornells de la selva</td>\n",
       "      <td>17458</td>\n",
       "    </tr>\n",
       "    <tr>\n",
       "      <th>4</th>\n",
       "      <td>https://maps.google.com/?q=Ctra.%20Madrid%2C%2...</td>\n",
       "      <td>Alicante</td>\n",
       "      <td>3006</td>\n",
       "    </tr>\n",
       "    <tr>\n",
       "      <th>5</th>\n",
       "      <td>https://maps.google.com/?q=Poligono%20Industri...</td>\n",
       "      <td>Cardedeu</td>\n",
       "      <td>8440</td>\n",
       "    </tr>\n",
       "    <tr>\n",
       "      <th>6</th>\n",
       "      <td>https://maps.google.com/?q=C%2FCARRIL%20DE%20P...</td>\n",
       "      <td>Marbella</td>\n",
       "      <td>29670</td>\n",
       "    </tr>\n",
       "    <tr>\n",
       "      <th>7</th>\n",
       "      <td>https://maps.google.com/?q=AV.%20DE%20AR%C3%93...</td>\n",
       "      <td>Pamplona</td>\n",
       "      <td>31009</td>\n",
       "    </tr>\n",
       "    <tr>\n",
       "      <th>8</th>\n",
       "      <td>https://maps.google.com/?q=Crtra.de%20Cadiz%20...</td>\n",
       "      <td>San pedro de alcantara</td>\n",
       "      <td>29670</td>\n",
       "    </tr>\n",
       "    <tr>\n",
       "      <th>9</th>\n",
       "      <td>https://maps.google.com/?q=AVDA%20CAMINO%20DE%...</td>\n",
       "      <td>San sebastian de los reyes</td>\n",
       "      <td>28703</td>\n",
       "    </tr>\n",
       "  </tbody>\n",
       "</table>\n",
       "</div>"
      ],
      "text/plain": [
       "                                        Localización  \\\n",
       "0  https://maps.google.com/?q=AVENIDA%20CARLOS%20...   \n",
       "1  https://maps.google.com/?q=AVENIDA%20DE%20CATA...   \n",
       "2  https://maps.google.com/?q=C%2F%20VICENTE%20MU...   \n",
       "3  https://maps.google.com/?q=CARRETERA%20N-II%20...   \n",
       "4  https://maps.google.com/?q=Ctra.%20Madrid%2C%2...   \n",
       "5  https://maps.google.com/?q=Poligono%20Industri...   \n",
       "6  https://maps.google.com/?q=C%2FCARRIL%20DE%20P...   \n",
       "7  https://maps.google.com/?q=AV.%20DE%20AR%C3%93...   \n",
       "8  https://maps.google.com/?q=Crtra.de%20Cadiz%20...   \n",
       "9  https://maps.google.com/?q=AVDA%20CAMINO%20DE%...   \n",
       "\n",
       "                       Ciudad     CP  \n",
       "0                      Madrid  28914  \n",
       "1                    Zaragoza  50014  \n",
       "2                      Madrid  28043  \n",
       "3        Fornells de la selva  17458  \n",
       "4                    Alicante   3006  \n",
       "5                    Cardedeu   8440  \n",
       "6                    Marbella  29670  \n",
       "7                    Pamplona  31009  \n",
       "8      San pedro de alcantara  29670  \n",
       "9  San sebastian de los reyes  28703  "
      ]
     },
     "execution_count": 94,
     "metadata": {},
     "output_type": "execute_result"
    }
   ],
   "source": [
    "df[['Ciudad', 'CP']] = df['Localización'].apply(lambda x: pd.Series(obtener_ciudad_cp(x)))\n",
    "df[['Localización','Ciudad', 'CP']].head(10)"
   ]
  },
  {
   "cell_type": "markdown",
   "metadata": {},
   "source": [
    "Ya tenemos la ciudad y el código postal, pero nos gustaría conocer también la provincia. La obtendremos con geopy"
   ]
  },
  {
   "cell_type": "code",
   "execution_count": 123,
   "metadata": {},
   "outputs": [],
   "source": [
    "#Abandonar toda esperanza y usar el xls de códigos postales\n",
    "def obtener_provincia(ciudad):\n",
    "    geo=Nominatim(user_agent=\"BuscaProv\")\n",
    "    location=geo.geocode(ciudad)\n",
    "    #lista_loc=loc[0].split(\",\")\n",
    "    print(location)"
   ]
  },
  {
   "cell_type": "code",
   "execution_count": 124,
   "metadata": {},
   "outputs": [
    {
     "name": "stdout",
     "output_type": "stream",
     "text": [
      "Cardedeu, Vallès Oriental, Barcelona, Catalunya, 08440, España\n",
      "Zaragoza, Aragón, España\n",
      "Pamplona/Iruña, Iruñerria / Comarca de Pamplona, España\n",
      "Alacant / Alicante, l'Alacantí, Alacant / Alicante, Comunitat Valenciana, España\n"
     ]
    }
   ],
   "source": [
    "obtener_provincia('Cardedeu')\n",
    "obtener_provincia('Zaragoza')\n",
    "obtener_provincia('Pamplona')\n",
    "obtener_provincia('Alicante')"
   ]
  },
  {
   "cell_type": "markdown",
   "metadata": {},
   "source": [
    "Ya tenemos el primer dataset limpio, vamos a guardarlo en un archivo diferente para usarlo para el análisis y el modelo."
   ]
  },
  {
   "cell_type": "code",
   "execution_count": 79,
   "metadata": {},
   "outputs": [],
   "source": [
    "df.to_csv('veh_usados_clean.csv')"
   ]
  }
 ],
 "metadata": {
  "kernelspec": {
   "display_name": "proj",
   "language": "python",
   "name": "python3"
  },
  "language_info": {
   "codemirror_mode": {
    "name": "ipython",
    "version": 3
   },
   "file_extension": ".py",
   "mimetype": "text/x-python",
   "name": "python",
   "nbconvert_exporter": "python",
   "pygments_lexer": "ipython3",
   "version": "3.11.5"
  }
 },
 "nbformat": 4,
 "nbformat_minor": 2
}
