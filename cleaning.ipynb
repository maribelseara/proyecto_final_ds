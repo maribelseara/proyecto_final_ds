{
 "cells": [
  {
   "cell_type": "code",
   "execution_count": 105,
   "metadata": {},
   "outputs": [],
   "source": [
    "import pandas as pd\n",
    "import numpy as np\n",
    "import re\n",
    "from urllib.parse import urlparse, unquote"
   ]
  },
  {
   "cell_type": "markdown",
   "metadata": {},
   "source": [
    "# Limpieza de datos"
   ]
  },
  {
   "cell_type": "markdown",
   "metadata": {},
   "source": [
    "Los datos procedentes del scraping tienen formatos que no nos interesan (por ejemplo el símbolo euro después de cada precio o 'kms' después de cada distancia). Además hay bastantes NaN que tenemos que tratar. Por eso, antes de pasar a las fase de análisis y de machine learning será necesario que limpiemos los datos."
   ]
  },
  {
   "cell_type": "code",
   "execution_count": 106,
   "metadata": {},
   "outputs": [
    {
     "name": "stdout",
     "output_type": "stream",
     "text": [
      "<class 'pandas.core.frame.DataFrame'>\n",
      "RangeIndex: 18199 entries, 0 to 18198\n",
      "Data columns (total 52 columns):\n",
      " #   Column                                Non-Null Count  Dtype  \n",
      "---  ------                                --------------  -----  \n",
      " 0   Unnamed: 0                            18199 non-null  int64  \n",
      " 1   Fecha extrac                          18199 non-null  object \n",
      " 2   Enlace                                18199 non-null  object \n",
      " 3   Marca                                 18199 non-null  object \n",
      " 4   Modelo                                17712 non-null  object \n",
      " 5   Precio                                18199 non-null  object \n",
      " 6   Localización                          18199 non-null  object \n",
      " 7   Potencia                              18199 non-null  object \n",
      " 8   Tipo vendedor                         18199 non-null  object \n",
      " 9   Categoría                             18197 non-null  object \n",
      " 10  Tipo de vehículo                      18197 non-null  object \n",
      " 11  puertas                               18085 non-null  float64\n",
      " 12  Versión del país                      17473 non-null  object \n",
      " 13  Núm. de oferta                        17473 non-null  float64\n",
      " 14  Garantía                              14688 non-null  object \n",
      " 15  Kilometraje                           17314 non-null  object \n",
      " 16  Año                                   17314 non-null  object \n",
      " 17  Tipo de cambio                        18068 non-null  object \n",
      " 18  Capacidad                             15933 non-null  object \n",
      " 19  Otras fuentes de energía              1514 non-null   object \n",
      " 20  Consumo de combustible\n",
      "2              14995 non-null  object \n",
      " 21  Color exterior                        16087 non-null  object \n",
      " 22  Color original                        12153 non-null  object \n",
      " 23  Tracción                              14024 non-null  object \n",
      " 24  plazas                                14714 non-null  float64\n",
      " 25  Número de marchas                     14364 non-null  float64\n",
      " 26  Número de cilindros                   13814 non-null  float64\n",
      " 27  Peso                                  12960 non-null  object \n",
      " 28  Tipo de combustible                   16636 non-null  object \n",
      " 29  Tipo de pintura                       3100 non-null   object \n",
      " 30  Emisión de CO₂\n",
      "2                      990 non-null    object \n",
      " 31  ITV                                   181 non-null    object \n",
      " 32  Guía de mantenimiento                 229 non-null    object \n",
      " 33  Tipo de emisión                       220 non-null    object \n",
      " 34  Propietarios                          279 non-null    float64\n",
      " 35  Color de los accesorios del interior  393 non-null    object \n",
      " 36  Material                              346 non-null    object \n",
      " 37  Consumo de combustible (WLTP)\n",
      "2       13 non-null     object \n",
      " 38  Emisión de CO₂ (WLTP)\n",
      "2               21 non-null     object \n",
      " 39  Última revisión                       235 non-null    object \n",
      " 40  Vehículo de no fumadores              335 non-null    object \n",
      " 41  Cambio kit distribución               83 non-null     object \n",
      " 42  Etiqueta de emisión                   4 non-null      object \n",
      " 43  Año de fabricación                    1 non-null      float64\n",
      " 44  Número de ejes                        1 non-null      float64\n",
      " 45  PMA (kg)                              1 non-null      object \n",
      " 46  Gama eléctrica (WLTP)                 6 non-null      object \n",
      " 47  Propiedad de la batería               6 non-null      object \n",
      " 48  Tiempo de carga del 10 % al 80 %      4 non-null      object \n",
      " 49  Consumo de energía (WLTP)\n",
      "2           5 non-null      object \n",
      " 50  Gama eléctrica (WLTP)\n",
      "7               3 non-null      object \n",
      " 51  Unnamed: 51                           0 non-null      float64\n",
      "dtypes: float64(9), int64(1), object(42)\n",
      "memory usage: 7.2+ MB\n"
     ]
    },
    {
     "name": "stderr",
     "output_type": "stream",
     "text": [
      "C:\\Users\\mabi1\\AppData\\Local\\Temp\\ipykernel_12624\\221663255.py:1: DtypeWarning: Columns (37,45,46,47,48,49,50) have mixed types. Specify dtype option on import or set low_memory=False.\n",
      "  df=pd.read_csv(\"data\\\\raw\\\\vehiculos_usados.csv\")\n"
     ]
    }
   ],
   "source": [
    "df=pd.read_csv(\"data\\\\raw\\\\vehiculos_usados.csv\")\n",
    "df.info()"
   ]
  },
  {
   "cell_type": "code",
   "execution_count": 107,
   "metadata": {},
   "outputs": [
    {
     "data": {
      "text/plain": [
       "Unnamed: 0                                  0\n",
       "Fecha extrac                                0\n",
       "Enlace                                      0\n",
       "Marca                                       0\n",
       "Modelo                                    487\n",
       "Precio                                      0\n",
       "Localización                                0\n",
       "Potencia                                    0\n",
       "Tipo vendedor                               0\n",
       "Categoría                                   2\n",
       "Tipo de vehículo                            2\n",
       "puertas                                   114\n",
       "Versión del país                          726\n",
       "Núm. de oferta                            726\n",
       "Garantía                                 3511\n",
       "Kilometraje                               885\n",
       "Año                                       885\n",
       "Tipo de cambio                            131\n",
       "Capacidad                                2266\n",
       "Otras fuentes de energía                16685\n",
       "Consumo de combustible\\n2                3204\n",
       "Color exterior                           2112\n",
       "Color original                           6046\n",
       "Tracción                                 4175\n",
       "plazas                                   3485\n",
       "Número de marchas                        3835\n",
       "Número de cilindros                      4385\n",
       "Peso                                     5239\n",
       "Tipo de combustible                      1563\n",
       "Tipo de pintura                         15099\n",
       "Emisión de CO₂\\n2                       17209\n",
       "ITV                                     18018\n",
       "Guía de mantenimiento                   17970\n",
       "Tipo de emisión                         17979\n",
       "Propietarios                            17920\n",
       "Color de los accesorios del interior    17806\n",
       "Material                                17853\n",
       "Consumo de combustible (WLTP)\\n2        18186\n",
       "Emisión de CO₂ (WLTP)\\n2                18178\n",
       "Última revisión                         17964\n",
       "Vehículo de no fumadores                17864\n",
       "Cambio kit distribución                 18116\n",
       "Etiqueta de emisión                     18195\n",
       "Año de fabricación                      18198\n",
       "Número de ejes                          18198\n",
       "PMA (kg)                                18198\n",
       "Gama eléctrica (WLTP)                   18193\n",
       "Propiedad de la batería                 18193\n",
       "Tiempo de carga del 10 % al 80 %        18195\n",
       "Consumo de energía (WLTP)\\n2            18194\n",
       "Gama eléctrica (WLTP)\\n7                18196\n",
       "Unnamed: 51                             18199\n",
       "dtype: int64"
      ]
     },
     "execution_count": 107,
     "metadata": {},
     "output_type": "execute_result"
    }
   ],
   "source": [
    "df.isna().sum()"
   ]
  },
  {
   "cell_type": "markdown",
   "metadata": {},
   "source": [
    "Como podemos ver hay columnas que donde la mayoría de los registros son NaN, en concreto las últimas 23 columnas. Así que empezaremos eliminando esas."
   ]
  },
  {
   "cell_type": "code",
   "execution_count": 108,
   "metadata": {},
   "outputs": [
    {
     "data": {
      "text/plain": [
       "Unnamed: 0                       0\n",
       "Fecha extrac                     0\n",
       "Enlace                           0\n",
       "Marca                            0\n",
       "Modelo                         487\n",
       "Precio                           0\n",
       "Localización                     0\n",
       "Potencia                         0\n",
       "Tipo vendedor                    0\n",
       "Categoría                        2\n",
       "Tipo de vehículo                 2\n",
       "puertas                        114\n",
       "Versión del país               726\n",
       "Núm. de oferta                 726\n",
       "Garantía                      3511\n",
       "Kilometraje                    885\n",
       "Año                            885\n",
       "Tipo de cambio                 131\n",
       "Capacidad                     2266\n",
       "Otras fuentes de energía     16685\n",
       "Consumo de combustible\\n2     3204\n",
       "Color exterior                2112\n",
       "Color original                6046\n",
       "Tracción                      4175\n",
       "plazas                        3485\n",
       "Número de marchas             3835\n",
       "Número de cilindros           4385\n",
       "Peso                          5239\n",
       "Tipo de combustible           1563\n",
       "dtype: int64"
      ]
     },
     "execution_count": 108,
     "metadata": {},
     "output_type": "execute_result"
    }
   ],
   "source": [
    "df = df.iloc[:,:-23]\n",
    "df.isna().sum()"
   ]
  },
  {
   "cell_type": "markdown",
   "metadata": {},
   "source": [
    "Nos sigue quedando el atributo 'Otras fuentes de energía' con la mayoría de valores en NaN. Lo eliminamos también."
   ]
  },
  {
   "cell_type": "code",
   "execution_count": 109,
   "metadata": {},
   "outputs": [
    {
     "data": {
      "text/plain": [
       "Unnamed: 0                      0\n",
       "Fecha extrac                    0\n",
       "Enlace                          0\n",
       "Marca                           0\n",
       "Modelo                        487\n",
       "Precio                          0\n",
       "Localización                    0\n",
       "Potencia                        0\n",
       "Tipo vendedor                   0\n",
       "Categoría                       2\n",
       "Tipo de vehículo                2\n",
       "puertas                       114\n",
       "Versión del país              726\n",
       "Núm. de oferta                726\n",
       "Garantía                     3511\n",
       "Kilometraje                   885\n",
       "Año                           885\n",
       "Tipo de cambio                131\n",
       "Capacidad                    2266\n",
       "Consumo de combustible\\n2    3204\n",
       "Color exterior               2112\n",
       "Color original               6046\n",
       "Tracción                     4175\n",
       "plazas                       3485\n",
       "Número de marchas            3835\n",
       "Número de cilindros          4385\n",
       "Peso                         5239\n",
       "Tipo de combustible          1563\n",
       "dtype: int64"
      ]
     },
     "execution_count": 109,
     "metadata": {},
     "output_type": "execute_result"
    }
   ],
   "source": [
    "df=df.drop(['Otras fuentes de energía'], axis=1)\n",
    "df.isna().sum()"
   ]
  },
  {
   "cell_type": "markdown",
   "metadata": {},
   "source": [
    "Vamos a ocuparnos ahora de los NaN de los atributos que más tienen a los que menos. Empezaremos con 'Color original' y 'Color exterior'"
   ]
  },
  {
   "cell_type": "markdown",
   "metadata": {},
   "source": [
    "En fases posteriores de análisis se ha observado que hay valores en esta variable que no corresponden a colores. Los reemplazaremos por None antes de empezar, para intentar arreglarlos."
   ]
  },
  {
   "cell_type": "code",
   "execution_count": 230,
   "metadata": {},
   "outputs": [],
   "source": [
    "df.loc[df['Color exterior'] == '.', 'Color exterior'] = None\n",
    "df.loc[df['Color original'] == '.', 'Color original'] = None\n",
    "df.loc[df['Color original'] == '4X4', 'Color original'] = None\n",
    "df.loc[df['Color original'] == '7 PLAZAS', 'Color original'] = None\n",
    "df.loc[df['Color original'] == 'ACEPTO VEHÍCULO A CAMBIO', 'Color original'] = None\n",
    "df.loc[df['Color original'] == 'GRAND SPORT ** Q4 350CV', 'Color original'] = None"
   ]
  },
  {
   "cell_type": "code",
   "execution_count": 231,
   "metadata": {},
   "outputs": [
    {
     "data": {
      "text/html": [
       "<div>\n",
       "<style scoped>\n",
       "    .dataframe tbody tr th:only-of-type {\n",
       "        vertical-align: middle;\n",
       "    }\n",
       "\n",
       "    .dataframe tbody tr th {\n",
       "        vertical-align: top;\n",
       "    }\n",
       "\n",
       "    .dataframe thead th {\n",
       "        text-align: right;\n",
       "    }\n",
       "</style>\n",
       "<table border=\"1\" class=\"dataframe\">\n",
       "  <thead>\n",
       "    <tr style=\"text-align: right;\">\n",
       "      <th></th>\n",
       "      <th>Color exterior</th>\n",
       "      <th>Color original</th>\n",
       "    </tr>\n",
       "  </thead>\n",
       "  <tbody>\n",
       "    <tr>\n",
       "      <th>0</th>\n",
       "      <td>Negro</td>\n",
       "      <td>Negro Midnight (metalizado)</td>\n",
       "    </tr>\n",
       "    <tr>\n",
       "      <th>1</th>\n",
       "      <td>Gris</td>\n",
       "      <td>Gris</td>\n",
       "    </tr>\n",
       "    <tr>\n",
       "      <th>2</th>\n",
       "      <td>Plateado</td>\n",
       "      <td>Gris Plata</td>\n",
       "    </tr>\n",
       "    <tr>\n",
       "      <th>3</th>\n",
       "      <td>Gris</td>\n",
       "      <td>Gris Ágata</td>\n",
       "    </tr>\n",
       "    <tr>\n",
       "      <th>4</th>\n",
       "      <td>Rojo</td>\n",
       "      <td>Rosso Corsa</td>\n",
       "    </tr>\n",
       "    <tr>\n",
       "      <th>5</th>\n",
       "      <td>Negro</td>\n",
       "      <td>Negro</td>\n",
       "    </tr>\n",
       "    <tr>\n",
       "      <th>6</th>\n",
       "      <td>Blanco</td>\n",
       "      <td>Blanco</td>\n",
       "    </tr>\n",
       "    <tr>\n",
       "      <th>7</th>\n",
       "      <td>Azul</td>\n",
       "      <td>PACK AMG</td>\n",
       "    </tr>\n",
       "    <tr>\n",
       "      <th>8</th>\n",
       "      <td>NEGRO OBSIDIANA</td>\n",
       "      <td>NEGRO OBSIDIANA</td>\n",
       "    </tr>\n",
       "    <tr>\n",
       "      <th>9</th>\n",
       "      <td>Negro</td>\n",
       "      <td>Negro</td>\n",
       "    </tr>\n",
       "    <tr>\n",
       "      <th>10</th>\n",
       "      <td>Gris</td>\n",
       "      <td>Selenita</td>\n",
       "    </tr>\n",
       "    <tr>\n",
       "      <th>11</th>\n",
       "      <td>Negro</td>\n",
       "      <td>Negro</td>\n",
       "    </tr>\n",
       "    <tr>\n",
       "      <th>12</th>\n",
       "      <td>Gris</td>\n",
       "      <td>Gris</td>\n",
       "    </tr>\n",
       "    <tr>\n",
       "      <th>13</th>\n",
       "      <td>Gris</td>\n",
       "      <td>Gris</td>\n",
       "    </tr>\n",
       "    <tr>\n",
       "      <th>14</th>\n",
       "      <td>Blanco polar</td>\n",
       "      <td>Blanco polar</td>\n",
       "    </tr>\n",
       "    <tr>\n",
       "      <th>15</th>\n",
       "      <td>Negro</td>\n",
       "      <td>Negro</td>\n",
       "    </tr>\n",
       "    <tr>\n",
       "      <th>16</th>\n",
       "      <td>Gris</td>\n",
       "      <td>Grey Nardo</td>\n",
       "    </tr>\n",
       "    <tr>\n",
       "      <th>17</th>\n",
       "      <td>Negro</td>\n",
       "      <td>Negro</td>\n",
       "    </tr>\n",
       "    <tr>\n",
       "      <th>18</th>\n",
       "      <td>Negro</td>\n",
       "      <td>Negro</td>\n",
       "    </tr>\n",
       "    <tr>\n",
       "      <th>19</th>\n",
       "      <td>Rojo</td>\n",
       "      <td>ROJO</td>\n",
       "    </tr>\n",
       "    <tr>\n",
       "      <th>20</th>\n",
       "      <td>Gris</td>\n",
       "      <td>Gris</td>\n",
       "    </tr>\n",
       "    <tr>\n",
       "      <th>21</th>\n",
       "      <td>BLANCO POLAR - PINTURA UN</td>\n",
       "      <td>BLANCO POLAR - PINTURA UN</td>\n",
       "    </tr>\n",
       "    <tr>\n",
       "      <th>22</th>\n",
       "      <td>Negro</td>\n",
       "      <td>Negro</td>\n",
       "    </tr>\n",
       "    <tr>\n",
       "      <th>23</th>\n",
       "      <td>Negro</td>\n",
       "      <td>Negro</td>\n",
       "    </tr>\n",
       "    <tr>\n",
       "      <th>24</th>\n",
       "      <td>Gris</td>\n",
       "      <td>Gris</td>\n",
       "    </tr>\n",
       "    <tr>\n",
       "      <th>25</th>\n",
       "      <td>Azul</td>\n",
       "      <td>Azul</td>\n",
       "    </tr>\n",
       "    <tr>\n",
       "      <th>26</th>\n",
       "      <td>Blanco</td>\n",
       "      <td>Blanco</td>\n",
       "    </tr>\n",
       "    <tr>\n",
       "      <th>27</th>\n",
       "      <td>Gris</td>\n",
       "      <td>Gris</td>\n",
       "    </tr>\n",
       "    <tr>\n",
       "      <th>28</th>\n",
       "      <td>Negro</td>\n",
       "      <td>Negro Noche</td>\n",
       "    </tr>\n",
       "    <tr>\n",
       "      <th>29</th>\n",
       "      <td>Blanco</td>\n",
       "      <td>Blanco</td>\n",
       "    </tr>\n",
       "    <tr>\n",
       "      <th>30</th>\n",
       "      <td>Blanco</td>\n",
       "      <td>Blanco</td>\n",
       "    </tr>\n",
       "    <tr>\n",
       "      <th>31</th>\n",
       "      <td>Gris-negro</td>\n",
       "      <td>Gris-negro</td>\n",
       "    </tr>\n",
       "    <tr>\n",
       "      <th>32</th>\n",
       "      <td>Gris</td>\n",
       "      <td>M Brooklyn Grey Metallic</td>\n",
       "    </tr>\n",
       "    <tr>\n",
       "      <th>33</th>\n",
       "      <td>Gris</td>\n",
       "      <td>R-DYNAMIC</td>\n",
       "    </tr>\n",
       "    <tr>\n",
       "      <th>34</th>\n",
       "      <td>Gris</td>\n",
       "      <td>Gris</td>\n",
       "    </tr>\n",
       "    <tr>\n",
       "      <th>35</th>\n",
       "      <td>Plateado</td>\n",
       "      <td>Plateado</td>\n",
       "    </tr>\n",
       "    <tr>\n",
       "      <th>36</th>\n",
       "      <td>Negro</td>\n",
       "      <td>Negro</td>\n",
       "    </tr>\n",
       "    <tr>\n",
       "      <th>37</th>\n",
       "      <td>Negro</td>\n",
       "      <td>Negro</td>\n",
       "    </tr>\n",
       "    <tr>\n",
       "      <th>38</th>\n",
       "      <td>Gris</td>\n",
       "      <td>Gris Daytona efecto perla</td>\n",
       "    </tr>\n",
       "    <tr>\n",
       "      <th>39</th>\n",
       "      <td>Negro</td>\n",
       "      <td>Negro Obsidiana</td>\n",
       "    </tr>\n",
       "    <tr>\n",
       "      <th>40</th>\n",
       "      <td>Gris</td>\n",
       "      <td>Gris</td>\n",
       "    </tr>\n",
       "    <tr>\n",
       "      <th>41</th>\n",
       "      <td>Amarillo</td>\n",
       "      <td>Amarillo</td>\n",
       "    </tr>\n",
       "    <tr>\n",
       "      <th>42</th>\n",
       "      <td>Blanco</td>\n",
       "      <td>Blanco</td>\n",
       "    </tr>\n",
       "    <tr>\n",
       "      <th>43</th>\n",
       "      <td>Negro</td>\n",
       "      <td>Negro</td>\n",
       "    </tr>\n",
       "    <tr>\n",
       "      <th>44</th>\n",
       "      <td>Negro</td>\n",
       "      <td>Negro</td>\n",
       "    </tr>\n",
       "    <tr>\n",
       "      <th>45</th>\n",
       "      <td>Gris</td>\n",
       "      <td>GRAPHENE</td>\n",
       "    </tr>\n",
       "    <tr>\n",
       "      <th>46</th>\n",
       "      <td>Negro</td>\n",
       "      <td>Negro</td>\n",
       "    </tr>\n",
       "    <tr>\n",
       "      <th>47</th>\n",
       "      <td>Azul</td>\n",
       "      <td>Azul metalizado (CAVANSITE BLU</td>\n",
       "    </tr>\n",
       "    <tr>\n",
       "      <th>48</th>\n",
       "      <td>Negro</td>\n",
       "      <td>HAMANN</td>\n",
       "    </tr>\n",
       "    <tr>\n",
       "      <th>49</th>\n",
       "      <td>Negro</td>\n",
       "      <td>Negro</td>\n",
       "    </tr>\n",
       "    <tr>\n",
       "      <th>50</th>\n",
       "      <td>Blanco</td>\n",
       "      <td>BLANCO</td>\n",
       "    </tr>\n",
       "  </tbody>\n",
       "</table>\n",
       "</div>"
      ],
      "text/plain": [
       "               Color exterior                  Color original\n",
       "0                       Negro     Negro Midnight (metalizado)\n",
       "1                        Gris                            Gris\n",
       "2                    Plateado                      Gris Plata\n",
       "3                        Gris                      Gris Ágata\n",
       "4                        Rojo                     Rosso Corsa\n",
       "5                       Negro                           Negro\n",
       "6                      Blanco                          Blanco\n",
       "7                        Azul                        PACK AMG\n",
       "8             NEGRO OBSIDIANA                 NEGRO OBSIDIANA\n",
       "9                       Negro                           Negro\n",
       "10                       Gris                        Selenita\n",
       "11                      Negro                           Negro\n",
       "12                       Gris                            Gris\n",
       "13                       Gris                            Gris\n",
       "14               Blanco polar                    Blanco polar\n",
       "15                      Negro                           Negro\n",
       "16                       Gris                      Grey Nardo\n",
       "17                      Negro                           Negro\n",
       "18                      Negro                           Negro\n",
       "19                       Rojo                            ROJO\n",
       "20                       Gris                            Gris\n",
       "21  BLANCO POLAR - PINTURA UN       BLANCO POLAR - PINTURA UN\n",
       "22                      Negro                           Negro\n",
       "23                      Negro                           Negro\n",
       "24                       Gris                            Gris\n",
       "25                       Azul                            Azul\n",
       "26                     Blanco                          Blanco\n",
       "27                       Gris                            Gris\n",
       "28                      Negro                     Negro Noche\n",
       "29                     Blanco                          Blanco\n",
       "30                     Blanco                          Blanco\n",
       "31                 Gris-negro                      Gris-negro\n",
       "32                       Gris        M Brooklyn Grey Metallic\n",
       "33                       Gris                       R-DYNAMIC\n",
       "34                       Gris                            Gris\n",
       "35                   Plateado                        Plateado\n",
       "36                      Negro                           Negro\n",
       "37                      Negro                           Negro\n",
       "38                       Gris       Gris Daytona efecto perla\n",
       "39                      Negro                 Negro Obsidiana\n",
       "40                       Gris                            Gris\n",
       "41                   Amarillo                        Amarillo\n",
       "42                     Blanco                          Blanco\n",
       "43                      Negro                           Negro\n",
       "44                      Negro                           Negro\n",
       "45                       Gris                        GRAPHENE\n",
       "46                      Negro                           Negro\n",
       "47                       Azul  Azul metalizado (CAVANSITE BLU\n",
       "48                      Negro                          HAMANN\n",
       "49                      Negro                           Negro\n",
       "50                     Blanco                          BLANCO"
      ]
     },
     "execution_count": 231,
     "metadata": {},
     "output_type": "execute_result"
    }
   ],
   "source": [
    "df.loc[:50, ['Color exterior', 'Color original']]"
   ]
  },
  {
   "cell_type": "markdown",
   "metadata": {},
   "source": [
    "Asumiremos que la mayoría de coches no son repintados para cambiarles el color. De manera que cuando haya un NaN en el color original le copiaremos el valor del color exterior y viceversa."
   ]
  },
  {
   "cell_type": "code",
   "execution_count": 232,
   "metadata": {},
   "outputs": [],
   "source": [
    "df['Color exterior'].fillna(df['Color original'], inplace=True)\n",
    "df['Color original'].fillna(df['Color exterior'], inplace=True)"
   ]
  },
  {
   "cell_type": "code",
   "execution_count": 233,
   "metadata": {},
   "outputs": [
    {
     "data": {
      "text/plain": [
       "Fecha extrac              0\n",
       "Enlace                    0\n",
       "Marca                     0\n",
       "Modelo                    0\n",
       "Precio                    0\n",
       "Localización              0\n",
       "Potencia                  0\n",
       "Tipo vendedor             0\n",
       "Categoría                 0\n",
       "Tipo de vehículo          0\n",
       "puertas                   0\n",
       "Versión del país          0\n",
       "Garantía                  0\n",
       "Kilometraje               0\n",
       "Año                       0\n",
       "Tipo de cambio            0\n",
       "Capacidad                 0\n",
       "Consumo de combustible    0\n",
       "Color exterior            0\n",
       "Color original            0\n",
       "Tracción                  0\n",
       "plazas                    0\n",
       "Número de marchas         0\n",
       "Número de cilindros       0\n",
       "Peso                      0\n",
       "Tipo de combustible       0\n",
       "Mes                       0\n",
       "Ciudad                    0\n",
       "CP                        0\n",
       "provincia                 0\n",
       "dtype: int64"
      ]
     },
     "execution_count": 233,
     "metadata": {},
     "output_type": "execute_result"
    }
   ],
   "source": [
    "df.isna().sum()"
   ]
  },
  {
   "cell_type": "markdown",
   "metadata": {},
   "source": [
    "Con esta maniobra hemos reducido los NaN de la variables 'Color exterior' y 'Color original' considerablemente. No creemos que el color sea un dato tan relevante como para justificar eliminar más de 1000 registros, así que lo rellenaremos con la moda."
   ]
  },
  {
   "cell_type": "code",
   "execution_count": 234,
   "metadata": {},
   "outputs": [
    {
     "name": "stdout",
     "output_type": "stream",
     "text": [
      "La moda de 'Color exterior' es Blanco\n",
      "La moda de 'Color original' es Blanco\n"
     ]
    }
   ],
   "source": [
    "print(\"La moda de 'Color exterior' es\", df['Color exterior'].mode()[0])\n",
    "print(\"La moda de 'Color original' es\", df['Color original'].mode()[0])"
   ]
  },
  {
   "cell_type": "code",
   "execution_count": 235,
   "metadata": {},
   "outputs": [
    {
     "data": {
      "text/plain": [
       "Fecha extrac              0\n",
       "Enlace                    0\n",
       "Marca                     0\n",
       "Modelo                    0\n",
       "Precio                    0\n",
       "Localización              0\n",
       "Potencia                  0\n",
       "Tipo vendedor             0\n",
       "Categoría                 0\n",
       "Tipo de vehículo          0\n",
       "puertas                   0\n",
       "Versión del país          0\n",
       "Garantía                  0\n",
       "Kilometraje               0\n",
       "Año                       0\n",
       "Tipo de cambio            0\n",
       "Capacidad                 0\n",
       "Consumo de combustible    0\n",
       "Color exterior            0\n",
       "Color original            0\n",
       "Tracción                  0\n",
       "plazas                    0\n",
       "Número de marchas         0\n",
       "Número de cilindros       0\n",
       "Peso                      0\n",
       "Tipo de combustible       0\n",
       "Mes                       0\n",
       "Ciudad                    0\n",
       "CP                        0\n",
       "provincia                 0\n",
       "dtype: int64"
      ]
     },
     "execution_count": 235,
     "metadata": {},
     "output_type": "execute_result"
    }
   ],
   "source": [
    "df['Color exterior'].fillna(df['Color exterior'].mode()[0], inplace=True)\n",
    "df['Color original'].fillna(df['Color original'].mode()[0], inplace=True)\n",
    "df.isna().sum()"
   ]
  },
  {
   "cell_type": "markdown",
   "metadata": {},
   "source": [
    "Ahora vamos a ocuparnos de los NaN del atributo Peso. Primero intentaremos ver si los podemos rellenar cogiendo el peso de los coches de la misma marca y modelo que lo tengan indicado."
   ]
  },
  {
   "cell_type": "code",
   "execution_count": 116,
   "metadata": {},
   "outputs": [],
   "source": [
    "df['Peso'] = df.groupby(['Marca', 'Modelo'])['Peso'].fillna(method='ffill')"
   ]
  },
  {
   "cell_type": "code",
   "execution_count": 117,
   "metadata": {},
   "outputs": [
    {
     "data": {
      "text/plain": [
       "Unnamed: 0                      0\n",
       "Fecha extrac                    0\n",
       "Enlace                          0\n",
       "Marca                           0\n",
       "Modelo                        487\n",
       "Precio                          0\n",
       "Localización                    0\n",
       "Potencia                        0\n",
       "Tipo vendedor                   0\n",
       "Categoría                       2\n",
       "Tipo de vehículo                2\n",
       "puertas                       114\n",
       "Versión del país              726\n",
       "Núm. de oferta                726\n",
       "Garantía                     3511\n",
       "Kilometraje                   885\n",
       "Año                           885\n",
       "Tipo de cambio                131\n",
       "Capacidad                    2266\n",
       "Consumo de combustible\\n2    3204\n",
       "Color exterior                  0\n",
       "Color original                  0\n",
       "Tracción                     4175\n",
       "plazas                       3485\n",
       "Número de marchas            3835\n",
       "Número de cilindros          4385\n",
       "Peso                         2003\n",
       "Tipo de combustible          1563\n",
       "dtype: int64"
      ]
     },
     "execution_count": 117,
     "metadata": {},
     "output_type": "execute_result"
    }
   ],
   "source": [
    "df.isna().sum()"
   ]
  },
  {
   "cell_type": "markdown",
   "metadata": {},
   "source": [
    "Así hemos conseguido completar bastantes de los valores NaN. Vamos a ver si completando de atrás hacia alante conseguimos completar alguno más."
   ]
  },
  {
   "cell_type": "code",
   "execution_count": 118,
   "metadata": {},
   "outputs": [
    {
     "data": {
      "text/plain": [
       "Unnamed: 0                      0\n",
       "Fecha extrac                    0\n",
       "Enlace                          0\n",
       "Marca                           0\n",
       "Modelo                        487\n",
       "Precio                          0\n",
       "Localización                    0\n",
       "Potencia                        0\n",
       "Tipo vendedor                   0\n",
       "Categoría                       2\n",
       "Tipo de vehículo                2\n",
       "puertas                       114\n",
       "Versión del país              726\n",
       "Núm. de oferta                726\n",
       "Garantía                     3511\n",
       "Kilometraje                   885\n",
       "Año                           885\n",
       "Tipo de cambio                131\n",
       "Capacidad                    2266\n",
       "Consumo de combustible\\n2    3204\n",
       "Color exterior                  0\n",
       "Color original                  0\n",
       "Tracción                     4175\n",
       "plazas                       3485\n",
       "Número de marchas            3835\n",
       "Número de cilindros          4385\n",
       "Peso                          890\n",
       "Tipo de combustible          1563\n",
       "dtype: int64"
      ]
     },
     "execution_count": 118,
     "metadata": {},
     "output_type": "execute_result"
    }
   ],
   "source": [
    "df['Peso'] = df.groupby(['Marca', 'Modelo'])['Peso'].fillna(method='bfill')\n",
    "df.isna().sum()"
   ]
  },
  {
   "cell_type": "markdown",
   "metadata": {},
   "source": [
    "Ahora ya no hay más coches de la misma marca y modelo con los que completar la información. Para los restantes queremos ponerle la media de peso de los coches de esa misma marca. Pero no podemos calcularla aún porque el peso es un texto con el sufijo 'kg'. Primero tendremos que quitarle el sufijo y cambiarle el tipo al atributo 'Peso'"
   ]
  },
  {
   "cell_type": "code",
   "execution_count": 119,
   "metadata": {},
   "outputs": [],
   "source": [
    "def process_numbers_and_nans(text):\n",
    "    if pd.isna(text):\n",
    "        return None\n",
    "    numbers = re.findall(r'\\d+', text)\n",
    "    return int(''.join(numbers))"
   ]
  },
  {
   "cell_type": "code",
   "execution_count": 120,
   "metadata": {},
   "outputs": [
    {
     "data": {
      "text/plain": [
       "0    1439.0\n",
       "1     950.0\n",
       "2    1615.0\n",
       "3    1785.0\n",
       "4    1290.0\n",
       "Name: Peso, dtype: float64"
      ]
     },
     "execution_count": 120,
     "metadata": {},
     "output_type": "execute_result"
    }
   ],
   "source": [
    "df['Peso']=df['Peso'].apply(process_numbers_and_nans)\n",
    "df['Peso'].head()"
   ]
  },
  {
   "cell_type": "markdown",
   "metadata": {},
   "source": [
    "Ahora vamos a aplicar la media de la marca a los pesos que siguen en Nan"
   ]
  },
  {
   "cell_type": "code",
   "execution_count": 121,
   "metadata": {},
   "outputs": [
    {
     "data": {
      "text/plain": [
       "Unnamed: 0                      0\n",
       "Fecha extrac                    0\n",
       "Enlace                          0\n",
       "Marca                           0\n",
       "Modelo                        487\n",
       "Precio                          0\n",
       "Localización                    0\n",
       "Potencia                        0\n",
       "Tipo vendedor                   0\n",
       "Categoría                       2\n",
       "Tipo de vehículo                2\n",
       "puertas                       114\n",
       "Versión del país              726\n",
       "Núm. de oferta                726\n",
       "Garantía                     3511\n",
       "Kilometraje                   885\n",
       "Año                           885\n",
       "Tipo de cambio                131\n",
       "Capacidad                    2266\n",
       "Consumo de combustible\\n2    3204\n",
       "Color exterior                  0\n",
       "Color original                  0\n",
       "Tracción                     4175\n",
       "plazas                       3485\n",
       "Número de marchas            3835\n",
       "Número de cilindros          4385\n",
       "Peso                            9\n",
       "Tipo de combustible          1563\n",
       "dtype: int64"
      ]
     },
     "execution_count": 121,
     "metadata": {},
     "output_type": "execute_result"
    }
   ],
   "source": [
    "df['Peso'] = df.groupby(['Marca'])['Peso'].transform(lambda x: x.fillna(x.mean()))\n",
    "df.isna().sum()"
   ]
  },
  {
   "cell_type": "markdown",
   "metadata": {},
   "source": [
    "Los que quedan en Nan deben ser los que no tienen otros vehículos con la misma marca con peso asignado. Así que los rellenaremos con la media de peso de coches, sin filtrar por marca"
   ]
  },
  {
   "cell_type": "code",
   "execution_count": 122,
   "metadata": {},
   "outputs": [
    {
     "data": {
      "text/plain": [
       "Unnamed: 0                      0\n",
       "Fecha extrac                    0\n",
       "Enlace                          0\n",
       "Marca                           0\n",
       "Modelo                        487\n",
       "Precio                          0\n",
       "Localización                    0\n",
       "Potencia                        0\n",
       "Tipo vendedor                   0\n",
       "Categoría                       2\n",
       "Tipo de vehículo                2\n",
       "puertas                       114\n",
       "Versión del país              726\n",
       "Núm. de oferta                726\n",
       "Garantía                     3511\n",
       "Kilometraje                   885\n",
       "Año                           885\n",
       "Tipo de cambio                131\n",
       "Capacidad                    2266\n",
       "Consumo de combustible\\n2    3204\n",
       "Color exterior                  0\n",
       "Color original                  0\n",
       "Tracción                     4175\n",
       "plazas                       3485\n",
       "Número de marchas            3835\n",
       "Número de cilindros          4385\n",
       "Peso                            0\n",
       "Tipo de combustible          1563\n",
       "dtype: int64"
      ]
     },
     "execution_count": 122,
     "metadata": {},
     "output_type": "execute_result"
    }
   ],
   "source": [
    "df['Peso'] = df['Peso'].transform(lambda x: x.fillna(x.mean()))\n",
    "df.isna().sum()"
   ]
  },
  {
   "cell_type": "markdown",
   "metadata": {},
   "source": [
    "Repetiremos el proceso para el número de cilindros. Primero intentaremos llenar hacia alante y hacia atrás con los coches de la misma marca y modelo."
   ]
  },
  {
   "cell_type": "code",
   "execution_count": 123,
   "metadata": {},
   "outputs": [
    {
     "data": {
      "text/plain": [
       "Unnamed: 0                      0\n",
       "Fecha extrac                    0\n",
       "Enlace                          0\n",
       "Marca                           0\n",
       "Modelo                        487\n",
       "Precio                          0\n",
       "Localización                    0\n",
       "Potencia                        0\n",
       "Tipo vendedor                   0\n",
       "Categoría                       2\n",
       "Tipo de vehículo                2\n",
       "puertas                       114\n",
       "Versión del país              726\n",
       "Núm. de oferta                726\n",
       "Garantía                     3511\n",
       "Kilometraje                   885\n",
       "Año                           885\n",
       "Tipo de cambio                131\n",
       "Capacidad                    2266\n",
       "Consumo de combustible\\n2    3204\n",
       "Color exterior                  0\n",
       "Color original                  0\n",
       "Tracción                     4175\n",
       "plazas                       3485\n",
       "Número de marchas            3835\n",
       "Número de cilindros           619\n",
       "Peso                            0\n",
       "Tipo de combustible          1563\n",
       "dtype: int64"
      ]
     },
     "execution_count": 123,
     "metadata": {},
     "output_type": "execute_result"
    }
   ],
   "source": [
    "df['Número de cilindros'] = df.groupby(['Marca', 'Modelo'])['Número de cilindros'].fillna(method='ffill')\n",
    "df['Número de cilindros'] = df.groupby(['Marca', 'Modelo'])['Número de cilindros'].fillna(method='bfill')\n",
    "df.isna().sum()"
   ]
  },
  {
   "cell_type": "markdown",
   "metadata": {},
   "source": [
    "Hemos reducido significativamente el número de NaN. Ahora aplicaremos la moda para esa marca a los que no hemos podido rellenar."
   ]
  },
  {
   "cell_type": "code",
   "execution_count": 124,
   "metadata": {},
   "outputs": [
    {
     "data": {
      "text/plain": [
       "Unnamed: 0                      0\n",
       "Fecha extrac                    0\n",
       "Enlace                          0\n",
       "Marca                           0\n",
       "Modelo                        487\n",
       "Precio                          0\n",
       "Localización                    0\n",
       "Potencia                        0\n",
       "Tipo vendedor                   0\n",
       "Categoría                       2\n",
       "Tipo de vehículo                2\n",
       "puertas                       114\n",
       "Versión del país              726\n",
       "Núm. de oferta                726\n",
       "Garantía                     3511\n",
       "Kilometraje                   885\n",
       "Año                           885\n",
       "Tipo de cambio                131\n",
       "Capacidad                    2266\n",
       "Consumo de combustible\\n2    3204\n",
       "Color exterior                  0\n",
       "Color original                  0\n",
       "Tracción                     4175\n",
       "plazas                       3485\n",
       "Número de marchas            3835\n",
       "Número de cilindros           619\n",
       "Peso                            0\n",
       "Tipo de combustible          1563\n",
       "dtype: int64"
      ]
     },
     "execution_count": 124,
     "metadata": {},
     "output_type": "execute_result"
    }
   ],
   "source": [
    "#Si la moda de la Marca es NaN crashea, lo tratamos en try/except\n",
    "try:\n",
    "    df['Número de cilindros'] = df.groupby(['Marca'])['Número de cilindros'].transform(lambda x: x.fillna((x.mode()[0])))\n",
    "except:\n",
    "    pass\n",
    "df.isna().sum()"
   ]
  },
  {
   "cell_type": "markdown",
   "metadata": {},
   "source": [
    "Y por último los que faltan les asignaremos la media de cilindros de todos nuestros registros."
   ]
  },
  {
   "cell_type": "code",
   "execution_count": 125,
   "metadata": {},
   "outputs": [
    {
     "data": {
      "text/plain": [
       "Unnamed: 0                      0\n",
       "Fecha extrac                    0\n",
       "Enlace                          0\n",
       "Marca                           0\n",
       "Modelo                        487\n",
       "Precio                          0\n",
       "Localización                    0\n",
       "Potencia                        0\n",
       "Tipo vendedor                   0\n",
       "Categoría                       2\n",
       "Tipo de vehículo                2\n",
       "puertas                       114\n",
       "Versión del país              726\n",
       "Núm. de oferta                726\n",
       "Garantía                     3511\n",
       "Kilometraje                   885\n",
       "Año                           885\n",
       "Tipo de cambio                131\n",
       "Capacidad                    2266\n",
       "Consumo de combustible\\n2    3204\n",
       "Color exterior                  0\n",
       "Color original                  0\n",
       "Tracción                     4175\n",
       "plazas                       3485\n",
       "Número de marchas            3835\n",
       "Número de cilindros             0\n",
       "Peso                            0\n",
       "Tipo de combustible          1563\n",
       "dtype: int64"
      ]
     },
     "execution_count": 125,
     "metadata": {},
     "output_type": "execute_result"
    }
   ],
   "source": [
    "df['Número de cilindros'] = df['Número de cilindros'].transform(lambda x: x.fillna((x.mode()[0])))\n",
    "df.isna().sum()"
   ]
  },
  {
   "cell_type": "markdown",
   "metadata": {},
   "source": [
    "Como no puede haber decimales en el número de cilindros que contiene un coche cambiaremos el tipo del atributo a entero."
   ]
  },
  {
   "cell_type": "code",
   "execution_count": 126,
   "metadata": {},
   "outputs": [],
   "source": [
    "df['Número de cilindros']=df['Número de cilindros'].astype('int64')"
   ]
  },
  {
   "cell_type": "markdown",
   "metadata": {},
   "source": [
    "Repetiremos el mismo proceso con el número de marchas en el mismo orden. Rellenado con valores de la misma marca y modelo hacia alante y hacia atrás, media de la marca y media de de los coches"
   ]
  },
  {
   "cell_type": "code",
   "execution_count": 127,
   "metadata": {},
   "outputs": [
    {
     "data": {
      "text/plain": [
       "Unnamed: 0                      0\n",
       "Fecha extrac                    0\n",
       "Enlace                          0\n",
       "Marca                           0\n",
       "Modelo                        487\n",
       "Precio                          0\n",
       "Localización                    0\n",
       "Potencia                        0\n",
       "Tipo vendedor                   0\n",
       "Categoría                       2\n",
       "Tipo de vehículo                2\n",
       "puertas                       114\n",
       "Versión del país              726\n",
       "Núm. de oferta                726\n",
       "Garantía                     3511\n",
       "Kilometraje                   885\n",
       "Año                           885\n",
       "Tipo de cambio                131\n",
       "Capacidad                    2266\n",
       "Consumo de combustible\\n2    3204\n",
       "Color exterior                  0\n",
       "Color original                  0\n",
       "Tracción                     4175\n",
       "plazas                       3485\n",
       "Número de marchas               0\n",
       "Número de cilindros             0\n",
       "Peso                            0\n",
       "Tipo de combustible          1563\n",
       "dtype: int64"
      ]
     },
     "execution_count": 127,
     "metadata": {},
     "output_type": "execute_result"
    }
   ],
   "source": [
    "df['Número de marchas'] = df.groupby(['Marca', 'Modelo'])['Número de marchas'].fillna(method='ffill')\n",
    "df['Número de marchas'] = df.groupby(['Marca', 'Modelo'])['Número de marchas'].fillna(method='bfill')\n",
    "#Cuando la moda de la marca para ese atributo es NaN crashea, lo gestionamos con try/except\n",
    "try:\n",
    "    df['Número de marchas'] = df.groupby(['Marca'])['Número de marchas'].transform(lambda x: x.fillna((x.mode()[0])))\n",
    "except:\n",
    "    pass\n",
    "df['Número de marchas'] = df['Número de marchas'].transform(lambda x: x.fillna((x.mode()[0])))\n",
    "df.isna().sum()"
   ]
  },
  {
   "cell_type": "markdown",
   "metadata": {},
   "source": [
    "Cambiaremos la columna a entera porque no puede haber número de marchas decimales"
   ]
  },
  {
   "cell_type": "code",
   "execution_count": 128,
   "metadata": {},
   "outputs": [
    {
     "data": {
      "text/plain": [
       "Número de marchas\n",
       "6     7416\n",
       "5     2959\n",
       "8     2866\n",
       "7     2366\n",
       "1     1622\n",
       "9      593\n",
       "4      262\n",
       "2       53\n",
       "3       39\n",
       "10      23\n",
       "Name: count, dtype: int64"
      ]
     },
     "execution_count": 128,
     "metadata": {},
     "output_type": "execute_result"
    }
   ],
   "source": [
    "df['Número de marchas']=df['Número de marchas'].astype('int64')\n",
    "df['Número de marchas'].value_counts()"
   ]
  },
  {
   "cell_type": "markdown",
   "metadata": {},
   "source": [
    "Mismo proceso para el atributo 'Tracción' en este caso no se trata de un atributo numérico."
   ]
  },
  {
   "cell_type": "code",
   "execution_count": 129,
   "metadata": {},
   "outputs": [
    {
     "data": {
      "text/plain": [
       "Unnamed: 0                      0\n",
       "Fecha extrac                    0\n",
       "Enlace                          0\n",
       "Marca                           0\n",
       "Modelo                        487\n",
       "Precio                          0\n",
       "Localización                    0\n",
       "Potencia                        0\n",
       "Tipo vendedor                   0\n",
       "Categoría                       2\n",
       "Tipo de vehículo                2\n",
       "puertas                       114\n",
       "Versión del país              726\n",
       "Núm. de oferta                726\n",
       "Garantía                     3511\n",
       "Kilometraje                   885\n",
       "Año                           885\n",
       "Tipo de cambio                131\n",
       "Capacidad                    2266\n",
       "Consumo de combustible\\n2    3204\n",
       "Color exterior                  0\n",
       "Color original                  0\n",
       "Tracción                        0\n",
       "plazas                       3485\n",
       "Número de marchas               0\n",
       "Número de cilindros             0\n",
       "Peso                            0\n",
       "Tipo de combustible          1563\n",
       "dtype: int64"
      ]
     },
     "execution_count": 129,
     "metadata": {},
     "output_type": "execute_result"
    }
   ],
   "source": [
    "df['Tracción'] = df.groupby(['Marca', 'Modelo'])['Tracción'].fillna(method='ffill')\n",
    "df['Tracción'] = df.groupby(['Marca', 'Modelo'])['Tracción'].fillna(method='bfill')\n",
    "#El siguiente bloque está con try/except porque si la moda de la marca era NaN crasheaba.\n",
    "try:\n",
    "    df['Tracción'] = df.groupby(['Marca'])['Tracción'].transform(lambda x: x.fillna(x.mode()[0]))\n",
    "except:\n",
    "    pass\n",
    "df['Tracción'] = df['Tracción'].transform(lambda x: x.fillna(x.mode()[0]))\n",
    "df.isna().sum()"
   ]
  },
  {
   "cell_type": "markdown",
   "metadata": {},
   "source": [
    "Pasamos al atributo 'Garantía'. Lo primero que haremos es quitar el sufijo 'mes' que aparece después de cada valor."
   ]
  },
  {
   "cell_type": "code",
   "execution_count": 130,
   "metadata": {},
   "outputs": [
    {
     "data": {
      "text/plain": [
       "0      12\n",
       "1      12\n",
       "2      12\n",
       "3      12\n",
       "4      12\n",
       "5      18\n",
       "6      12\n",
       "7      12\n",
       "8      12\n",
       "9      12\n",
       "10     24\n",
       "11     12\n",
       "12     24\n",
       "13    NaN\n",
       "14    NaN\n",
       "15     12\n",
       "16     36\n",
       "17    NaN\n",
       "18     12\n",
       "19     12\n",
       "Name: Garantía, dtype: object"
      ]
     },
     "execution_count": 130,
     "metadata": {},
     "output_type": "execute_result"
    }
   ],
   "source": [
    "df['Garantía']=df['Garantía'].str.extract(r'(\\d+)')\n",
    "df['Garantía'].head(20)"
   ]
  },
  {
   "cell_type": "markdown",
   "metadata": {},
   "source": [
    "En España la legislación dice que los vendedores particulares deben ofrecer 6 meses de garantía para cubrir las averías ocultas que un vehículo de segunda mano pudiera tener.\n",
    "En el caso de vendedores profesionales la garantía que deben ofrecer es de 12 meses. Así que rellenaremos los Nan según la legalidad que ha de ofrecer el tipo de vendedor ya que asumiremos que si no han especificado que ofrecen mayor garantía es que ofrecen la mínima legal."
   ]
  },
  {
   "cell_type": "code",
   "execution_count": 131,
   "metadata": {},
   "outputs": [
    {
     "data": {
      "text/plain": [
       "Unnamed: 0                      0\n",
       "Fecha extrac                    0\n",
       "Enlace                          0\n",
       "Marca                           0\n",
       "Modelo                        487\n",
       "Precio                          0\n",
       "Localización                    0\n",
       "Potencia                        0\n",
       "Tipo vendedor                   0\n",
       "Categoría                       2\n",
       "Tipo de vehículo                2\n",
       "puertas                       114\n",
       "Versión del país              726\n",
       "Núm. de oferta                726\n",
       "Garantía                        0\n",
       "Kilometraje                   885\n",
       "Año                           885\n",
       "Tipo de cambio                131\n",
       "Capacidad                    2266\n",
       "Consumo de combustible\\n2    3204\n",
       "Color exterior                  0\n",
       "Color original                  0\n",
       "Tracción                        0\n",
       "plazas                       3485\n",
       "Número de marchas               0\n",
       "Número de cilindros             0\n",
       "Peso                            0\n",
       "Tipo de combustible          1563\n",
       "dtype: int64"
      ]
     },
     "execution_count": 131,
     "metadata": {},
     "output_type": "execute_result"
    }
   ],
   "source": [
    "df['Garantía'] = df.apply(lambda row: 6 if row['Tipo vendedor'] != 'Prof.' and pd.isna(row['Garantía']) else row['Garantía'], axis=1)\n",
    "df['Garantía'].fillna(12, inplace=True)\n",
    "df.isna().sum()"
   ]
  },
  {
   "cell_type": "markdown",
   "metadata": {},
   "source": [
    "El atributo 'Consumo de combustible' contiene en realidad 3 datos (consumo mixto, urbano y extraurbano). Nos quedaremos solo con el consumo mixto y únicamente con la cifra"
   ]
  },
  {
   "cell_type": "code",
   "execution_count": 132,
   "metadata": {},
   "outputs": [],
   "source": [
    "df=df.rename(columns={'Consumo de combustible\\n2' : 'Consumo de combustible'})"
   ]
  },
  {
   "cell_type": "code",
   "execution_count": 133,
   "metadata": {},
   "outputs": [
    {
     "data": {
      "text/plain": [
       "'6,6 l/100 km (mixto)'"
      ]
     },
     "execution_count": 133,
     "metadata": {},
     "output_type": "execute_result"
    }
   ],
   "source": [
    "df['Consumo de combustible'][0]"
   ]
  },
  {
   "cell_type": "code",
   "execution_count": 134,
   "metadata": {},
   "outputs": [],
   "source": [
    "df['Consumo de combustible'] = df['Consumo de combustible'].str.extract(r'(\\d+,\\d+)')"
   ]
  },
  {
   "cell_type": "code",
   "execution_count": 135,
   "metadata": {},
   "outputs": [
    {
     "data": {
      "text/plain": [
       "0     6,6\n",
       "1     5,4\n",
       "2     NaN\n",
       "3     6,2\n",
       "4    13,6\n",
       "Name: Consumo de combustible, dtype: object"
      ]
     },
     "execution_count": 135,
     "metadata": {},
     "output_type": "execute_result"
    }
   ],
   "source": [
    "df['Consumo de combustible'].head()"
   ]
  },
  {
   "cell_type": "markdown",
   "metadata": {},
   "source": [
    "Vamos a ver cuántos NaN tenemos y a limpiarlos con el proceso que hemos seguido en la mayoría de campos."
   ]
  },
  {
   "cell_type": "code",
   "execution_count": 136,
   "metadata": {},
   "outputs": [
    {
     "data": {
      "text/plain": [
       "6692"
      ]
     },
     "execution_count": 136,
     "metadata": {},
     "output_type": "execute_result"
    }
   ],
   "source": [
    "df['Consumo de combustible'].isna().sum()"
   ]
  },
  {
   "cell_type": "code",
   "execution_count": 137,
   "metadata": {},
   "outputs": [],
   "source": [
    "df['Consumo de combustible']=df['Consumo de combustible'].str.replace(',', '.')\n",
    "df['Consumo de combustible']=df['Consumo de combustible'].astype('float64')"
   ]
  },
  {
   "cell_type": "code",
   "execution_count": 138,
   "metadata": {},
   "outputs": [
    {
     "data": {
      "text/plain": [
       "0"
      ]
     },
     "execution_count": 138,
     "metadata": {},
     "output_type": "execute_result"
    }
   ],
   "source": [
    "df['Consumo de combustible'] = df.groupby(['Marca', 'Modelo'])['Consumo de combustible'].fillna(method='ffill')\n",
    "df['Consumo de combustible'] = df.groupby(['Marca', 'Modelo'])['Consumo de combustible'].fillna(method='bfill')\n",
    "try:\n",
    "    df['Consumo de combustible'] = df.groupby(['Marca'])['Consumo de combustible'].transform(lambda x: x.fillna(x.mean()))\n",
    "except:\n",
    "    pass\n",
    "df['Consumo de combustible'] = df['Consumo de combustible'].transform(lambda x: x.fillna(x.mean()))\n",
    "df['Consumo de combustible'].isna().sum()"
   ]
  },
  {
   "cell_type": "markdown",
   "metadata": {},
   "source": [
    "A continuación nos ocuparemos de la capacidad. Empezaremos quitando 'cm3' después de los valores y dejando solo el número, como hicimos con los kms. Luego llenaremos según marca y modelo, luego la media de la marca, y finalmente la media total"
   ]
  },
  {
   "cell_type": "code",
   "execution_count": 139,
   "metadata": {},
   "outputs": [],
   "source": [
    "df['Capacidad']=df['Capacidad'].apply(process_numbers_and_nans)"
   ]
  },
  {
   "cell_type": "code",
   "execution_count": 140,
   "metadata": {},
   "outputs": [],
   "source": [
    "df['Capacidad'] = df.groupby(['Marca', 'Modelo'])['Capacidad'].fillna(method='ffill')\n",
    "df['Capacidad'] = df.groupby(['Marca', 'Modelo'])['Capacidad'].fillna(method='bfill')\n",
    "df['Capacidad'] = df.groupby(['Marca'])['Capacidad'].transform(lambda x: x.fillna(x.mean()))\n",
    "df['Capacidad'] = df['Capacidad'].transform(lambda x: x.fillna(x.mean()))"
   ]
  },
  {
   "cell_type": "code",
   "execution_count": 141,
   "metadata": {},
   "outputs": [
    {
     "data": {
      "text/plain": [
       "Unnamed: 0                   0\n",
       "Fecha extrac                 0\n",
       "Enlace                       0\n",
       "Marca                        0\n",
       "Modelo                     487\n",
       "Precio                       0\n",
       "Localización                 0\n",
       "Potencia                     0\n",
       "Tipo vendedor                0\n",
       "Categoría                    2\n",
       "Tipo de vehículo             2\n",
       "puertas                    114\n",
       "Versión del país           726\n",
       "Núm. de oferta             726\n",
       "Garantía                     0\n",
       "Kilometraje                885\n",
       "Año                        885\n",
       "Tipo de cambio             131\n",
       "Capacidad                    0\n",
       "Consumo de combustible       0\n",
       "Color exterior               0\n",
       "Color original               0\n",
       "Tracción                     0\n",
       "plazas                    3485\n",
       "Número de marchas            0\n",
       "Número de cilindros          0\n",
       "Peso                         0\n",
       "Tipo de combustible       1563\n",
       "dtype: int64"
      ]
     },
     "execution_count": 141,
     "metadata": {},
     "output_type": "execute_result"
    }
   ],
   "source": [
    "df.isna().sum()"
   ]
  },
  {
   "cell_type": "markdown",
   "metadata": {},
   "source": [
    "El mismo proceso que venimos aplicando ahora para el número de plazas."
   ]
  },
  {
   "cell_type": "code",
   "execution_count": 142,
   "metadata": {},
   "outputs": [
    {
     "data": {
      "text/plain": [
       "Unnamed: 0                   0\n",
       "Fecha extrac                 0\n",
       "Enlace                       0\n",
       "Marca                        0\n",
       "Modelo                     487\n",
       "Precio                       0\n",
       "Localización                 0\n",
       "Potencia                     0\n",
       "Tipo vendedor                0\n",
       "Categoría                    2\n",
       "Tipo de vehículo             2\n",
       "puertas                    114\n",
       "Versión del país           726\n",
       "Núm. de oferta             726\n",
       "Garantía                     0\n",
       "Kilometraje                885\n",
       "Año                        885\n",
       "Tipo de cambio             131\n",
       "Capacidad                    0\n",
       "Consumo de combustible       0\n",
       "Color exterior               0\n",
       "Color original               0\n",
       "Tracción                     0\n",
       "plazas                       0\n",
       "Número de marchas            0\n",
       "Número de cilindros          0\n",
       "Peso                         0\n",
       "Tipo de combustible       1563\n",
       "dtype: int64"
      ]
     },
     "execution_count": 142,
     "metadata": {},
     "output_type": "execute_result"
    }
   ],
   "source": [
    "df['plazas'] = df.groupby(['Marca', 'Modelo'])['plazas'].fillna(method='ffill')\n",
    "df['plazas'] = df.groupby(['Marca', 'Modelo'])['plazas'].fillna(method='bfill')\n",
    "try:\n",
    "    df['plazas'] = df.groupby(['Marca'])['plazas'].transform(lambda x: x.fillna(x.mode()[0]))\n",
    "except:\n",
    "    pass\n",
    "df['plazas'] = df['plazas'].transform(lambda x: x.fillna(x.mode()[0]))\n",
    "df.isna().sum()"
   ]
  },
  {
   "cell_type": "markdown",
   "metadata": {},
   "source": [
    "Es el momento del 'Tipo de combustible'. El tipo de combustible afecta significativamente al precio, que será nuestra variable target en ML. Los vehículos gasolina son más baratos que los diesel y para una misma marca y modelo muchas veces existe la versión gasolina y la versión diesel. Por lo tanto no parece razonable realizar el proceso de completar que venimos haciendo en otros atributos, sino más bien eliminar los registros que no tienen especificado el tipo de combustible."
   ]
  },
  {
   "cell_type": "code",
   "execution_count": 143,
   "metadata": {},
   "outputs": [
    {
     "data": {
      "text/plain": [
       "Unnamed: 0                  0\n",
       "Fecha extrac                0\n",
       "Enlace                      0\n",
       "Marca                       0\n",
       "Modelo                    464\n",
       "Precio                      0\n",
       "Localización                0\n",
       "Potencia                    0\n",
       "Tipo vendedor               0\n",
       "Categoría                   0\n",
       "Tipo de vehículo            0\n",
       "puertas                    91\n",
       "Versión del país          682\n",
       "Núm. de oferta            682\n",
       "Garantía                    0\n",
       "Kilometraje               711\n",
       "Año                       711\n",
       "Tipo de cambio            113\n",
       "Capacidad                   0\n",
       "Consumo de combustible      0\n",
       "Color exterior              0\n",
       "Color original              0\n",
       "Tracción                    0\n",
       "plazas                      0\n",
       "Número de marchas           0\n",
       "Número de cilindros         0\n",
       "Peso                        0\n",
       "Tipo de combustible         0\n",
       "dtype: int64"
      ]
     },
     "execution_count": 143,
     "metadata": {},
     "output_type": "execute_result"
    }
   ],
   "source": [
    "df=df[df['Tipo de combustible'].notna()]\n",
    "df.isna().sum()"
   ]
  },
  {
   "cell_type": "markdown",
   "metadata": {},
   "source": [
    "Vamos a separar el atributo 'Año' que viene en formato mm/aaaa en una variable 'Año' y otra 'Mes'"
   ]
  },
  {
   "cell_type": "code",
   "execution_count": 144,
   "metadata": {},
   "outputs": [
    {
     "data": {
      "text/plain": [
       "Año\n",
       "04/2023    317\n",
       "06/2019    255\n",
       "07/2019    246\n",
       "07/2022    240\n",
       "01/2019    239\n",
       "          ... \n",
       "05/1929      1\n",
       "02/1996      1\n",
       "08/2001      1\n",
       "10/1968      1\n",
       "04/1969      1\n",
       "Name: count, Length: 610, dtype: int64"
      ]
     },
     "execution_count": 144,
     "metadata": {},
     "output_type": "execute_result"
    }
   ],
   "source": [
    "df['Año'].value_counts()"
   ]
  },
  {
   "cell_type": "code",
   "execution_count": 145,
   "metadata": {},
   "outputs": [],
   "source": [
    "df['Año'].fillna('', inplace=True)\n",
    "df[['Mes', 'Año']] = df['Año'].str.split('/', expand=True)\n",
    "df['Año']=df['Año'].apply(process_numbers_and_nans)"
   ]
  },
  {
   "cell_type": "markdown",
   "metadata": {},
   "source": [
    "El año es otro atributo importante para el precio. Y dificil de imputar pues hay modelos de vehículos que llevan fabricándose más de una década y marcas que llevan muchas décadas en funcionamiento. Así que en este caso también optaremos por eliminar las filas que no tienen especificado el año."
   ]
  },
  {
   "cell_type": "code",
   "execution_count": 146,
   "metadata": {},
   "outputs": [
    {
     "data": {
      "text/plain": [
       "Unnamed: 0                  0\n",
       "Fecha extrac                0\n",
       "Enlace                      0\n",
       "Marca                       0\n",
       "Modelo                    440\n",
       "Precio                      0\n",
       "Localización                0\n",
       "Potencia                    0\n",
       "Tipo vendedor               0\n",
       "Categoría                   0\n",
       "Tipo de vehículo            0\n",
       "puertas                    91\n",
       "Versión del país          682\n",
       "Núm. de oferta            682\n",
       "Garantía                    0\n",
       "Kilometraje                 0\n",
       "Año                         0\n",
       "Tipo de cambio            113\n",
       "Capacidad                   0\n",
       "Consumo de combustible      0\n",
       "Color exterior              0\n",
       "Color original              0\n",
       "Tracción                    0\n",
       "plazas                      0\n",
       "Número de marchas           0\n",
       "Número de cilindros         0\n",
       "Peso                        0\n",
       "Tipo de combustible         0\n",
       "Mes                         0\n",
       "dtype: int64"
      ]
     },
     "execution_count": 146,
     "metadata": {},
     "output_type": "execute_result"
    }
   ],
   "source": [
    "df=df[df['Año'].notna()]\n",
    "df.isna().sum()"
   ]
  },
  {
   "cell_type": "markdown",
   "metadata": {},
   "source": [
    "Pasamos al atributo 'Version del país'. El único valor disponible en el dataset es España, así que es el que asignaremos a todos los vehículos con Nan en ese atributo"
   ]
  },
  {
   "cell_type": "code",
   "execution_count": 147,
   "metadata": {},
   "outputs": [
    {
     "data": {
      "text/plain": [
       "Versión del país\n",
       "España    15243\n",
       "Name: count, dtype: int64"
      ]
     },
     "execution_count": 147,
     "metadata": {},
     "output_type": "execute_result"
    }
   ],
   "source": [
    "df['Versión del país'].value_counts()"
   ]
  },
  {
   "cell_type": "code",
   "execution_count": 148,
   "metadata": {},
   "outputs": [
    {
     "data": {
      "text/plain": [
       "Unnamed: 0                  0\n",
       "Fecha extrac                0\n",
       "Enlace                      0\n",
       "Marca                       0\n",
       "Modelo                    440\n",
       "Precio                      0\n",
       "Localización                0\n",
       "Potencia                    0\n",
       "Tipo vendedor               0\n",
       "Categoría                   0\n",
       "Tipo de vehículo            0\n",
       "puertas                    91\n",
       "Versión del país            0\n",
       "Núm. de oferta            682\n",
       "Garantía                    0\n",
       "Kilometraje                 0\n",
       "Año                         0\n",
       "Tipo de cambio            113\n",
       "Capacidad                   0\n",
       "Consumo de combustible      0\n",
       "Color exterior              0\n",
       "Color original              0\n",
       "Tracción                    0\n",
       "plazas                      0\n",
       "Número de marchas           0\n",
       "Número de cilindros         0\n",
       "Peso                        0\n",
       "Tipo de combustible         0\n",
       "Mes                         0\n",
       "dtype: int64"
      ]
     },
     "execution_count": 148,
     "metadata": {},
     "output_type": "execute_result"
    }
   ],
   "source": [
    "df['Versión del país'].fillna('España', inplace=True)\n",
    "df.isna().sum()"
   ]
  },
  {
   "cell_type": "markdown",
   "metadata": {},
   "source": [
    "El siguiente atributo con NaNs es 'Núm. de oferta'. Este atributo al ser un identificador nos sirve para detectar duplicados, pero una vez se han eliminado estos no tiene interés para el análisis ni el modelo, así que lo eliminaremos."
   ]
  },
  {
   "cell_type": "code",
   "execution_count": 149,
   "metadata": {},
   "outputs": [
    {
     "data": {
      "text/plain": [
       "Núm. de oferta\n",
       "10794610.0    3\n",
       "11062646.0    2\n",
       "7843231.0     2\n",
       "10961456.0    2\n",
       "10889853.0    2\n",
       "             ..\n",
       "11081802.0    1\n",
       "11313733.0    1\n",
       "10842500.0    1\n",
       "8117767.0     1\n",
       "11467880.0    1\n",
       "Name: count, Length: 15211, dtype: int64"
      ]
     },
     "execution_count": 149,
     "metadata": {},
     "output_type": "execute_result"
    }
   ],
   "source": [
    "df['Núm. de oferta'].value_counts()"
   ]
  },
  {
   "cell_type": "code",
   "execution_count": 150,
   "metadata": {},
   "outputs": [
    {
     "data": {
      "text/html": [
       "<div>\n",
       "<style scoped>\n",
       "    .dataframe tbody tr th:only-of-type {\n",
       "        vertical-align: middle;\n",
       "    }\n",
       "\n",
       "    .dataframe tbody tr th {\n",
       "        vertical-align: top;\n",
       "    }\n",
       "\n",
       "    .dataframe thead th {\n",
       "        text-align: right;\n",
       "    }\n",
       "</style>\n",
       "<table border=\"1\" class=\"dataframe\">\n",
       "  <thead>\n",
       "    <tr style=\"text-align: right;\">\n",
       "      <th></th>\n",
       "      <th>Unnamed: 0</th>\n",
       "      <th>Fecha extrac</th>\n",
       "      <th>Enlace</th>\n",
       "      <th>Marca</th>\n",
       "      <th>Modelo</th>\n",
       "      <th>Precio</th>\n",
       "      <th>Localización</th>\n",
       "      <th>Potencia</th>\n",
       "      <th>Tipo vendedor</th>\n",
       "      <th>Categoría</th>\n",
       "      <th>...</th>\n",
       "      <th>Consumo de combustible</th>\n",
       "      <th>Color exterior</th>\n",
       "      <th>Color original</th>\n",
       "      <th>Tracción</th>\n",
       "      <th>plazas</th>\n",
       "      <th>Número de marchas</th>\n",
       "      <th>Número de cilindros</th>\n",
       "      <th>Peso</th>\n",
       "      <th>Tipo de combustible</th>\n",
       "      <th>Mes</th>\n",
       "    </tr>\n",
       "  </thead>\n",
       "  <tbody>\n",
       "    <tr>\n",
       "      <th>488</th>\n",
       "      <td>488</td>\n",
       "      <td>2023-11-11</td>\n",
       "      <td>https://www.autoscout24.es/anuncios/mitsubishi...</td>\n",
       "      <td>Mitsubishi</td>\n",
       "      <td>Montero</td>\n",
       "      <td>€ 5.900,-</td>\n",
       "      <td>https://maps.google.com/?q=POL%C3%8DGONO%20B%2...</td>\n",
       "      <td>92 kW (125 CV)</td>\n",
       "      <td>Prof.</td>\n",
       "      <td>SUV/4x4/Pickup</td>\n",
       "      <td>...</td>\n",
       "      <td>5.7</td>\n",
       "      <td>Azul</td>\n",
       "      <td>Azul</td>\n",
       "      <td>Tracción delantera</td>\n",
       "      <td>4.0</td>\n",
       "      <td>6</td>\n",
       "      <td>4</td>\n",
       "      <td>1220.0</td>\n",
       "      <td>Diésel</td>\n",
       "      <td>04</td>\n",
       "    </tr>\n",
       "    <tr>\n",
       "      <th>9124</th>\n",
       "      <td>9124</td>\n",
       "      <td>2023-11-19</td>\n",
       "      <td>https://www.autoscout24.es/anuncios/mitsubishi...</td>\n",
       "      <td>Mitsubishi</td>\n",
       "      <td>Montero</td>\n",
       "      <td>€ 5.900,-</td>\n",
       "      <td>https://maps.google.com/?q=POL%C3%8DGONO%20B%2...</td>\n",
       "      <td>92 kW (125 CV)</td>\n",
       "      <td>Prof.</td>\n",
       "      <td>SUV/4x4/Pickup</td>\n",
       "      <td>...</td>\n",
       "      <td>4.8</td>\n",
       "      <td>Azul</td>\n",
       "      <td>Azul</td>\n",
       "      <td>Tracción delantera</td>\n",
       "      <td>5.0</td>\n",
       "      <td>6</td>\n",
       "      <td>4</td>\n",
       "      <td>1581.0</td>\n",
       "      <td>Diésel</td>\n",
       "      <td>04</td>\n",
       "    </tr>\n",
       "    <tr>\n",
       "      <th>13725</th>\n",
       "      <td>13725</td>\n",
       "      <td>2023-11-23</td>\n",
       "      <td>https://www.autoscout24.es/anuncios/mitsubishi...</td>\n",
       "      <td>Mitsubishi</td>\n",
       "      <td>Montero</td>\n",
       "      <td>€ 5.900,-</td>\n",
       "      <td>https://maps.google.com/?q=POL%C3%8DGONO%20B%2...</td>\n",
       "      <td>92 kW (125 CV)</td>\n",
       "      <td>Prof.</td>\n",
       "      <td>SUV/4x4/Pickup</td>\n",
       "      <td>...</td>\n",
       "      <td>6.4</td>\n",
       "      <td>Azul</td>\n",
       "      <td>Azul</td>\n",
       "      <td>Tracción delantera</td>\n",
       "      <td>4.0</td>\n",
       "      <td>7</td>\n",
       "      <td>4</td>\n",
       "      <td>1225.0</td>\n",
       "      <td>Diésel</td>\n",
       "      <td>04</td>\n",
       "    </tr>\n",
       "  </tbody>\n",
       "</table>\n",
       "<p>3 rows × 29 columns</p>\n",
       "</div>"
      ],
      "text/plain": [
       "       Unnamed: 0 Fecha extrac  \\\n",
       "488           488   2023-11-11   \n",
       "9124         9124   2023-11-19   \n",
       "13725       13725   2023-11-23   \n",
       "\n",
       "                                                  Enlace       Marca   Modelo  \\\n",
       "488    https://www.autoscout24.es/anuncios/mitsubishi...  Mitsubishi  Montero   \n",
       "9124   https://www.autoscout24.es/anuncios/mitsubishi...  Mitsubishi  Montero   \n",
       "13725  https://www.autoscout24.es/anuncios/mitsubishi...  Mitsubishi  Montero   \n",
       "\n",
       "          Precio                                       Localización  \\\n",
       "488    € 5.900,-  https://maps.google.com/?q=POL%C3%8DGONO%20B%2...   \n",
       "9124   € 5.900,-  https://maps.google.com/?q=POL%C3%8DGONO%20B%2...   \n",
       "13725  € 5.900,-  https://maps.google.com/?q=POL%C3%8DGONO%20B%2...   \n",
       "\n",
       "             Potencia Tipo vendedor       Categoría  ...  \\\n",
       "488    92 kW (125 CV)         Prof.  SUV/4x4/Pickup  ...   \n",
       "9124   92 kW (125 CV)         Prof.  SUV/4x4/Pickup  ...   \n",
       "13725  92 kW (125 CV)         Prof.  SUV/4x4/Pickup  ...   \n",
       "\n",
       "      Consumo de combustible  Color exterior Color original  \\\n",
       "488                      5.7            Azul           Azul   \n",
       "9124                     4.8            Azul           Azul   \n",
       "13725                    6.4            Azul           Azul   \n",
       "\n",
       "                 Tracción plazas Número de marchas  Número de cilindros  \\\n",
       "488    Tracción delantera    4.0                 6                    4   \n",
       "9124   Tracción delantera    5.0                 6                    4   \n",
       "13725  Tracción delantera    4.0                 7                    4   \n",
       "\n",
       "         Peso  Tipo de combustible  Mes  \n",
       "488    1220.0               Diésel   04  \n",
       "9124   1581.0               Diésel   04  \n",
       "13725  1225.0               Diésel   04  \n",
       "\n",
       "[3 rows x 29 columns]"
      ]
     },
     "execution_count": 150,
     "metadata": {},
     "output_type": "execute_result"
    }
   ],
   "source": [
    "df[df['Núm. de oferta']==10794610.0]"
   ]
  },
  {
   "cell_type": "markdown",
   "metadata": {},
   "source": [
    "Aunque hay alguna discrepancia entre los anuncios, parece el mismo vehículo que ha sido anunciado varias veces. Eliminaremos los duplicados y nos quedaremos con la última versión, que es la que debe tener las correcciones y el precio más actualizado."
   ]
  },
  {
   "cell_type": "code",
   "execution_count": 151,
   "metadata": {},
   "outputs": [],
   "source": [
    "df=df.drop_duplicates(['Núm. de oferta'], keep='last')"
   ]
  },
  {
   "cell_type": "code",
   "execution_count": 152,
   "metadata": {},
   "outputs": [
    {
     "data": {
      "text/plain": [
       "Núm. de oferta\n",
       "9718315.0     1\n",
       "11171146.0    1\n",
       "9593462.0     1\n",
       "10999755.0    1\n",
       "11160671.0    1\n",
       "             ..\n",
       "10711111.0    1\n",
       "11082085.0    1\n",
       "11082208.0    1\n",
       "11107759.0    1\n",
       "11467880.0    1\n",
       "Name: count, Length: 15211, dtype: int64"
      ]
     },
     "execution_count": 152,
     "metadata": {},
     "output_type": "execute_result"
    }
   ],
   "source": [
    "df['Núm. de oferta'].value_counts()"
   ]
  },
  {
   "cell_type": "code",
   "execution_count": 153,
   "metadata": {},
   "outputs": [
    {
     "data": {
      "text/plain": [
       "Unnamed: 0                  0\n",
       "Fecha extrac                0\n",
       "Enlace                      0\n",
       "Marca                       0\n",
       "Modelo                    402\n",
       "Precio                      0\n",
       "Localización                0\n",
       "Potencia                    0\n",
       "Tipo vendedor               0\n",
       "Categoría                   0\n",
       "Tipo de vehículo            0\n",
       "puertas                    14\n",
       "Versión del país            0\n",
       "Garantía                    0\n",
       "Kilometraje                 0\n",
       "Año                         0\n",
       "Tipo de cambio              5\n",
       "Capacidad                   0\n",
       "Consumo de combustible      0\n",
       "Color exterior              0\n",
       "Color original              0\n",
       "Tracción                    0\n",
       "plazas                      0\n",
       "Número de marchas           0\n",
       "Número de cilindros         0\n",
       "Peso                        0\n",
       "Tipo de combustible         0\n",
       "Mes                         0\n",
       "dtype: int64"
      ]
     },
     "execution_count": 153,
     "metadata": {},
     "output_type": "execute_result"
    }
   ],
   "source": [
    "df=df.drop(['Núm. de oferta'], axis=1)\n",
    "df.isna().sum()"
   ]
  },
  {
   "cell_type": "markdown",
   "metadata": {},
   "source": [
    "Los NaN en el atributo 'Modelo' son porque no se ha especificado el modelo en la casilla correspondiente al poner el anuncio. A veces se puede encontrar en la descripción, pero dado que son pocos no compensa el trabajo de intentar encontrarlo allí. Puesto que el modelo es un atributo muy importante a la hora de calcular el precio, tampoco parece razonable imputarlo a través de la moda o similares. Así que borraremos los registros que no tienen el modelo especificado."
   ]
  },
  {
   "cell_type": "code",
   "execution_count": 154,
   "metadata": {},
   "outputs": [
    {
     "data": {
      "text/plain": [
       "Unnamed: 0                 0\n",
       "Fecha extrac               0\n",
       "Enlace                     0\n",
       "Marca                      0\n",
       "Modelo                     0\n",
       "Precio                     0\n",
       "Localización               0\n",
       "Potencia                   0\n",
       "Tipo vendedor              0\n",
       "Categoría                  0\n",
       "Tipo de vehículo           0\n",
       "puertas                   14\n",
       "Versión del país           0\n",
       "Garantía                   0\n",
       "Kilometraje                0\n",
       "Año                        0\n",
       "Tipo de cambio             5\n",
       "Capacidad                  0\n",
       "Consumo de combustible     0\n",
       "Color exterior             0\n",
       "Color original             0\n",
       "Tracción                   0\n",
       "plazas                     0\n",
       "Número de marchas          0\n",
       "Número de cilindros        0\n",
       "Peso                       0\n",
       "Tipo de combustible        0\n",
       "Mes                        0\n",
       "dtype: int64"
      ]
     },
     "execution_count": 154,
     "metadata": {},
     "output_type": "execute_result"
    }
   ],
   "source": [
    "df=df[df['Modelo'].notna()]\n",
    "df.isna().sum()"
   ]
  },
  {
   "cell_type": "markdown",
   "metadata": {},
   "source": [
    "Para los NaN en el atributo 'puertas' usaremos el método de copiarlo de coches de la misma marca y modelo o coger la moda de la marca o general."
   ]
  },
  {
   "cell_type": "code",
   "execution_count": 155,
   "metadata": {},
   "outputs": [
    {
     "data": {
      "text/plain": [
       "Unnamed: 0                0\n",
       "Fecha extrac              0\n",
       "Enlace                    0\n",
       "Marca                     0\n",
       "Modelo                    0\n",
       "Precio                    0\n",
       "Localización              0\n",
       "Potencia                  0\n",
       "Tipo vendedor             0\n",
       "Categoría                 0\n",
       "Tipo de vehículo          0\n",
       "puertas                   0\n",
       "Versión del país          0\n",
       "Garantía                  0\n",
       "Kilometraje               0\n",
       "Año                       0\n",
       "Tipo de cambio            5\n",
       "Capacidad                 0\n",
       "Consumo de combustible    0\n",
       "Color exterior            0\n",
       "Color original            0\n",
       "Tracción                  0\n",
       "plazas                    0\n",
       "Número de marchas         0\n",
       "Número de cilindros       0\n",
       "Peso                      0\n",
       "Tipo de combustible       0\n",
       "Mes                       0\n",
       "dtype: int64"
      ]
     },
     "execution_count": 155,
     "metadata": {},
     "output_type": "execute_result"
    }
   ],
   "source": [
    "df['puertas'] = df.groupby(['Marca', 'Modelo'])['puertas'].fillna(method='ffill')\n",
    "df['puertas'] = df.groupby(['Marca', 'Modelo'])['puertas'].fillna(method='bfill')\n",
    "try:\n",
    "    df['puertas'] = df.groupby(['Marca'])['puertas'].transform(lambda x: x.fillna(x.mode()[0]))\n",
    "except:\n",
    "    pass\n",
    "df['puertas'] = df['puertas'].transform(lambda x: x.fillna(x.mode()[0]))\n",
    "df.isna().sum()"
   ]
  },
  {
   "cell_type": "markdown",
   "metadata": {},
   "source": [
    "Nos quedan solo unos pocos NaN en el atributo 'Tipo de cambio', eliminaremos los registros, ya que son muy pocos e imposibles de imputar ya que el mismo modelo suele salir en cambio Manual y automático."
   ]
  },
  {
   "cell_type": "code",
   "execution_count": 156,
   "metadata": {},
   "outputs": [
    {
     "data": {
      "text/plain": [
       "Unnamed: 0                0\n",
       "Fecha extrac              0\n",
       "Enlace                    0\n",
       "Marca                     0\n",
       "Modelo                    0\n",
       "Precio                    0\n",
       "Localización              0\n",
       "Potencia                  0\n",
       "Tipo vendedor             0\n",
       "Categoría                 0\n",
       "Tipo de vehículo          0\n",
       "puertas                   0\n",
       "Versión del país          0\n",
       "Garantía                  0\n",
       "Kilometraje               0\n",
       "Año                       0\n",
       "Tipo de cambio            0\n",
       "Capacidad                 0\n",
       "Consumo de combustible    0\n",
       "Color exterior            0\n",
       "Color original            0\n",
       "Tracción                  0\n",
       "plazas                    0\n",
       "Número de marchas         0\n",
       "Número de cilindros       0\n",
       "Peso                      0\n",
       "Tipo de combustible       0\n",
       "Mes                       0\n",
       "dtype: int64"
      ]
     },
     "execution_count": 156,
     "metadata": {},
     "output_type": "execute_result"
    }
   ],
   "source": [
    "df=df[df['Tipo de cambio'].notna()]\n",
    "df.isna().sum()"
   ]
  },
  {
   "cell_type": "code",
   "execution_count": 157,
   "metadata": {},
   "outputs": [
    {
     "data": {
      "text/html": [
       "<div>\n",
       "<style scoped>\n",
       "    .dataframe tbody tr th:only-of-type {\n",
       "        vertical-align: middle;\n",
       "    }\n",
       "\n",
       "    .dataframe tbody tr th {\n",
       "        vertical-align: top;\n",
       "    }\n",
       "\n",
       "    .dataframe thead th {\n",
       "        text-align: right;\n",
       "    }\n",
       "</style>\n",
       "<table border=\"1\" class=\"dataframe\">\n",
       "  <thead>\n",
       "    <tr style=\"text-align: right;\">\n",
       "      <th></th>\n",
       "      <th>Unnamed: 0</th>\n",
       "      <th>Fecha extrac</th>\n",
       "      <th>Enlace</th>\n",
       "      <th>Marca</th>\n",
       "      <th>Modelo</th>\n",
       "      <th>Precio</th>\n",
       "      <th>Localización</th>\n",
       "      <th>Potencia</th>\n",
       "      <th>Tipo vendedor</th>\n",
       "      <th>Categoría</th>\n",
       "      <th>...</th>\n",
       "      <th>Consumo de combustible</th>\n",
       "      <th>Color exterior</th>\n",
       "      <th>Color original</th>\n",
       "      <th>Tracción</th>\n",
       "      <th>plazas</th>\n",
       "      <th>Número de marchas</th>\n",
       "      <th>Número de cilindros</th>\n",
       "      <th>Peso</th>\n",
       "      <th>Tipo de combustible</th>\n",
       "      <th>Mes</th>\n",
       "    </tr>\n",
       "  </thead>\n",
       "  <tbody>\n",
       "    <tr>\n",
       "      <th>1</th>\n",
       "      <td>1</td>\n",
       "      <td>2023-11-11</td>\n",
       "      <td>https://www.autoscout24.es/anuncios/cupra-form...</td>\n",
       "      <td>Cupra</td>\n",
       "      <td>Formentor</td>\n",
       "      <td>€ 20.995,-</td>\n",
       "      <td>https://maps.google.com/?q=AVENIDA%20DE%20CATA...</td>\n",
       "      <td>110 kW (150 CV)</td>\n",
       "      <td>Prof.</td>\n",
       "      <td>SUV/4x4/Pickup</td>\n",
       "      <td>...</td>\n",
       "      <td>4.8</td>\n",
       "      <td>Negro</td>\n",
       "      <td>Negro Midnight (metalizado)</td>\n",
       "      <td>Tracción delantera</td>\n",
       "      <td>4.0</td>\n",
       "      <td>6</td>\n",
       "      <td>4</td>\n",
       "      <td>950.0</td>\n",
       "      <td>Gasolina</td>\n",
       "      <td>05</td>\n",
       "    </tr>\n",
       "    <tr>\n",
       "      <th>2</th>\n",
       "      <td>2</td>\n",
       "      <td>2023-11-11</td>\n",
       "      <td>https://www.autoscout24.es/anuncios/gmc-yukon-...</td>\n",
       "      <td>GMC</td>\n",
       "      <td>Yukon</td>\n",
       "      <td>€ 79.000,-</td>\n",
       "      <td>https://maps.google.com/?q=C%2F%20VICENTE%20MU...</td>\n",
       "      <td>313 kW (426 CV)</td>\n",
       "      <td>Prof.</td>\n",
       "      <td>SUV/4x4/Pickup</td>\n",
       "      <td>...</td>\n",
       "      <td>4.1</td>\n",
       "      <td>Gris</td>\n",
       "      <td>Gris</td>\n",
       "      <td>Tracción delantera</td>\n",
       "      <td>5.0</td>\n",
       "      <td>1</td>\n",
       "      <td>4</td>\n",
       "      <td>1615.0</td>\n",
       "      <td>Gasolina</td>\n",
       "      <td>06</td>\n",
       "    </tr>\n",
       "    <tr>\n",
       "      <th>4</th>\n",
       "      <td>4</td>\n",
       "      <td>2023-11-11</td>\n",
       "      <td>https://www.autoscout24.es/anuncios/audi-r8-4-...</td>\n",
       "      <td>Audi</td>\n",
       "      <td>R8</td>\n",
       "      <td>€ 51.500,-</td>\n",
       "      <td>https://maps.google.com/?q=Ctra.%20Madrid%2C%2...</td>\n",
       "      <td>309 kW (420 CV)</td>\n",
       "      <td>Prof.</td>\n",
       "      <td>Coupé</td>\n",
       "      <td>...</td>\n",
       "      <td>4.1</td>\n",
       "      <td>Plateado</td>\n",
       "      <td>Gris Plata</td>\n",
       "      <td>Tracción delantera</td>\n",
       "      <td>5.0</td>\n",
       "      <td>5</td>\n",
       "      <td>4</td>\n",
       "      <td>1290.0</td>\n",
       "      <td>Gasolina</td>\n",
       "      <td>06</td>\n",
       "    </tr>\n",
       "    <tr>\n",
       "      <th>5</th>\n",
       "      <td>5</td>\n",
       "      <td>2023-11-11</td>\n",
       "      <td>https://www.autoscout24.es/anuncios/porsche-99...</td>\n",
       "      <td>Porsche</td>\n",
       "      <td>992</td>\n",
       "      <td>€ 289.900,-</td>\n",
       "      <td>https://maps.google.com/?q=Poligono%20Industri...</td>\n",
       "      <td>478 kW (650 CV)</td>\n",
       "      <td>Prof.</td>\n",
       "      <td>Coupé</td>\n",
       "      <td>...</td>\n",
       "      <td>7.2</td>\n",
       "      <td>Gris</td>\n",
       "      <td>Gris Ágata</td>\n",
       "      <td>Tracción a las cuatro ruedas</td>\n",
       "      <td>4.0</td>\n",
       "      <td>7</td>\n",
       "      <td>6</td>\n",
       "      <td>1785.0</td>\n",
       "      <td>Gasolina</td>\n",
       "      <td>11</td>\n",
       "    </tr>\n",
       "    <tr>\n",
       "      <th>6</th>\n",
       "      <td>6</td>\n",
       "      <td>2023-11-11</td>\n",
       "      <td>https://www.autoscout24.es/anuncios/ferrari-81...</td>\n",
       "      <td>Ferrari</td>\n",
       "      <td>812</td>\n",
       "      <td>€ 379.999,-</td>\n",
       "      <td>https://maps.google.com/?q=C%2FCARRIL%20DE%20P...</td>\n",
       "      <td>588 kW (799 CV)</td>\n",
       "      <td>Prof.</td>\n",
       "      <td>Coupé</td>\n",
       "      <td>...</td>\n",
       "      <td>4.3</td>\n",
       "      <td>Rojo</td>\n",
       "      <td>Rosso Corsa</td>\n",
       "      <td>Tracción trasera</td>\n",
       "      <td>5.0</td>\n",
       "      <td>8</td>\n",
       "      <td>4</td>\n",
       "      <td>1565.0</td>\n",
       "      <td>Gasolina</td>\n",
       "      <td>01</td>\n",
       "    </tr>\n",
       "    <tr>\n",
       "      <th>7</th>\n",
       "      <td>7</td>\n",
       "      <td>2023-11-11</td>\n",
       "      <td>https://www.autoscout24.es/anuncios/ds-automob...</td>\n",
       "      <td>DS Automobiles</td>\n",
       "      <td>DS 7 Crossback</td>\n",
       "      <td>€ 21.290,-1</td>\n",
       "      <td>https://maps.google.com/?q=AV.%20DE%20AR%C3%93...</td>\n",
       "      <td>96 kW (131 CV)</td>\n",
       "      <td>Prof.</td>\n",
       "      <td>SUV/4x4/Pickup</td>\n",
       "      <td>...</td>\n",
       "      <td>4.6</td>\n",
       "      <td>Negro</td>\n",
       "      <td>Negro</td>\n",
       "      <td>Tracción delantera</td>\n",
       "      <td>5.0</td>\n",
       "      <td>6</td>\n",
       "      <td>4</td>\n",
       "      <td>1503.0</td>\n",
       "      <td>Diésel</td>\n",
       "      <td>03</td>\n",
       "    </tr>\n",
       "    <tr>\n",
       "      <th>8</th>\n",
       "      <td>8</td>\n",
       "      <td>2023-11-11</td>\n",
       "      <td>https://www.autoscout24.es/anuncios/bentley-co...</td>\n",
       "      <td>Bentley</td>\n",
       "      <td>Continental</td>\n",
       "      <td>€ 64.500,-</td>\n",
       "      <td>https://maps.google.com/?q=Crtra.de%20Cadiz%20...</td>\n",
       "      <td>449 kW (610 CV)</td>\n",
       "      <td>Prof.</td>\n",
       "      <td>Coupé</td>\n",
       "      <td>...</td>\n",
       "      <td>4.5</td>\n",
       "      <td>Blanco</td>\n",
       "      <td>Blanco</td>\n",
       "      <td>Tracción delantera</td>\n",
       "      <td>5.0</td>\n",
       "      <td>6</td>\n",
       "      <td>4</td>\n",
       "      <td>1541.0</td>\n",
       "      <td>Gasolina</td>\n",
       "      <td>06</td>\n",
       "    </tr>\n",
       "    <tr>\n",
       "      <th>9</th>\n",
       "      <td>9</td>\n",
       "      <td>2023-11-11</td>\n",
       "      <td>https://www.autoscout24.es/anuncios/mercedes-b...</td>\n",
       "      <td>Mercedes-Benz</td>\n",
       "      <td>GLC 250</td>\n",
       "      <td>€ 35.900,-1</td>\n",
       "      <td>https://maps.google.com/?q=AVDA%20CAMINO%20DE%...</td>\n",
       "      <td>150 kW (204 CV)</td>\n",
       "      <td>Prof.</td>\n",
       "      <td>SUV/4x4/Pickup</td>\n",
       "      <td>...</td>\n",
       "      <td>5.5</td>\n",
       "      <td>Azul</td>\n",
       "      <td>PACK AMG</td>\n",
       "      <td>Tracción delantera</td>\n",
       "      <td>5.0</td>\n",
       "      <td>6</td>\n",
       "      <td>3</td>\n",
       "      <td>1365.0</td>\n",
       "      <td>Diésel</td>\n",
       "      <td>05</td>\n",
       "    </tr>\n",
       "    <tr>\n",
       "      <th>10</th>\n",
       "      <td>10</td>\n",
       "      <td>2023-11-11</td>\n",
       "      <td>https://www.autoscout24.es/anuncios/mercedes-b...</td>\n",
       "      <td>Mercedes-Benz</td>\n",
       "      <td>GLS 500</td>\n",
       "      <td>€ 69.991,-</td>\n",
       "      <td>https://maps.google.com/?q=CARRETERA%20DE%20MA...</td>\n",
       "      <td>335 kW (455 CV)</td>\n",
       "      <td>Prof.</td>\n",
       "      <td>SUV/4x4/Pickup</td>\n",
       "      <td>...</td>\n",
       "      <td>3.4</td>\n",
       "      <td>NEGRO OBSIDIANA</td>\n",
       "      <td>NEGRO OBSIDIANA</td>\n",
       "      <td>Tracción delantera</td>\n",
       "      <td>4.0</td>\n",
       "      <td>6</td>\n",
       "      <td>3</td>\n",
       "      <td>1115.0</td>\n",
       "      <td>Gasolina</td>\n",
       "      <td>07</td>\n",
       "    </tr>\n",
       "    <tr>\n",
       "      <th>11</th>\n",
       "      <td>11</td>\n",
       "      <td>2023-11-11</td>\n",
       "      <td>https://www.autoscout24.es/anuncios/ferrari-f1...</td>\n",
       "      <td>Ferrari</td>\n",
       "      <td>F12</td>\n",
       "      <td>€ 195.000,-</td>\n",
       "      <td>https://maps.google.com/?q=Avenida%20de%20Somo...</td>\n",
       "      <td>545 kW (741 CV)</td>\n",
       "      <td>Prof.</td>\n",
       "      <td>Coupé</td>\n",
       "      <td>...</td>\n",
       "      <td>6.5</td>\n",
       "      <td>Negro</td>\n",
       "      <td>Negro</td>\n",
       "      <td>Tracción a las cuatro ruedas</td>\n",
       "      <td>5.0</td>\n",
       "      <td>9</td>\n",
       "      <td>4</td>\n",
       "      <td>1768.0</td>\n",
       "      <td>Gasolina</td>\n",
       "      <td>02</td>\n",
       "    </tr>\n",
       "  </tbody>\n",
       "</table>\n",
       "<p>10 rows × 28 columns</p>\n",
       "</div>"
      ],
      "text/plain": [
       "    Unnamed: 0 Fecha extrac  \\\n",
       "1            1   2023-11-11   \n",
       "2            2   2023-11-11   \n",
       "4            4   2023-11-11   \n",
       "5            5   2023-11-11   \n",
       "6            6   2023-11-11   \n",
       "7            7   2023-11-11   \n",
       "8            8   2023-11-11   \n",
       "9            9   2023-11-11   \n",
       "10          10   2023-11-11   \n",
       "11          11   2023-11-11   \n",
       "\n",
       "                                               Enlace           Marca  \\\n",
       "1   https://www.autoscout24.es/anuncios/cupra-form...           Cupra   \n",
       "2   https://www.autoscout24.es/anuncios/gmc-yukon-...             GMC   \n",
       "4   https://www.autoscout24.es/anuncios/audi-r8-4-...            Audi   \n",
       "5   https://www.autoscout24.es/anuncios/porsche-99...         Porsche   \n",
       "6   https://www.autoscout24.es/anuncios/ferrari-81...         Ferrari   \n",
       "7   https://www.autoscout24.es/anuncios/ds-automob...  DS Automobiles   \n",
       "8   https://www.autoscout24.es/anuncios/bentley-co...         Bentley   \n",
       "9   https://www.autoscout24.es/anuncios/mercedes-b...   Mercedes-Benz   \n",
       "10  https://www.autoscout24.es/anuncios/mercedes-b...   Mercedes-Benz   \n",
       "11  https://www.autoscout24.es/anuncios/ferrari-f1...         Ferrari   \n",
       "\n",
       "            Modelo       Precio  \\\n",
       "1        Formentor   € 20.995,-   \n",
       "2            Yukon   € 79.000,-   \n",
       "4               R8   € 51.500,-   \n",
       "5              992  € 289.900,-   \n",
       "6              812  € 379.999,-   \n",
       "7   DS 7 Crossback  € 21.290,-1   \n",
       "8      Continental   € 64.500,-   \n",
       "9          GLC 250  € 35.900,-1   \n",
       "10         GLS 500   € 69.991,-   \n",
       "11             F12  € 195.000,-   \n",
       "\n",
       "                                         Localización         Potencia  \\\n",
       "1   https://maps.google.com/?q=AVENIDA%20DE%20CATA...  110 kW (150 CV)   \n",
       "2   https://maps.google.com/?q=C%2F%20VICENTE%20MU...  313 kW (426 CV)   \n",
       "4   https://maps.google.com/?q=Ctra.%20Madrid%2C%2...  309 kW (420 CV)   \n",
       "5   https://maps.google.com/?q=Poligono%20Industri...  478 kW (650 CV)   \n",
       "6   https://maps.google.com/?q=C%2FCARRIL%20DE%20P...  588 kW (799 CV)   \n",
       "7   https://maps.google.com/?q=AV.%20DE%20AR%C3%93...   96 kW (131 CV)   \n",
       "8   https://maps.google.com/?q=Crtra.de%20Cadiz%20...  449 kW (610 CV)   \n",
       "9   https://maps.google.com/?q=AVDA%20CAMINO%20DE%...  150 kW (204 CV)   \n",
       "10  https://maps.google.com/?q=CARRETERA%20DE%20MA...  335 kW (455 CV)   \n",
       "11  https://maps.google.com/?q=Avenida%20de%20Somo...  545 kW (741 CV)   \n",
       "\n",
       "   Tipo vendedor       Categoría  ... Consumo de combustible   Color exterior  \\\n",
       "1          Prof.  SUV/4x4/Pickup  ...                    4.8            Negro   \n",
       "2          Prof.  SUV/4x4/Pickup  ...                    4.1             Gris   \n",
       "4          Prof.           Coupé  ...                    4.1         Plateado   \n",
       "5          Prof.           Coupé  ...                    7.2             Gris   \n",
       "6          Prof.           Coupé  ...                    4.3             Rojo   \n",
       "7          Prof.  SUV/4x4/Pickup  ...                    4.6            Negro   \n",
       "8          Prof.           Coupé  ...                    4.5           Blanco   \n",
       "9          Prof.  SUV/4x4/Pickup  ...                    5.5             Azul   \n",
       "10         Prof.  SUV/4x4/Pickup  ...                    3.4  NEGRO OBSIDIANA   \n",
       "11         Prof.           Coupé  ...                    6.5            Negro   \n",
       "\n",
       "                 Color original                      Tracción plazas  \\\n",
       "1   Negro Midnight (metalizado)            Tracción delantera    4.0   \n",
       "2                          Gris            Tracción delantera    5.0   \n",
       "4                    Gris Plata            Tracción delantera    5.0   \n",
       "5                    Gris Ágata  Tracción a las cuatro ruedas    4.0   \n",
       "6                   Rosso Corsa              Tracción trasera    5.0   \n",
       "7                         Negro            Tracción delantera    5.0   \n",
       "8                        Blanco            Tracción delantera    5.0   \n",
       "9                      PACK AMG            Tracción delantera    5.0   \n",
       "10              NEGRO OBSIDIANA            Tracción delantera    4.0   \n",
       "11                        Negro  Tracción a las cuatro ruedas    5.0   \n",
       "\n",
       "    Número de marchas Número de cilindros    Peso  Tipo de combustible Mes  \n",
       "1                   6                   4   950.0             Gasolina  05  \n",
       "2                   1                   4  1615.0             Gasolina  06  \n",
       "4                   5                   4  1290.0             Gasolina  06  \n",
       "5                   7                   6  1785.0             Gasolina  11  \n",
       "6                   8                   4  1565.0             Gasolina  01  \n",
       "7                   6                   4  1503.0               Diésel  03  \n",
       "8                   6                   4  1541.0             Gasolina  06  \n",
       "9                   6                   3  1365.0               Diésel  05  \n",
       "10                  6                   3  1115.0             Gasolina  07  \n",
       "11                  9                   4  1768.0             Gasolina  02  \n",
       "\n",
       "[10 rows x 28 columns]"
      ]
     },
     "execution_count": 157,
     "metadata": {},
     "output_type": "execute_result"
    }
   ],
   "source": [
    "df.head(10)"
   ]
  },
  {
   "cell_type": "markdown",
   "metadata": {},
   "source": [
    "Ahora que ya hemos tratado los NaN iremos a limpiar los problemas de formato. Lo primero que haremos es eliminar la columna 'Unnamed: 0' que equivale al índice. Y a continuación quitaremos el símbolo de euro y el punto al atributo 'Precio'"
   ]
  },
  {
   "cell_type": "code",
   "execution_count": 158,
   "metadata": {},
   "outputs": [],
   "source": [
    "df=df.drop(['Unnamed: 0'], axis=1)"
   ]
  },
  {
   "cell_type": "code",
   "execution_count": 159,
   "metadata": {},
   "outputs": [],
   "source": [
    "df['Precio']=df['Precio'].apply(process_numbers_and_nans)"
   ]
  },
  {
   "cell_type": "markdown",
   "metadata": {},
   "source": [
    "Del atributo 'Potencia' nos quedaremos con los caballos (CV) ya que es la medida que se usa en España."
   ]
  },
  {
   "cell_type": "code",
   "execution_count": 160,
   "metadata": {},
   "outputs": [
    {
     "data": {
      "text/plain": [
       "1    150\n",
       "2    426\n",
       "4    420\n",
       "5    650\n",
       "6    799\n",
       "Name: Potencia, dtype: object"
      ]
     },
     "execution_count": 160,
     "metadata": {},
     "output_type": "execute_result"
    }
   ],
   "source": [
    "df['Potencia']=df['Potencia'].str.extract(r'\\((\\d+)\\s*CV\\)')\n",
    "df['Potencia'].head()"
   ]
  },
  {
   "cell_type": "code",
   "execution_count": 161,
   "metadata": {},
   "outputs": [
    {
     "data": {
      "text/plain": [
       "370"
      ]
     },
     "execution_count": 161,
     "metadata": {},
     "output_type": "execute_result"
    }
   ],
   "source": [
    "df['Potencia'].isna().sum()"
   ]
  },
  {
   "cell_type": "markdown",
   "metadata": {},
   "source": [
    "El cambio de formato ha dejado al descubierto los NaN que no se veían antes por tener un valor predefinido de texto. Vamos a copiarle la potencia de los vehículos de la misma marca y modelo. Y los que no se puedan completar así le asignaremos la media de la marca. "
   ]
  },
  {
   "cell_type": "code",
   "execution_count": 162,
   "metadata": {},
   "outputs": [
    {
     "data": {
      "text/plain": [
       "147"
      ]
     },
     "execution_count": 162,
     "metadata": {},
     "output_type": "execute_result"
    }
   ],
   "source": [
    "df['Potencia'] = df.groupby(['Marca', 'Modelo'])['Potencia'].fillna(method='ffill')\n",
    "df['Potencia'] = df.groupby(['Marca', 'Modelo'])['Potencia'].fillna(method='bfill')\n",
    "df['Potencia'].isna().sum()"
   ]
  },
  {
   "cell_type": "markdown",
   "metadata": {},
   "source": [
    "Eliminaremos los NaN restantes"
   ]
  },
  {
   "cell_type": "code",
   "execution_count": 163,
   "metadata": {},
   "outputs": [
    {
     "data": {
      "text/plain": [
       "0"
      ]
     },
     "execution_count": 163,
     "metadata": {},
     "output_type": "execute_result"
    }
   ],
   "source": [
    "df=df[df['Potencia'].notna()]\n",
    "df['Potencia'].isna().sum()"
   ]
  },
  {
   "cell_type": "markdown",
   "metadata": {},
   "source": [
    "Al atributo 'Kilometraje' hay que quitarle el 'km' después del número y el punto de separación de miles."
   ]
  },
  {
   "cell_type": "code",
   "execution_count": 164,
   "metadata": {},
   "outputs": [
    {
     "data": {
      "text/plain": [
       "1    26141\n",
       "2    81422\n",
       "4    81100\n",
       "5     1650\n",
       "6     4600\n",
       "Name: Kilometraje, dtype: int64"
      ]
     },
     "execution_count": 164,
     "metadata": {},
     "output_type": "execute_result"
    }
   ],
   "source": [
    "df['Kilometraje']=df['Kilometraje'].apply(process_numbers_and_nans)\n",
    "df['Kilometraje'].head()"
   ]
  },
  {
   "cell_type": "markdown",
   "metadata": {},
   "source": [
    "A continuación vamos a ver qué columnas no están en el formato que nos interesa y se lo cambiaremos"
   ]
  },
  {
   "cell_type": "code",
   "execution_count": 165,
   "metadata": {},
   "outputs": [
    {
     "name": "stdout",
     "output_type": "stream",
     "text": [
      "<class 'pandas.core.frame.DataFrame'>\n",
      "Index: 14658 entries, 1 to 18198\n",
      "Data columns (total 27 columns):\n",
      " #   Column                  Non-Null Count  Dtype  \n",
      "---  ------                  --------------  -----  \n",
      " 0   Fecha extrac            14658 non-null  object \n",
      " 1   Enlace                  14658 non-null  object \n",
      " 2   Marca                   14658 non-null  object \n",
      " 3   Modelo                  14658 non-null  object \n",
      " 4   Precio                  14658 non-null  int64  \n",
      " 5   Localización            14658 non-null  object \n",
      " 6   Potencia                14658 non-null  object \n",
      " 7   Tipo vendedor           14658 non-null  object \n",
      " 8   Categoría               14658 non-null  object \n",
      " 9   Tipo de vehículo        14658 non-null  object \n",
      " 10  puertas                 14658 non-null  float64\n",
      " 11  Versión del país        14658 non-null  object \n",
      " 12  Garantía                14658 non-null  object \n",
      " 13  Kilometraje             14658 non-null  int64  \n",
      " 14  Año                     14658 non-null  float64\n",
      " 15  Tipo de cambio          14658 non-null  object \n",
      " 16  Capacidad               14658 non-null  float64\n",
      " 17  Consumo de combustible  14658 non-null  float64\n",
      " 18  Color exterior          14658 non-null  object \n",
      " 19  Color original          14658 non-null  object \n",
      " 20  Tracción                14658 non-null  object \n",
      " 21  plazas                  14658 non-null  float64\n",
      " 22  Número de marchas       14658 non-null  int64  \n",
      " 23  Número de cilindros     14658 non-null  int64  \n",
      " 24  Peso                    14658 non-null  float64\n",
      " 25  Tipo de combustible     14658 non-null  object \n",
      " 26  Mes                     14658 non-null  object \n",
      "dtypes: float64(6), int64(4), object(17)\n",
      "memory usage: 3.1+ MB\n"
     ]
    }
   ],
   "source": [
    "df.info()"
   ]
  },
  {
   "cell_type": "code",
   "execution_count": 166,
   "metadata": {},
   "outputs": [],
   "source": [
    "df[['puertas', 'Garantía', 'Año', 'plazas', 'Mes', 'Potencia']]=df[['puertas', 'Garantía', 'Año', 'plazas', 'Mes', 'Potencia']].astype('int64')\n",
    "df[['Precio', 'Kilometraje']]=df[['Precio', 'Kilometraje']].astype('float64')"
   ]
  },
  {
   "cell_type": "code",
   "execution_count": 167,
   "metadata": {},
   "outputs": [
    {
     "name": "stdout",
     "output_type": "stream",
     "text": [
      "<class 'pandas.core.frame.DataFrame'>\n",
      "Index: 14658 entries, 1 to 18198\n",
      "Data columns (total 27 columns):\n",
      " #   Column                  Non-Null Count  Dtype  \n",
      "---  ------                  --------------  -----  \n",
      " 0   Fecha extrac            14658 non-null  object \n",
      " 1   Enlace                  14658 non-null  object \n",
      " 2   Marca                   14658 non-null  object \n",
      " 3   Modelo                  14658 non-null  object \n",
      " 4   Precio                  14658 non-null  float64\n",
      " 5   Localización            14658 non-null  object \n",
      " 6   Potencia                14658 non-null  int64  \n",
      " 7   Tipo vendedor           14658 non-null  object \n",
      " 8   Categoría               14658 non-null  object \n",
      " 9   Tipo de vehículo        14658 non-null  object \n",
      " 10  puertas                 14658 non-null  int64  \n",
      " 11  Versión del país        14658 non-null  object \n",
      " 12  Garantía                14658 non-null  int64  \n",
      " 13  Kilometraje             14658 non-null  float64\n",
      " 14  Año                     14658 non-null  int64  \n",
      " 15  Tipo de cambio          14658 non-null  object \n",
      " 16  Capacidad               14658 non-null  float64\n",
      " 17  Consumo de combustible  14658 non-null  float64\n",
      " 18  Color exterior          14658 non-null  object \n",
      " 19  Color original          14658 non-null  object \n",
      " 20  Tracción                14658 non-null  object \n",
      " 21  plazas                  14658 non-null  int64  \n",
      " 22  Número de marchas       14658 non-null  int64  \n",
      " 23  Número de cilindros     14658 non-null  int64  \n",
      " 24  Peso                    14658 non-null  float64\n",
      " 25  Tipo de combustible     14658 non-null  object \n",
      " 26  Mes                     14658 non-null  int64  \n",
      "dtypes: float64(5), int64(8), object(14)\n",
      "memory usage: 3.1+ MB\n"
     ]
    }
   ],
   "source": [
    "df.info()"
   ]
  },
  {
   "cell_type": "code",
   "execution_count": 168,
   "metadata": {},
   "outputs": [
    {
     "data": {
      "text/html": [
       "<div>\n",
       "<style scoped>\n",
       "    .dataframe tbody tr th:only-of-type {\n",
       "        vertical-align: middle;\n",
       "    }\n",
       "\n",
       "    .dataframe tbody tr th {\n",
       "        vertical-align: top;\n",
       "    }\n",
       "\n",
       "    .dataframe thead th {\n",
       "        text-align: right;\n",
       "    }\n",
       "</style>\n",
       "<table border=\"1\" class=\"dataframe\">\n",
       "  <thead>\n",
       "    <tr style=\"text-align: right;\">\n",
       "      <th></th>\n",
       "      <th>Fecha extrac</th>\n",
       "      <th>Enlace</th>\n",
       "      <th>Marca</th>\n",
       "      <th>Modelo</th>\n",
       "      <th>Precio</th>\n",
       "      <th>Localización</th>\n",
       "      <th>Potencia</th>\n",
       "      <th>Tipo vendedor</th>\n",
       "      <th>Categoría</th>\n",
       "      <th>Tipo de vehículo</th>\n",
       "      <th>...</th>\n",
       "      <th>Consumo de combustible</th>\n",
       "      <th>Color exterior</th>\n",
       "      <th>Color original</th>\n",
       "      <th>Tracción</th>\n",
       "      <th>plazas</th>\n",
       "      <th>Número de marchas</th>\n",
       "      <th>Número de cilindros</th>\n",
       "      <th>Peso</th>\n",
       "      <th>Tipo de combustible</th>\n",
       "      <th>Mes</th>\n",
       "    </tr>\n",
       "  </thead>\n",
       "  <tbody>\n",
       "    <tr>\n",
       "      <th>1</th>\n",
       "      <td>2023-11-11</td>\n",
       "      <td>https://www.autoscout24.es/anuncios/cupra-form...</td>\n",
       "      <td>Cupra</td>\n",
       "      <td>Formentor</td>\n",
       "      <td>20995.0</td>\n",
       "      <td>https://maps.google.com/?q=AVENIDA%20DE%20CATA...</td>\n",
       "      <td>150</td>\n",
       "      <td>Prof.</td>\n",
       "      <td>SUV/4x4/Pickup</td>\n",
       "      <td>Ocasión</td>\n",
       "      <td>...</td>\n",
       "      <td>4.8</td>\n",
       "      <td>Negro</td>\n",
       "      <td>Negro Midnight (metalizado)</td>\n",
       "      <td>Tracción delantera</td>\n",
       "      <td>4</td>\n",
       "      <td>6</td>\n",
       "      <td>4</td>\n",
       "      <td>950.0</td>\n",
       "      <td>Gasolina</td>\n",
       "      <td>5</td>\n",
       "    </tr>\n",
       "    <tr>\n",
       "      <th>2</th>\n",
       "      <td>2023-11-11</td>\n",
       "      <td>https://www.autoscout24.es/anuncios/gmc-yukon-...</td>\n",
       "      <td>GMC</td>\n",
       "      <td>Yukon</td>\n",
       "      <td>79000.0</td>\n",
       "      <td>https://maps.google.com/?q=C%2F%20VICENTE%20MU...</td>\n",
       "      <td>426</td>\n",
       "      <td>Prof.</td>\n",
       "      <td>SUV/4x4/Pickup</td>\n",
       "      <td>Ocasión</td>\n",
       "      <td>...</td>\n",
       "      <td>4.1</td>\n",
       "      <td>Gris</td>\n",
       "      <td>Gris</td>\n",
       "      <td>Tracción delantera</td>\n",
       "      <td>5</td>\n",
       "      <td>1</td>\n",
       "      <td>4</td>\n",
       "      <td>1615.0</td>\n",
       "      <td>Gasolina</td>\n",
       "      <td>6</td>\n",
       "    </tr>\n",
       "    <tr>\n",
       "      <th>4</th>\n",
       "      <td>2023-11-11</td>\n",
       "      <td>https://www.autoscout24.es/anuncios/audi-r8-4-...</td>\n",
       "      <td>Audi</td>\n",
       "      <td>R8</td>\n",
       "      <td>51500.0</td>\n",
       "      <td>https://maps.google.com/?q=Ctra.%20Madrid%2C%2...</td>\n",
       "      <td>420</td>\n",
       "      <td>Prof.</td>\n",
       "      <td>Coupé</td>\n",
       "      <td>Ocasión</td>\n",
       "      <td>...</td>\n",
       "      <td>4.1</td>\n",
       "      <td>Plateado</td>\n",
       "      <td>Gris Plata</td>\n",
       "      <td>Tracción delantera</td>\n",
       "      <td>5</td>\n",
       "      <td>5</td>\n",
       "      <td>4</td>\n",
       "      <td>1290.0</td>\n",
       "      <td>Gasolina</td>\n",
       "      <td>6</td>\n",
       "    </tr>\n",
       "    <tr>\n",
       "      <th>5</th>\n",
       "      <td>2023-11-11</td>\n",
       "      <td>https://www.autoscout24.es/anuncios/porsche-99...</td>\n",
       "      <td>Porsche</td>\n",
       "      <td>992</td>\n",
       "      <td>289900.0</td>\n",
       "      <td>https://maps.google.com/?q=Poligono%20Industri...</td>\n",
       "      <td>650</td>\n",
       "      <td>Prof.</td>\n",
       "      <td>Coupé</td>\n",
       "      <td>Demostración</td>\n",
       "      <td>...</td>\n",
       "      <td>7.2</td>\n",
       "      <td>Gris</td>\n",
       "      <td>Gris Ágata</td>\n",
       "      <td>Tracción a las cuatro ruedas</td>\n",
       "      <td>4</td>\n",
       "      <td>7</td>\n",
       "      <td>6</td>\n",
       "      <td>1785.0</td>\n",
       "      <td>Gasolina</td>\n",
       "      <td>11</td>\n",
       "    </tr>\n",
       "    <tr>\n",
       "      <th>6</th>\n",
       "      <td>2023-11-11</td>\n",
       "      <td>https://www.autoscout24.es/anuncios/ferrari-81...</td>\n",
       "      <td>Ferrari</td>\n",
       "      <td>812</td>\n",
       "      <td>379999.0</td>\n",
       "      <td>https://maps.google.com/?q=C%2FCARRIL%20DE%20P...</td>\n",
       "      <td>799</td>\n",
       "      <td>Prof.</td>\n",
       "      <td>Coupé</td>\n",
       "      <td>Ocasión</td>\n",
       "      <td>...</td>\n",
       "      <td>4.3</td>\n",
       "      <td>Rojo</td>\n",
       "      <td>Rosso Corsa</td>\n",
       "      <td>Tracción trasera</td>\n",
       "      <td>5</td>\n",
       "      <td>8</td>\n",
       "      <td>4</td>\n",
       "      <td>1565.0</td>\n",
       "      <td>Gasolina</td>\n",
       "      <td>1</td>\n",
       "    </tr>\n",
       "  </tbody>\n",
       "</table>\n",
       "<p>5 rows × 27 columns</p>\n",
       "</div>"
      ],
      "text/plain": [
       "  Fecha extrac                                             Enlace    Marca  \\\n",
       "1   2023-11-11  https://www.autoscout24.es/anuncios/cupra-form...    Cupra   \n",
       "2   2023-11-11  https://www.autoscout24.es/anuncios/gmc-yukon-...      GMC   \n",
       "4   2023-11-11  https://www.autoscout24.es/anuncios/audi-r8-4-...     Audi   \n",
       "5   2023-11-11  https://www.autoscout24.es/anuncios/porsche-99...  Porsche   \n",
       "6   2023-11-11  https://www.autoscout24.es/anuncios/ferrari-81...  Ferrari   \n",
       "\n",
       "      Modelo    Precio                                       Localización  \\\n",
       "1  Formentor   20995.0  https://maps.google.com/?q=AVENIDA%20DE%20CATA...   \n",
       "2      Yukon   79000.0  https://maps.google.com/?q=C%2F%20VICENTE%20MU...   \n",
       "4         R8   51500.0  https://maps.google.com/?q=Ctra.%20Madrid%2C%2...   \n",
       "5        992  289900.0  https://maps.google.com/?q=Poligono%20Industri...   \n",
       "6        812  379999.0  https://maps.google.com/?q=C%2FCARRIL%20DE%20P...   \n",
       "\n",
       "   Potencia Tipo vendedor       Categoría Tipo de vehículo  ...  \\\n",
       "1       150         Prof.  SUV/4x4/Pickup          Ocasión  ...   \n",
       "2       426         Prof.  SUV/4x4/Pickup          Ocasión  ...   \n",
       "4       420         Prof.           Coupé          Ocasión  ...   \n",
       "5       650         Prof.           Coupé     Demostración  ...   \n",
       "6       799         Prof.           Coupé          Ocasión  ...   \n",
       "\n",
       "   Consumo de combustible Color exterior               Color original  \\\n",
       "1                     4.8          Negro  Negro Midnight (metalizado)   \n",
       "2                     4.1           Gris                         Gris   \n",
       "4                     4.1       Plateado                   Gris Plata   \n",
       "5                     7.2           Gris                   Gris Ágata   \n",
       "6                     4.3           Rojo                  Rosso Corsa   \n",
       "\n",
       "                       Tracción  plazas Número de marchas  \\\n",
       "1            Tracción delantera       4                 6   \n",
       "2            Tracción delantera       5                 1   \n",
       "4            Tracción delantera       5                 5   \n",
       "5  Tracción a las cuatro ruedas       4                 7   \n",
       "6              Tracción trasera       5                 8   \n",
       "\n",
       "   Número de cilindros    Peso Tipo de combustible Mes  \n",
       "1                    4   950.0            Gasolina   5  \n",
       "2                    4  1615.0            Gasolina   6  \n",
       "4                    4  1290.0            Gasolina   6  \n",
       "5                    6  1785.0            Gasolina  11  \n",
       "6                    4  1565.0            Gasolina   1  \n",
       "\n",
       "[5 rows x 27 columns]"
      ]
     },
     "execution_count": 168,
     "metadata": {},
     "output_type": "execute_result"
    }
   ],
   "source": [
    "df.head()"
   ]
  },
  {
   "cell_type": "markdown",
   "metadata": {},
   "source": [
    "Sobre la localización, actualmente tenemos un enlace de Google Maps, que nos puede ser muy útil, pero nos gustaría tener también un atributo 'Ciudad'. Esa información está contenida en el enlace de Google Maps, así que vamos a parsearlo para obtenerla, también extraeremos el código postal."
   ]
  },
  {
   "cell_type": "code",
   "execution_count": 169,
   "metadata": {},
   "outputs": [],
   "source": [
    "def obtener_ciudad_cp(url):\n",
    "    parsed_url = urlparse(url)\n",
    "    query_params = dict(pair.split('=') for pair in parsed_url.query.split('&'))\n",
    "    \n",
    "    # Decodificar la dirección de la URL\n",
    "    decoded_address = unquote(query_params['q'])\n",
    "    \n",
    "    # Dividir la dirección en partes\n",
    "    partes_direccion = decoded_address.split(',')\n",
    "    \n",
    "    # Obtener la ciudad y el código postal\n",
    "    cp_ciudad = partes_direccion[-2].strip()\n",
    "    #A veces está en una posición distinta\n",
    "    if not cp_ciudad:\n",
    "        cp_ciudad=partes_direccion[-3].strip()\n",
    "    \n",
    "    #La ciudad contiene actualmente el código postal, vamos a separlo en dos atributos\n",
    "    cp, ciudad = cp_ciudad.split(' ', 1) if ' ' in cp_ciudad else (cp_ciudad, '')\n",
    "    #Los códigos postales han de tener 5 carácteres, pero la dirección lo tiene como entero sin los \"0\" de inicio, se los añadimos\n",
    "    if len(cp) < 5:\n",
    "        cp= \"0\" * (5 - len(cp)) + cp\n",
    "    ciudad=ciudad.capitalize()\n",
    "\n",
    "    return ciudad, cp"
   ]
  },
  {
   "cell_type": "code",
   "execution_count": 170,
   "metadata": {},
   "outputs": [
    {
     "data": {
      "text/html": [
       "<div>\n",
       "<style scoped>\n",
       "    .dataframe tbody tr th:only-of-type {\n",
       "        vertical-align: middle;\n",
       "    }\n",
       "\n",
       "    .dataframe tbody tr th {\n",
       "        vertical-align: top;\n",
       "    }\n",
       "\n",
       "    .dataframe thead th {\n",
       "        text-align: right;\n",
       "    }\n",
       "</style>\n",
       "<table border=\"1\" class=\"dataframe\">\n",
       "  <thead>\n",
       "    <tr style=\"text-align: right;\">\n",
       "      <th></th>\n",
       "      <th>Localización</th>\n",
       "      <th>Ciudad</th>\n",
       "      <th>CP</th>\n",
       "    </tr>\n",
       "  </thead>\n",
       "  <tbody>\n",
       "    <tr>\n",
       "      <th>1</th>\n",
       "      <td>https://maps.google.com/?q=AVENIDA%20DE%20CATA...</td>\n",
       "      <td>Zaragoza</td>\n",
       "      <td>50014</td>\n",
       "    </tr>\n",
       "    <tr>\n",
       "      <th>2</th>\n",
       "      <td>https://maps.google.com/?q=C%2F%20VICENTE%20MU...</td>\n",
       "      <td>Madrid</td>\n",
       "      <td>28043</td>\n",
       "    </tr>\n",
       "    <tr>\n",
       "      <th>4</th>\n",
       "      <td>https://maps.google.com/?q=Ctra.%20Madrid%2C%2...</td>\n",
       "      <td>Alicante</td>\n",
       "      <td>03006</td>\n",
       "    </tr>\n",
       "    <tr>\n",
       "      <th>5</th>\n",
       "      <td>https://maps.google.com/?q=Poligono%20Industri...</td>\n",
       "      <td>Cardedeu</td>\n",
       "      <td>08440</td>\n",
       "    </tr>\n",
       "    <tr>\n",
       "      <th>6</th>\n",
       "      <td>https://maps.google.com/?q=C%2FCARRIL%20DE%20P...</td>\n",
       "      <td>Marbella</td>\n",
       "      <td>29670</td>\n",
       "    </tr>\n",
       "    <tr>\n",
       "      <th>7</th>\n",
       "      <td>https://maps.google.com/?q=AV.%20DE%20AR%C3%93...</td>\n",
       "      <td>Pamplona</td>\n",
       "      <td>31009</td>\n",
       "    </tr>\n",
       "    <tr>\n",
       "      <th>8</th>\n",
       "      <td>https://maps.google.com/?q=Crtra.de%20Cadiz%20...</td>\n",
       "      <td>San pedro de alcantara</td>\n",
       "      <td>29670</td>\n",
       "    </tr>\n",
       "    <tr>\n",
       "      <th>9</th>\n",
       "      <td>https://maps.google.com/?q=AVDA%20CAMINO%20DE%...</td>\n",
       "      <td>San sebastian de los reyes</td>\n",
       "      <td>28703</td>\n",
       "    </tr>\n",
       "    <tr>\n",
       "      <th>10</th>\n",
       "      <td>https://maps.google.com/?q=CARRETERA%20DE%20MA...</td>\n",
       "      <td>Jaen</td>\n",
       "      <td>23009</td>\n",
       "    </tr>\n",
       "    <tr>\n",
       "      <th>11</th>\n",
       "      <td>https://maps.google.com/?q=Avenida%20de%20Somo...</td>\n",
       "      <td>San sebastian de los reyes</td>\n",
       "      <td>28703</td>\n",
       "    </tr>\n",
       "  </tbody>\n",
       "</table>\n",
       "</div>"
      ],
      "text/plain": [
       "                                         Localización  \\\n",
       "1   https://maps.google.com/?q=AVENIDA%20DE%20CATA...   \n",
       "2   https://maps.google.com/?q=C%2F%20VICENTE%20MU...   \n",
       "4   https://maps.google.com/?q=Ctra.%20Madrid%2C%2...   \n",
       "5   https://maps.google.com/?q=Poligono%20Industri...   \n",
       "6   https://maps.google.com/?q=C%2FCARRIL%20DE%20P...   \n",
       "7   https://maps.google.com/?q=AV.%20DE%20AR%C3%93...   \n",
       "8   https://maps.google.com/?q=Crtra.de%20Cadiz%20...   \n",
       "9   https://maps.google.com/?q=AVDA%20CAMINO%20DE%...   \n",
       "10  https://maps.google.com/?q=CARRETERA%20DE%20MA...   \n",
       "11  https://maps.google.com/?q=Avenida%20de%20Somo...   \n",
       "\n",
       "                        Ciudad     CP  \n",
       "1                     Zaragoza  50014  \n",
       "2                       Madrid  28043  \n",
       "4                     Alicante  03006  \n",
       "5                     Cardedeu  08440  \n",
       "6                     Marbella  29670  \n",
       "7                     Pamplona  31009  \n",
       "8       San pedro de alcantara  29670  \n",
       "9   San sebastian de los reyes  28703  \n",
       "10                        Jaen  23009  \n",
       "11  San sebastian de los reyes  28703  "
      ]
     },
     "execution_count": 170,
     "metadata": {},
     "output_type": "execute_result"
    }
   ],
   "source": [
    "df[['Ciudad', 'CP']] = df['Localización'].apply(lambda x: pd.Series(obtener_ciudad_cp(x)))\n",
    "df[['Localización','Ciudad', 'CP']].head(10)"
   ]
  },
  {
   "cell_type": "markdown",
   "metadata": {},
   "source": [
    "Ya tenemos la ciudad y el código postal, pero nos gustaría conocer también la provincia. La obtendremos con con el dataset de códigos postales 'postalcat.csv' extraido de https://postal.cat/index.es.html"
   ]
  },
  {
   "cell_type": "code",
   "execution_count": 171,
   "metadata": {},
   "outputs": [
    {
     "name": "stdout",
     "output_type": "stream",
     "text": [
      "<class 'pandas.core.frame.DataFrame'>\n",
      "RangeIndex: 156750 entries, 0 to 156749\n",
      "Data columns (total 8 columns):\n",
      " #   Column       Non-Null Count   Dtype \n",
      "---  ------       --------------   ----- \n",
      " 0   internalid   156750 non-null  int64 \n",
      " 1   cp           156750 non-null  object\n",
      " 2   carrer       118688 non-null  object\n",
      " 3   poblacio     156750 non-null  object\n",
      " 4   provinciaid  156750 non-null  int64 \n",
      " 5   provincia    156750 non-null  object\n",
      " 6   paisid       156750 non-null  object\n",
      " 7   pais         156750 non-null  object\n",
      "dtypes: int64(2), object(6)\n",
      "memory usage: 9.6+ MB\n"
     ]
    }
   ],
   "source": [
    "df_cp=pd.read_csv(\"data\\\\raw\\\\postalcat.csv\", sep=\";\", dtype={'cp': str})\n",
    "df_cp.info()"
   ]
  },
  {
   "cell_type": "markdown",
   "metadata": {},
   "source": [
    "El df_cp tiene múltiples líneas para cada 'cp' porque hay distintas poblaciones aledañas que comparten código postal. Como solo queremos la provincia borraremos los duplicados para que no se dupliquen en el df al hacer el merge."
   ]
  },
  {
   "cell_type": "code",
   "execution_count": 172,
   "metadata": {},
   "outputs": [
    {
     "data": {
      "text/plain": [
       "cp\n",
       "01193    1\n",
       "37730    1\n",
       "37712    1\n",
       "37860    1\n",
       "37336    1\n",
       "        ..\n",
       "22640    1\n",
       "22415    1\n",
       "22268    1\n",
       "22520    1\n",
       "52006    1\n",
       "Name: count, Length: 11141, dtype: int64"
      ]
     },
     "execution_count": 172,
     "metadata": {},
     "output_type": "execute_result"
    }
   ],
   "source": [
    "df_cp=df_cp.drop_duplicates(['cp'], keep='first')\n",
    "df_cp['cp'].value_counts()"
   ]
  },
  {
   "cell_type": "code",
   "execution_count": 173,
   "metadata": {},
   "outputs": [
    {
     "data": {
      "text/html": [
       "<div>\n",
       "<style scoped>\n",
       "    .dataframe tbody tr th:only-of-type {\n",
       "        vertical-align: middle;\n",
       "    }\n",
       "\n",
       "    .dataframe tbody tr th {\n",
       "        vertical-align: top;\n",
       "    }\n",
       "\n",
       "    .dataframe thead th {\n",
       "        text-align: right;\n",
       "    }\n",
       "</style>\n",
       "<table border=\"1\" class=\"dataframe\">\n",
       "  <thead>\n",
       "    <tr style=\"text-align: right;\">\n",
       "      <th></th>\n",
       "      <th>Fecha extrac</th>\n",
       "      <th>Enlace</th>\n",
       "      <th>Marca</th>\n",
       "      <th>Modelo</th>\n",
       "      <th>Precio</th>\n",
       "      <th>Localización</th>\n",
       "      <th>Potencia</th>\n",
       "      <th>Tipo vendedor</th>\n",
       "      <th>Categoría</th>\n",
       "      <th>Tipo de vehículo</th>\n",
       "      <th>...</th>\n",
       "      <th>Tracción</th>\n",
       "      <th>plazas</th>\n",
       "      <th>Número de marchas</th>\n",
       "      <th>Número de cilindros</th>\n",
       "      <th>Peso</th>\n",
       "      <th>Tipo de combustible</th>\n",
       "      <th>Mes</th>\n",
       "      <th>Ciudad</th>\n",
       "      <th>CP</th>\n",
       "      <th>provincia</th>\n",
       "    </tr>\n",
       "  </thead>\n",
       "  <tbody>\n",
       "    <tr>\n",
       "      <th>0</th>\n",
       "      <td>2023-11-11</td>\n",
       "      <td>https://www.autoscout24.es/anuncios/cupra-form...</td>\n",
       "      <td>Cupra</td>\n",
       "      <td>Formentor</td>\n",
       "      <td>20995.0</td>\n",
       "      <td>https://maps.google.com/?q=AVENIDA%20DE%20CATA...</td>\n",
       "      <td>150</td>\n",
       "      <td>Prof.</td>\n",
       "      <td>SUV/4x4/Pickup</td>\n",
       "      <td>Ocasión</td>\n",
       "      <td>...</td>\n",
       "      <td>Tracción delantera</td>\n",
       "      <td>4</td>\n",
       "      <td>6</td>\n",
       "      <td>4</td>\n",
       "      <td>950.0</td>\n",
       "      <td>Gasolina</td>\n",
       "      <td>5</td>\n",
       "      <td>Zaragoza</td>\n",
       "      <td>50014</td>\n",
       "      <td>Zaragoza</td>\n",
       "    </tr>\n",
       "    <tr>\n",
       "      <th>1</th>\n",
       "      <td>2023-11-11</td>\n",
       "      <td>https://www.autoscout24.es/anuncios/gmc-yukon-...</td>\n",
       "      <td>GMC</td>\n",
       "      <td>Yukon</td>\n",
       "      <td>79000.0</td>\n",
       "      <td>https://maps.google.com/?q=C%2F%20VICENTE%20MU...</td>\n",
       "      <td>426</td>\n",
       "      <td>Prof.</td>\n",
       "      <td>SUV/4x4/Pickup</td>\n",
       "      <td>Ocasión</td>\n",
       "      <td>...</td>\n",
       "      <td>Tracción delantera</td>\n",
       "      <td>5</td>\n",
       "      <td>1</td>\n",
       "      <td>4</td>\n",
       "      <td>1615.0</td>\n",
       "      <td>Gasolina</td>\n",
       "      <td>6</td>\n",
       "      <td>Madrid</td>\n",
       "      <td>28043</td>\n",
       "      <td>Madrid</td>\n",
       "    </tr>\n",
       "    <tr>\n",
       "      <th>2</th>\n",
       "      <td>2023-11-11</td>\n",
       "      <td>https://www.autoscout24.es/anuncios/audi-r8-4-...</td>\n",
       "      <td>Audi</td>\n",
       "      <td>R8</td>\n",
       "      <td>51500.0</td>\n",
       "      <td>https://maps.google.com/?q=Ctra.%20Madrid%2C%2...</td>\n",
       "      <td>420</td>\n",
       "      <td>Prof.</td>\n",
       "      <td>Coupé</td>\n",
       "      <td>Ocasión</td>\n",
       "      <td>...</td>\n",
       "      <td>Tracción delantera</td>\n",
       "      <td>5</td>\n",
       "      <td>5</td>\n",
       "      <td>4</td>\n",
       "      <td>1290.0</td>\n",
       "      <td>Gasolina</td>\n",
       "      <td>6</td>\n",
       "      <td>Alicante</td>\n",
       "      <td>03006</td>\n",
       "      <td>Alicante/Alacant</td>\n",
       "    </tr>\n",
       "    <tr>\n",
       "      <th>3</th>\n",
       "      <td>2023-11-11</td>\n",
       "      <td>https://www.autoscout24.es/anuncios/porsche-99...</td>\n",
       "      <td>Porsche</td>\n",
       "      <td>992</td>\n",
       "      <td>289900.0</td>\n",
       "      <td>https://maps.google.com/?q=Poligono%20Industri...</td>\n",
       "      <td>650</td>\n",
       "      <td>Prof.</td>\n",
       "      <td>Coupé</td>\n",
       "      <td>Demostración</td>\n",
       "      <td>...</td>\n",
       "      <td>Tracción a las cuatro ruedas</td>\n",
       "      <td>4</td>\n",
       "      <td>7</td>\n",
       "      <td>6</td>\n",
       "      <td>1785.0</td>\n",
       "      <td>Gasolina</td>\n",
       "      <td>11</td>\n",
       "      <td>Cardedeu</td>\n",
       "      <td>08440</td>\n",
       "      <td>Barcelona</td>\n",
       "    </tr>\n",
       "    <tr>\n",
       "      <th>4</th>\n",
       "      <td>2023-11-11</td>\n",
       "      <td>https://www.autoscout24.es/anuncios/ferrari-81...</td>\n",
       "      <td>Ferrari</td>\n",
       "      <td>812</td>\n",
       "      <td>379999.0</td>\n",
       "      <td>https://maps.google.com/?q=C%2FCARRIL%20DE%20P...</td>\n",
       "      <td>799</td>\n",
       "      <td>Prof.</td>\n",
       "      <td>Coupé</td>\n",
       "      <td>Ocasión</td>\n",
       "      <td>...</td>\n",
       "      <td>Tracción trasera</td>\n",
       "      <td>5</td>\n",
       "      <td>8</td>\n",
       "      <td>4</td>\n",
       "      <td>1565.0</td>\n",
       "      <td>Gasolina</td>\n",
       "      <td>1</td>\n",
       "      <td>Marbella</td>\n",
       "      <td>29670</td>\n",
       "      <td>Málaga</td>\n",
       "    </tr>\n",
       "  </tbody>\n",
       "</table>\n",
       "<p>5 rows × 30 columns</p>\n",
       "</div>"
      ],
      "text/plain": [
       "  Fecha extrac                                             Enlace    Marca  \\\n",
       "0   2023-11-11  https://www.autoscout24.es/anuncios/cupra-form...    Cupra   \n",
       "1   2023-11-11  https://www.autoscout24.es/anuncios/gmc-yukon-...      GMC   \n",
       "2   2023-11-11  https://www.autoscout24.es/anuncios/audi-r8-4-...     Audi   \n",
       "3   2023-11-11  https://www.autoscout24.es/anuncios/porsche-99...  Porsche   \n",
       "4   2023-11-11  https://www.autoscout24.es/anuncios/ferrari-81...  Ferrari   \n",
       "\n",
       "      Modelo    Precio                                       Localización  \\\n",
       "0  Formentor   20995.0  https://maps.google.com/?q=AVENIDA%20DE%20CATA...   \n",
       "1      Yukon   79000.0  https://maps.google.com/?q=C%2F%20VICENTE%20MU...   \n",
       "2         R8   51500.0  https://maps.google.com/?q=Ctra.%20Madrid%2C%2...   \n",
       "3        992  289900.0  https://maps.google.com/?q=Poligono%20Industri...   \n",
       "4        812  379999.0  https://maps.google.com/?q=C%2FCARRIL%20DE%20P...   \n",
       "\n",
       "   Potencia Tipo vendedor       Categoría Tipo de vehículo  ...  \\\n",
       "0       150         Prof.  SUV/4x4/Pickup          Ocasión  ...   \n",
       "1       426         Prof.  SUV/4x4/Pickup          Ocasión  ...   \n",
       "2       420         Prof.           Coupé          Ocasión  ...   \n",
       "3       650         Prof.           Coupé     Demostración  ...   \n",
       "4       799         Prof.           Coupé          Ocasión  ...   \n",
       "\n",
       "                       Tracción plazas  Número de marchas  \\\n",
       "0            Tracción delantera      4                  6   \n",
       "1            Tracción delantera      5                  1   \n",
       "2            Tracción delantera      5                  5   \n",
       "3  Tracción a las cuatro ruedas      4                  7   \n",
       "4              Tracción trasera      5                  8   \n",
       "\n",
       "   Número de cilindros    Peso Tipo de combustible  Mes    Ciudad     CP  \\\n",
       "0                    4   950.0            Gasolina    5  Zaragoza  50014   \n",
       "1                    4  1615.0            Gasolina    6    Madrid  28043   \n",
       "2                    4  1290.0            Gasolina    6  Alicante  03006   \n",
       "3                    6  1785.0            Gasolina   11  Cardedeu  08440   \n",
       "4                    4  1565.0            Gasolina    1  Marbella  29670   \n",
       "\n",
       "          provincia  \n",
       "0          Zaragoza  \n",
       "1            Madrid  \n",
       "2  Alicante/Alacant  \n",
       "3         Barcelona  \n",
       "4            Málaga  \n",
       "\n",
       "[5 rows x 30 columns]"
      ]
     },
     "execution_count": 173,
     "metadata": {},
     "output_type": "execute_result"
    }
   ],
   "source": [
    "df=pd.merge(df, df_cp[['cp', 'provincia']], left_on='CP', right_on='cp', how='left')\n",
    "df=df.drop('cp', axis=1)\n",
    "df.head()"
   ]
  },
  {
   "cell_type": "code",
   "execution_count": 174,
   "metadata": {},
   "outputs": [
    {
     "data": {
      "text/plain": [
       "42"
      ]
     },
     "execution_count": 174,
     "metadata": {},
     "output_type": "execute_result"
    }
   ],
   "source": [
    "df['provincia'].isna().sum()"
   ]
  },
  {
   "cell_type": "code",
   "execution_count": 175,
   "metadata": {},
   "outputs": [
    {
     "data": {
      "text/plain": [
       "CP\n",
       "08097    13\n",
       "26302    12\n",
       "28603     6\n",
       "42702     5\n",
       "15407     3\n",
       "08803     1\n",
       "46429     1\n",
       "30314     1\n",
       "Name: count, dtype: int64"
      ]
     },
     "execution_count": 175,
     "metadata": {},
     "output_type": "execute_result"
    }
   ],
   "source": [
    "df[df['provincia'].isna()]['CP'].value_counts()"
   ]
  },
  {
   "cell_type": "markdown",
   "metadata": {},
   "source": [
    "En realidad los 41 NaN corresponden solo a 8 códigos postales. Son pocos, así que lo podemos completar a mano."
   ]
  },
  {
   "cell_type": "code",
   "execution_count": 176,
   "metadata": {},
   "outputs": [],
   "source": [
    "df.loc[df['CP'] == '08097', 'provincia'] = 'Barcelona'\n",
    "df.loc[df['CP'] == '26302', 'provincia'] = 'Málaga'\n",
    "df.loc[df['CP'] == '28603', 'provincia'] = 'Málaga'\n",
    "df.loc[df['CP'] == '42702', 'provincia'] = 'Sevilla'\n",
    "df.loc[df['CP'] == '15407', 'provincia'] = 'A Coruña'\n",
    "df.loc[df['CP'] == '08803', 'provincia'] = 'Barcelona'\n",
    "df.loc[df['CP'] == '46429', 'provincia'] = 'Valencia/València'\n",
    "df.loc[df['CP'] == '30314', 'provincia'] = 'Murcia'"
   ]
  },
  {
   "cell_type": "code",
   "execution_count": 177,
   "metadata": {},
   "outputs": [
    {
     "data": {
      "text/plain": [
       "Fecha extrac              0\n",
       "Enlace                    0\n",
       "Marca                     0\n",
       "Modelo                    0\n",
       "Precio                    0\n",
       "Localización              0\n",
       "Potencia                  0\n",
       "Tipo vendedor             0\n",
       "Categoría                 0\n",
       "Tipo de vehículo          0\n",
       "puertas                   0\n",
       "Versión del país          0\n",
       "Garantía                  0\n",
       "Kilometraje               0\n",
       "Año                       0\n",
       "Tipo de cambio            0\n",
       "Capacidad                 0\n",
       "Consumo de combustible    0\n",
       "Color exterior            0\n",
       "Color original            0\n",
       "Tracción                  0\n",
       "plazas                    0\n",
       "Número de marchas         0\n",
       "Número de cilindros       0\n",
       "Peso                      0\n",
       "Tipo de combustible       0\n",
       "Mes                       0\n",
       "Ciudad                    0\n",
       "CP                        0\n",
       "provincia                 0\n",
       "dtype: int64"
      ]
     },
     "execution_count": 177,
     "metadata": {},
     "output_type": "execute_result"
    }
   ],
   "source": [
    "df.isna().sum()"
   ]
  },
  {
   "cell_type": "markdown",
   "metadata": {},
   "source": [
    "Ya tenemos el primer dataset limpio, vamos a guardarlo en un archivo diferente para usarlo para el análisis y el modelo."
   ]
  },
  {
   "cell_type": "code",
   "execution_count": 237,
   "metadata": {},
   "outputs": [],
   "source": [
    "df.to_csv('data\\\\clean\\\\veh_usados.csv')"
   ]
  },
  {
   "cell_type": "markdown",
   "metadata": {},
   "source": [
    "Vamos a cargar el segundo dataset, correspondiente a datos de Autoscout24 España scrapeados en 2018, extraidos de https://www.kaggle.com/datasets/harturo123/online-adds-of-used-cars/"
   ]
  },
  {
   "cell_type": "code",
   "execution_count": 179,
   "metadata": {},
   "outputs": [
    {
     "name": "stdout",
     "output_type": "stream",
     "text": [
      "<class 'pandas.core.frame.DataFrame'>\n",
      "RangeIndex: 93991 entries, 0 to 93990\n",
      "Data columns (total 12 columns):\n",
      " #   Column      Non-Null Count  Dtype  \n",
      "---  ------      --------------  -----  \n",
      " 0   ID          93991 non-null  int64  \n",
      " 1   make        93991 non-null  object \n",
      " 2   model       93991 non-null  object \n",
      " 3   version     93991 non-null  object \n",
      " 4   months_old  93717 non-null  float64\n",
      " 5   power       93504 non-null  float64\n",
      " 6   sale_type   93979 non-null  object \n",
      " 7   num_owners  22660 non-null  float64\n",
      " 8   gear_type   92710 non-null  object \n",
      " 9   fuel_type   93926 non-null  object \n",
      " 10  kms         93127 non-null  float64\n",
      " 11  price       93991 non-null  int64  \n",
      "dtypes: float64(4), int64(2), object(6)\n",
      "memory usage: 8.6+ MB\n"
     ]
    }
   ],
   "source": [
    "df_2018=pd.read_csv(\"data\\\\raw\\\\spanish_used_car.csv\", sep=\";\")\n",
    "df_2018.info()"
   ]
  },
  {
   "cell_type": "code",
   "execution_count": 180,
   "metadata": {},
   "outputs": [
    {
     "data": {
      "text/plain": [
       "ID                0\n",
       "make              0\n",
       "model             0\n",
       "version           0\n",
       "months_old      274\n",
       "power           487\n",
       "sale_type        12\n",
       "num_owners    71331\n",
       "gear_type      1281\n",
       "fuel_type        65\n",
       "kms             864\n",
       "price             0\n",
       "dtype: int64"
      ]
     },
     "execution_count": 180,
     "metadata": {},
     "output_type": "execute_result"
    }
   ],
   "source": [
    "df_2018.isna().sum()"
   ]
  },
  {
   "cell_type": "markdown",
   "metadata": {},
   "source": [
    "Vemos que hay NaNs en este dataset. Lo primero que haremos es eliminar la columna 'num_owners' ya que tiene más de la mitad de los datos en NaN. Además, no es un atributo que tengamos en el dataset principal, así que no nos vale para comparativa, que es para lo que queremos este dataset."
   ]
  },
  {
   "cell_type": "code",
   "execution_count": 181,
   "metadata": {},
   "outputs": [],
   "source": [
    "df_2018=df_2018.drop('num_owners', axis=1)"
   ]
  },
  {
   "cell_type": "markdown",
   "metadata": {},
   "source": [
    "Para el atributo 'power' como hemos hecho en el dataset principal, intentaremos obtener la potencia de coches de la misma marca y mismo modelo. Rellenando tanto hacia adelante como hacia atrás."
   ]
  },
  {
   "cell_type": "code",
   "execution_count": 182,
   "metadata": {},
   "outputs": [
    {
     "data": {
      "text/plain": [
       "ID               0\n",
       "make             0\n",
       "model            0\n",
       "version          0\n",
       "months_old     274\n",
       "power            0\n",
       "sale_type       12\n",
       "gear_type     1281\n",
       "fuel_type       65\n",
       "kms            864\n",
       "price            0\n",
       "dtype: int64"
      ]
     },
     "execution_count": 182,
     "metadata": {},
     "output_type": "execute_result"
    }
   ],
   "source": [
    "df_2018['power'] = df_2018.groupby(['make', 'model'])['power'].fillna(method='ffill')\n",
    "df_2018['power'] = df_2018.groupby(['make', 'model'])['power'].fillna(method='bfill')\n",
    "df_2018.isna().sum()"
   ]
  },
  {
   "cell_type": "code",
   "execution_count": 183,
   "metadata": {},
   "outputs": [
    {
     "data": {
      "text/html": [
       "<div>\n",
       "<style scoped>\n",
       "    .dataframe tbody tr th:only-of-type {\n",
       "        vertical-align: middle;\n",
       "    }\n",
       "\n",
       "    .dataframe tbody tr th {\n",
       "        vertical-align: top;\n",
       "    }\n",
       "\n",
       "    .dataframe thead th {\n",
       "        text-align: right;\n",
       "    }\n",
       "</style>\n",
       "<table border=\"1\" class=\"dataframe\">\n",
       "  <thead>\n",
       "    <tr style=\"text-align: right;\">\n",
       "      <th></th>\n",
       "      <th>ID</th>\n",
       "      <th>make</th>\n",
       "      <th>model</th>\n",
       "      <th>version</th>\n",
       "      <th>months_old</th>\n",
       "      <th>power</th>\n",
       "      <th>sale_type</th>\n",
       "      <th>gear_type</th>\n",
       "      <th>fuel_type</th>\n",
       "      <th>kms</th>\n",
       "      <th>price</th>\n",
       "    </tr>\n",
       "  </thead>\n",
       "  <tbody>\n",
       "    <tr>\n",
       "      <th>0</th>\n",
       "      <td>97860</td>\n",
       "      <td>Porsche</td>\n",
       "      <td>911</td>\n",
       "      <td>Carrera 4 S Coup�</td>\n",
       "      <td>240.0</td>\n",
       "      <td>210.0</td>\n",
       "      <td>classic</td>\n",
       "      <td>manual</td>\n",
       "      <td>gasoline</td>\n",
       "      <td>202000.0</td>\n",
       "      <td>999999</td>\n",
       "    </tr>\n",
       "    <tr>\n",
       "      <th>1</th>\n",
       "      <td>27821</td>\n",
       "      <td>Ford</td>\n",
       "      <td>Mustang</td>\n",
       "      <td>Gt500 Cabrio Vendido</td>\n",
       "      <td>54.0</td>\n",
       "      <td>487.0</td>\n",
       "      <td>used</td>\n",
       "      <td>manual</td>\n",
       "      <td>gasoline</td>\n",
       "      <td>30000.0</td>\n",
       "      <td>685000</td>\n",
       "    </tr>\n",
       "    <tr>\n",
       "      <th>2</th>\n",
       "      <td>97801</td>\n",
       "      <td>Porsche</td>\n",
       "      <td>911</td>\n",
       "      <td>3.3 Turbo Targa (Precio A Consultar)</td>\n",
       "      <td>358.0</td>\n",
       "      <td>220.0</td>\n",
       "      <td>used</td>\n",
       "      <td>manual</td>\n",
       "      <td>gasoline</td>\n",
       "      <td>56300.0</td>\n",
       "      <td>555555</td>\n",
       "    </tr>\n",
       "    <tr>\n",
       "      <th>3</th>\n",
       "      <td>98251</td>\n",
       "      <td>Porsche</td>\n",
       "      <td>911</td>\n",
       "      <td>R Unidad 343 De 991-Iva Deducible</td>\n",
       "      <td>14.0</td>\n",
       "      <td>368.0</td>\n",
       "      <td>used</td>\n",
       "      <td>manual</td>\n",
       "      <td>gasoline</td>\n",
       "      <td>2800.0</td>\n",
       "      <td>470000</td>\n",
       "    </tr>\n",
       "    <tr>\n",
       "      <th>4</th>\n",
       "      <td>98250</td>\n",
       "      <td>Porsche</td>\n",
       "      <td>911</td>\n",
       "      <td>Gt2 Rs</td>\n",
       "      <td>3.0</td>\n",
       "      <td>515.0</td>\n",
       "      <td>used</td>\n",
       "      <td>NaN</td>\n",
       "      <td>gasoline</td>\n",
       "      <td>10.0</td>\n",
       "      <td>450000</td>\n",
       "    </tr>\n",
       "  </tbody>\n",
       "</table>\n",
       "</div>"
      ],
      "text/plain": [
       "      ID     make    model                               version  months_old  \\\n",
       "0  97860  Porsche      911                     Carrera 4 S Coup�       240.0   \n",
       "1  27821     Ford  Mustang                  Gt500 Cabrio Vendido        54.0   \n",
       "2  97801  Porsche      911  3.3 Turbo Targa (Precio A Consultar)       358.0   \n",
       "3  98251  Porsche      911     R Unidad 343 De 991-Iva Deducible        14.0   \n",
       "4  98250  Porsche      911                                Gt2 Rs         3.0   \n",
       "\n",
       "   power sale_type gear_type fuel_type       kms   price  \n",
       "0  210.0   classic    manual  gasoline  202000.0  999999  \n",
       "1  487.0      used    manual  gasoline   30000.0  685000  \n",
       "2  220.0      used    manual  gasoline   56300.0  555555  \n",
       "3  368.0      used    manual  gasoline    2800.0  470000  \n",
       "4  515.0      used       NaN  gasoline      10.0  450000  "
      ]
     },
     "execution_count": 183,
     "metadata": {},
     "output_type": "execute_result"
    }
   ],
   "source": [
    "df_2018.head()"
   ]
  },
  {
   "cell_type": "markdown",
   "metadata": {},
   "source": [
    "Una búsqueda en Google de la potencia de algunos de los modelos nos servirá para darnos cuenta que en este dataset se ha guardado la potencia en kilowatios mientras que en nuestro dataset principal la tenemos guardada en caballos. Para transformarla basta con multiplicar todos los valores por el ratio de conversión 1.341"
   ]
  },
  {
   "cell_type": "code",
   "execution_count": 184,
   "metadata": {},
   "outputs": [
    {
     "data": {
      "text/html": [
       "<div>\n",
       "<style scoped>\n",
       "    .dataframe tbody tr th:only-of-type {\n",
       "        vertical-align: middle;\n",
       "    }\n",
       "\n",
       "    .dataframe tbody tr th {\n",
       "        vertical-align: top;\n",
       "    }\n",
       "\n",
       "    .dataframe thead th {\n",
       "        text-align: right;\n",
       "    }\n",
       "</style>\n",
       "<table border=\"1\" class=\"dataframe\">\n",
       "  <thead>\n",
       "    <tr style=\"text-align: right;\">\n",
       "      <th></th>\n",
       "      <th>ID</th>\n",
       "      <th>make</th>\n",
       "      <th>model</th>\n",
       "      <th>version</th>\n",
       "      <th>months_old</th>\n",
       "      <th>power</th>\n",
       "      <th>sale_type</th>\n",
       "      <th>gear_type</th>\n",
       "      <th>fuel_type</th>\n",
       "      <th>kms</th>\n",
       "      <th>price</th>\n",
       "    </tr>\n",
       "  </thead>\n",
       "  <tbody>\n",
       "    <tr>\n",
       "      <th>0</th>\n",
       "      <td>97860</td>\n",
       "      <td>Porsche</td>\n",
       "      <td>911</td>\n",
       "      <td>Carrera 4 S Coup�</td>\n",
       "      <td>240.0</td>\n",
       "      <td>281.610</td>\n",
       "      <td>classic</td>\n",
       "      <td>manual</td>\n",
       "      <td>gasoline</td>\n",
       "      <td>202000.0</td>\n",
       "      <td>999999</td>\n",
       "    </tr>\n",
       "    <tr>\n",
       "      <th>1</th>\n",
       "      <td>27821</td>\n",
       "      <td>Ford</td>\n",
       "      <td>Mustang</td>\n",
       "      <td>Gt500 Cabrio Vendido</td>\n",
       "      <td>54.0</td>\n",
       "      <td>653.067</td>\n",
       "      <td>used</td>\n",
       "      <td>manual</td>\n",
       "      <td>gasoline</td>\n",
       "      <td>30000.0</td>\n",
       "      <td>685000</td>\n",
       "    </tr>\n",
       "    <tr>\n",
       "      <th>2</th>\n",
       "      <td>97801</td>\n",
       "      <td>Porsche</td>\n",
       "      <td>911</td>\n",
       "      <td>3.3 Turbo Targa (Precio A Consultar)</td>\n",
       "      <td>358.0</td>\n",
       "      <td>295.020</td>\n",
       "      <td>used</td>\n",
       "      <td>manual</td>\n",
       "      <td>gasoline</td>\n",
       "      <td>56300.0</td>\n",
       "      <td>555555</td>\n",
       "    </tr>\n",
       "    <tr>\n",
       "      <th>3</th>\n",
       "      <td>98251</td>\n",
       "      <td>Porsche</td>\n",
       "      <td>911</td>\n",
       "      <td>R Unidad 343 De 991-Iva Deducible</td>\n",
       "      <td>14.0</td>\n",
       "      <td>493.488</td>\n",
       "      <td>used</td>\n",
       "      <td>manual</td>\n",
       "      <td>gasoline</td>\n",
       "      <td>2800.0</td>\n",
       "      <td>470000</td>\n",
       "    </tr>\n",
       "    <tr>\n",
       "      <th>4</th>\n",
       "      <td>98250</td>\n",
       "      <td>Porsche</td>\n",
       "      <td>911</td>\n",
       "      <td>Gt2 Rs</td>\n",
       "      <td>3.0</td>\n",
       "      <td>690.615</td>\n",
       "      <td>used</td>\n",
       "      <td>NaN</td>\n",
       "      <td>gasoline</td>\n",
       "      <td>10.0</td>\n",
       "      <td>450000</td>\n",
       "    </tr>\n",
       "  </tbody>\n",
       "</table>\n",
       "</div>"
      ],
      "text/plain": [
       "      ID     make    model                               version  months_old  \\\n",
       "0  97860  Porsche      911                     Carrera 4 S Coup�       240.0   \n",
       "1  27821     Ford  Mustang                  Gt500 Cabrio Vendido        54.0   \n",
       "2  97801  Porsche      911  3.3 Turbo Targa (Precio A Consultar)       358.0   \n",
       "3  98251  Porsche      911     R Unidad 343 De 991-Iva Deducible        14.0   \n",
       "4  98250  Porsche      911                                Gt2 Rs         3.0   \n",
       "\n",
       "     power sale_type gear_type fuel_type       kms   price  \n",
       "0  281.610   classic    manual  gasoline  202000.0  999999  \n",
       "1  653.067      used    manual  gasoline   30000.0  685000  \n",
       "2  295.020      used    manual  gasoline   56300.0  555555  \n",
       "3  493.488      used    manual  gasoline    2800.0  470000  \n",
       "4  690.615      used       NaN  gasoline      10.0  450000  "
      ]
     },
     "execution_count": 184,
     "metadata": {},
     "output_type": "execute_result"
    }
   ],
   "source": [
    "df_2018['power']*=1.341\n",
    "df_2018.head()"
   ]
  },
  {
   "cell_type": "markdown",
   "metadata": {},
   "source": [
    "Las columnas en las que aún quedan NaNs no son fáciles de imputar (el mismo modelo de coche puede tener cambio automático o manual, combustible diesel o gasolina, y es dificil saber cuantos meses de antigüedad o kms puede tener.) Dado que son una parte muy pequeña del dataset de 100.000 registros, eliminaremos esas filas."
   ]
  },
  {
   "cell_type": "code",
   "execution_count": 185,
   "metadata": {},
   "outputs": [
    {
     "data": {
      "text/plain": [
       "ID            0\n",
       "make          0\n",
       "model         0\n",
       "version       0\n",
       "months_old    0\n",
       "power         0\n",
       "sale_type     0\n",
       "gear_type     0\n",
       "fuel_type     0\n",
       "kms           0\n",
       "price         0\n",
       "dtype: int64"
      ]
     },
     "execution_count": 185,
     "metadata": {},
     "output_type": "execute_result"
    }
   ],
   "source": [
    "df_2018=df_2018.dropna()\n",
    "df_2018.isna().sum()"
   ]
  },
  {
   "cell_type": "markdown",
   "metadata": {},
   "source": [
    "Algunas columnas categóricas nos van a dar problemas cuando las queramos comparar con el dataset scrapeado porque en este dataset los valores están en inglés y en el otro en español. Este dataset son muchas menos columnas, así que traduciremos los valores de este al mismo formato que tienen en el principal."
   ]
  },
  {
   "cell_type": "code",
   "execution_count": 186,
   "metadata": {},
   "outputs": [
    {
     "data": {
      "text/plain": [
       "sale_type\n",
       "used          84582\n",
       "km_0           2602\n",
       "almost_new     2562\n",
       "demo           1029\n",
       "new             699\n",
       "classic          65\n",
       "Name: count, dtype: int64"
      ]
     },
     "execution_count": 186,
     "metadata": {},
     "output_type": "execute_result"
    }
   ],
   "source": [
    "df_2018['sale_type'].value_counts()"
   ]
  },
  {
   "cell_type": "code",
   "execution_count": 187,
   "metadata": {},
   "outputs": [],
   "source": [
    "df_2018['sale_type']=df_2018['sale_type'].replace({'used': 'Ocasión', 'km_0': 'KM0', 'almost new': 'Casi nuevo', 'demo': 'Demostración',\n",
    "                                                   'new': 'Nuevo', 'classic': 'Clásica', 'almost_new' : 'Casi nuevo'})"
   ]
  },
  {
   "cell_type": "code",
   "execution_count": 188,
   "metadata": {},
   "outputs": [
    {
     "data": {
      "text/plain": [
       "gear_type\n",
       "manual            66888\n",
       "automatic         24359\n",
       "semi-automatic      292\n",
       "Name: count, dtype: int64"
      ]
     },
     "execution_count": 188,
     "metadata": {},
     "output_type": "execute_result"
    }
   ],
   "source": [
    "df_2018['gear_type'].value_counts()"
   ]
  },
  {
   "cell_type": "code",
   "execution_count": 189,
   "metadata": {},
   "outputs": [],
   "source": [
    "df_2018['gear_type']=df_2018['gear_type'].replace({'manual': 'Manual', 'automatic': 'Automático', 'semi-automatic': 'Semi-automático'})"
   ]
  },
  {
   "cell_type": "code",
   "execution_count": 190,
   "metadata": {},
   "outputs": [
    {
     "data": {
      "text/plain": [
       "fuel_type\n",
       "diesel      70141\n",
       "gasoline    20826\n",
       "hybrid        433\n",
       "electric       92\n",
       "LPG            43\n",
       "CNG             3\n",
       "etanol          1\n",
       "Name: count, dtype: int64"
      ]
     },
     "execution_count": 190,
     "metadata": {},
     "output_type": "execute_result"
    }
   ],
   "source": [
    "df_2018['fuel_type'].value_counts()"
   ]
  },
  {
   "cell_type": "code",
   "execution_count": 191,
   "metadata": {},
   "outputs": [
    {
     "data": {
      "text/plain": [
       "Tipo de combustible\n",
       "Gasolina             8135\n",
       "Diésel               5672\n",
       "Eléctrico             557\n",
       "Otros                 188\n",
       "Gas licuado (GLP)     105\n",
       "Super 95                1\n",
       "Name: count, dtype: int64"
      ]
     },
     "execution_count": 191,
     "metadata": {},
     "output_type": "execute_result"
    }
   ],
   "source": [
    "df['Tipo de combustible'].value_counts()"
   ]
  },
  {
   "cell_type": "code",
   "execution_count": 192,
   "metadata": {},
   "outputs": [],
   "source": [
    "df_2018['fuel_type']=df_2018['fuel_type'].replace({'diesel': 'Diésel', 'Gasoline': 'Gasolina', 'hybrid': 'Híbrido', 'electric': 'Eléctrico', \n",
    "                                                   'LPG' : 'Gas licuado (GLP)', 'etanol': 'Etanol'})"
   ]
  },
  {
   "cell_type": "markdown",
   "metadata": {},
   "source": [
    "Ya tenemos el dataset listo para guardarlo en archivo"
   ]
  },
  {
   "cell_type": "code",
   "execution_count": 193,
   "metadata": {},
   "outputs": [],
   "source": [
    "df_2018.to_csv('data\\\\clean\\\\2018.csv')"
   ]
  },
  {
   "cell_type": "markdown",
   "metadata": {},
   "source": [
    "Nos queda un último dataset que limpiar antes de empezar con el análisis."
   ]
  },
  {
   "cell_type": "code",
   "execution_count": 194,
   "metadata": {},
   "outputs": [],
   "source": [
    "df_alemania=pd.read_csv('data\\\\raw\\\\germany_used_cars_dataset_2023.csv')"
   ]
  },
  {
   "cell_type": "code",
   "execution_count": 195,
   "metadata": {},
   "outputs": [
    {
     "data": {
      "text/plain": [
       "Unnamed: 0                      0\n",
       "brand                           0\n",
       "model                           0\n",
       "color                         166\n",
       "registration_date               4\n",
       "year                            0\n",
       "price_in_euro                   0\n",
       "power_kw                      134\n",
       "power_ps                      129\n",
       "transmission_type               0\n",
       "fuel_type                       0\n",
       "fuel_consumption_l_100km    26873\n",
       "fuel_consumption_g_km           0\n",
       "mileage_in_km                 152\n",
       "offer_description               1\n",
       "dtype: int64"
      ]
     },
     "execution_count": 195,
     "metadata": {},
     "output_type": "execute_result"
    }
   ],
   "source": [
    "df_alemania.isna().sum()"
   ]
  },
  {
   "cell_type": "markdown",
   "metadata": {},
   "source": [
    "Llenaremos la variable color con la moda."
   ]
  },
  {
   "cell_type": "code",
   "execution_count": 196,
   "metadata": {},
   "outputs": [],
   "source": [
    "df_alemania['color'].fillna(df_alemania['color'].mode()[0], inplace=True)"
   ]
  },
  {
   "cell_type": "markdown",
   "metadata": {},
   "source": [
    "Eliminaremos las filas con la fecha en NaN y la separaremos en año y mes"
   ]
  },
  {
   "cell_type": "code",
   "execution_count": 197,
   "metadata": {},
   "outputs": [
    {
     "data": {
      "text/plain": [
       "0    10/1995\n",
       "1    02/1995\n",
       "2    02/1995\n",
       "3    07/1995\n",
       "4    11/1996\n",
       "Name: registration_date, dtype: object"
      ]
     },
     "execution_count": 197,
     "metadata": {},
     "output_type": "execute_result"
    }
   ],
   "source": [
    "df_alemania['registration_date'].head()"
   ]
  },
  {
   "cell_type": "code",
   "execution_count": 198,
   "metadata": {},
   "outputs": [],
   "source": [
    "df_alemania=df_alemania[df_alemania['registration_date'].notna()]"
   ]
  },
  {
   "cell_type": "code",
   "execution_count": 199,
   "metadata": {},
   "outputs": [
    {
     "data": {
      "text/html": [
       "<div>\n",
       "<style scoped>\n",
       "    .dataframe tbody tr th:only-of-type {\n",
       "        vertical-align: middle;\n",
       "    }\n",
       "\n",
       "    .dataframe tbody tr th {\n",
       "        vertical-align: top;\n",
       "    }\n",
       "\n",
       "    .dataframe thead th {\n",
       "        text-align: right;\n",
       "    }\n",
       "</style>\n",
       "<table border=\"1\" class=\"dataframe\">\n",
       "  <thead>\n",
       "    <tr style=\"text-align: right;\">\n",
       "      <th></th>\n",
       "      <th>registration_date</th>\n",
       "      <th>month</th>\n",
       "      <th>year</th>\n",
       "    </tr>\n",
       "  </thead>\n",
       "  <tbody>\n",
       "    <tr>\n",
       "      <th>0</th>\n",
       "      <td>10/1995</td>\n",
       "      <td>10</td>\n",
       "      <td>1995</td>\n",
       "    </tr>\n",
       "    <tr>\n",
       "      <th>1</th>\n",
       "      <td>02/1995</td>\n",
       "      <td>02</td>\n",
       "      <td>1995</td>\n",
       "    </tr>\n",
       "    <tr>\n",
       "      <th>2</th>\n",
       "      <td>02/1995</td>\n",
       "      <td>02</td>\n",
       "      <td>1995</td>\n",
       "    </tr>\n",
       "    <tr>\n",
       "      <th>3</th>\n",
       "      <td>07/1995</td>\n",
       "      <td>07</td>\n",
       "      <td>1995</td>\n",
       "    </tr>\n",
       "    <tr>\n",
       "      <th>4</th>\n",
       "      <td>11/1996</td>\n",
       "      <td>11</td>\n",
       "      <td>1996</td>\n",
       "    </tr>\n",
       "  </tbody>\n",
       "</table>\n",
       "</div>"
      ],
      "text/plain": [
       "  registration_date month  year\n",
       "0           10/1995    10  1995\n",
       "1           02/1995    02  1995\n",
       "2           02/1995    02  1995\n",
       "3           07/1995    07  1995\n",
       "4           11/1996    11  1996"
      ]
     },
     "execution_count": 199,
     "metadata": {},
     "output_type": "execute_result"
    }
   ],
   "source": [
    "df_alemania[['month', 'year']] = df_alemania['registration_date'].str.split('/', expand=True)\n",
    "df_alemania[['registration_date', 'month', 'year']].head()"
   ]
  },
  {
   "cell_type": "code",
   "execution_count": 200,
   "metadata": {},
   "outputs": [
    {
     "data": {
      "text/html": [
       "<div>\n",
       "<style scoped>\n",
       "    .dataframe tbody tr th:only-of-type {\n",
       "        vertical-align: middle;\n",
       "    }\n",
       "\n",
       "    .dataframe tbody tr th {\n",
       "        vertical-align: top;\n",
       "    }\n",
       "\n",
       "    .dataframe thead th {\n",
       "        text-align: right;\n",
       "    }\n",
       "</style>\n",
       "<table border=\"1\" class=\"dataframe\">\n",
       "  <thead>\n",
       "    <tr style=\"text-align: right;\">\n",
       "      <th></th>\n",
       "      <th>Unnamed: 0</th>\n",
       "      <th>brand</th>\n",
       "      <th>model</th>\n",
       "      <th>color</th>\n",
       "      <th>year</th>\n",
       "      <th>price_in_euro</th>\n",
       "      <th>power_kw</th>\n",
       "      <th>power_ps</th>\n",
       "      <th>transmission_type</th>\n",
       "      <th>fuel_type</th>\n",
       "      <th>fuel_consumption_l_100km</th>\n",
       "      <th>fuel_consumption_g_km</th>\n",
       "      <th>mileage_in_km</th>\n",
       "      <th>offer_description</th>\n",
       "      <th>month</th>\n",
       "    </tr>\n",
       "  </thead>\n",
       "  <tbody>\n",
       "    <tr>\n",
       "      <th>0</th>\n",
       "      <td>0</td>\n",
       "      <td>alfa-romeo</td>\n",
       "      <td>Alfa Romeo GTV</td>\n",
       "      <td>red</td>\n",
       "      <td>1995</td>\n",
       "      <td>1300</td>\n",
       "      <td>148</td>\n",
       "      <td>201</td>\n",
       "      <td>Manual</td>\n",
       "      <td>Petrol</td>\n",
       "      <td>10,9 l/100 km</td>\n",
       "      <td>260 g/km</td>\n",
       "      <td>160500.0</td>\n",
       "      <td>2.0 V6 TB</td>\n",
       "      <td>10</td>\n",
       "    </tr>\n",
       "    <tr>\n",
       "      <th>1</th>\n",
       "      <td>1</td>\n",
       "      <td>alfa-romeo</td>\n",
       "      <td>Alfa Romeo 164</td>\n",
       "      <td>black</td>\n",
       "      <td>1995</td>\n",
       "      <td>24900</td>\n",
       "      <td>191</td>\n",
       "      <td>260</td>\n",
       "      <td>Manual</td>\n",
       "      <td>Petrol</td>\n",
       "      <td>NaN</td>\n",
       "      <td>- (g/km)</td>\n",
       "      <td>190000.0</td>\n",
       "      <td>Q4 Allrad, 3.2L GTA</td>\n",
       "      <td>02</td>\n",
       "    </tr>\n",
       "    <tr>\n",
       "      <th>2</th>\n",
       "      <td>2</td>\n",
       "      <td>alfa-romeo</td>\n",
       "      <td>Alfa Romeo Spider</td>\n",
       "      <td>black</td>\n",
       "      <td>1995</td>\n",
       "      <td>5900</td>\n",
       "      <td>110</td>\n",
       "      <td>150</td>\n",
       "      <td>Unknown</td>\n",
       "      <td>Petrol</td>\n",
       "      <td>NaN</td>\n",
       "      <td>- (g/km)</td>\n",
       "      <td>129000.0</td>\n",
       "      <td>ALFA ROME 916</td>\n",
       "      <td>02</td>\n",
       "    </tr>\n",
       "    <tr>\n",
       "      <th>3</th>\n",
       "      <td>3</td>\n",
       "      <td>alfa-romeo</td>\n",
       "      <td>Alfa Romeo Spider</td>\n",
       "      <td>black</td>\n",
       "      <td>1995</td>\n",
       "      <td>4900</td>\n",
       "      <td>110</td>\n",
       "      <td>150</td>\n",
       "      <td>Manual</td>\n",
       "      <td>Petrol</td>\n",
       "      <td>9,5 l/100 km</td>\n",
       "      <td>225 g/km</td>\n",
       "      <td>189500.0</td>\n",
       "      <td>2.0 16V Twin Spark L</td>\n",
       "      <td>07</td>\n",
       "    </tr>\n",
       "    <tr>\n",
       "      <th>4</th>\n",
       "      <td>4</td>\n",
       "      <td>alfa-romeo</td>\n",
       "      <td>Alfa Romeo 164</td>\n",
       "      <td>red</td>\n",
       "      <td>1996</td>\n",
       "      <td>17950</td>\n",
       "      <td>132</td>\n",
       "      <td>179</td>\n",
       "      <td>Manual</td>\n",
       "      <td>Petrol</td>\n",
       "      <td>7,2 l/100 km</td>\n",
       "      <td>- (g/km)</td>\n",
       "      <td>96127.0</td>\n",
       "      <td>3.0i Super V6, absoluter Topzustand !</td>\n",
       "      <td>11</td>\n",
       "    </tr>\n",
       "  </tbody>\n",
       "</table>\n",
       "</div>"
      ],
      "text/plain": [
       "   Unnamed: 0       brand              model  color  year price_in_euro  \\\n",
       "0           0  alfa-romeo     Alfa Romeo GTV    red  1995          1300   \n",
       "1           1  alfa-romeo     Alfa Romeo 164  black  1995         24900   \n",
       "2           2  alfa-romeo  Alfa Romeo Spider  black  1995          5900   \n",
       "3           3  alfa-romeo  Alfa Romeo Spider  black  1995          4900   \n",
       "4           4  alfa-romeo     Alfa Romeo 164    red  1996         17950   \n",
       "\n",
       "  power_kw power_ps transmission_type fuel_type fuel_consumption_l_100km  \\\n",
       "0      148      201            Manual    Petrol            10,9 l/100 km   \n",
       "1      191      260            Manual    Petrol                      NaN   \n",
       "2      110      150           Unknown    Petrol                      NaN   \n",
       "3      110      150            Manual    Petrol             9,5 l/100 km   \n",
       "4      132      179            Manual    Petrol             7,2 l/100 km   \n",
       "\n",
       "  fuel_consumption_g_km  mileage_in_km                      offer_description  \\\n",
       "0              260 g/km       160500.0                              2.0 V6 TB   \n",
       "1              - (g/km)       190000.0                    Q4 Allrad, 3.2L GTA   \n",
       "2              - (g/km)       129000.0                          ALFA ROME 916   \n",
       "3              225 g/km       189500.0                   2.0 16V Twin Spark L   \n",
       "4              - (g/km)        96127.0  3.0i Super V6, absoluter Topzustand !   \n",
       "\n",
       "  month  \n",
       "0    10  \n",
       "1    02  \n",
       "2    02  \n",
       "3    07  \n",
       "4    11  "
      ]
     },
     "execution_count": 200,
     "metadata": {},
     "output_type": "execute_result"
    }
   ],
   "source": [
    "df_alemania.drop(['registration_date'], axis='columns', inplace=True)\n",
    "df_alemania.head()"
   ]
  },
  {
   "cell_type": "markdown",
   "metadata": {},
   "source": [
    "Intentaremos llenar todos los valores de power_ps que podamos transformando los valores de power_kw"
   ]
  },
  {
   "cell_type": "code",
   "execution_count": 201,
   "metadata": {},
   "outputs": [
    {
     "name": "stdout",
     "output_type": "stream",
     "text": [
      "<class 'pandas.core.series.Series'>\n",
      "Index: 251075 entries, 0 to 251078\n",
      "Series name: power_ps\n",
      "Non-Null Count   Dtype \n",
      "--------------   ----- \n",
      "250946 non-null  object\n",
      "dtypes: object(1)\n",
      "memory usage: 3.8+ MB\n"
     ]
    }
   ],
   "source": [
    "df_alemania['power_ps'].info()"
   ]
  },
  {
   "cell_type": "markdown",
   "metadata": {},
   "source": [
    "'power_ps' tiene algunos valores no numéricos que pondremos a NaN para poder convertir la variable a numérica"
   ]
  },
  {
   "cell_type": "code",
   "execution_count": 202,
   "metadata": {},
   "outputs": [],
   "source": [
    "filtro_no_numerico = ~df_alemania['power_ps'].astype(str).str.match(r'^\\d+$')\n",
    "df_alemania.loc[filtro_no_numerico, 'power_ps'] = np.nan\n",
    "df_alemania['power_ps'] = pd.to_numeric(df_alemania['power_ps'])"
   ]
  },
  {
   "cell_type": "code",
   "execution_count": 203,
   "metadata": {},
   "outputs": [
    {
     "name": "stdout",
     "output_type": "stream",
     "text": [
      "<class 'pandas.core.series.Series'>\n",
      "Index: 251075 entries, 0 to 251078\n",
      "Series name: power_kw\n",
      "Non-Null Count   Dtype \n",
      "--------------   ----- \n",
      "250941 non-null  object\n",
      "dtypes: object(1)\n",
      "memory usage: 3.8+ MB\n"
     ]
    }
   ],
   "source": [
    "df_alemania['power_kw'].info()"
   ]
  },
  {
   "cell_type": "markdown",
   "metadata": {},
   "source": [
    "Transformaremos también la variable 'power_kw' para poder hacer conversión"
   ]
  },
  {
   "cell_type": "code",
   "execution_count": 204,
   "metadata": {},
   "outputs": [],
   "source": [
    "filtro_no_numerico = ~df_alemania['power_kw'].astype(str).str.match(r'^\\d+$')\n",
    "df_alemania.loc[filtro_no_numerico, 'power_kw'] = np.nan\n",
    "df_alemania['power_kw'] = pd.to_numeric(df_alemania['power_kw'])"
   ]
  },
  {
   "cell_type": "code",
   "execution_count": 205,
   "metadata": {},
   "outputs": [],
   "source": [
    "df_alemania['power_ps'].fillna(df_alemania['power_kw'] * 1.3596, inplace=True)"
   ]
  },
  {
   "cell_type": "code",
   "execution_count": 206,
   "metadata": {},
   "outputs": [
    {
     "data": {
      "text/plain": [
       "176"
      ]
     },
     "execution_count": 206,
     "metadata": {},
     "output_type": "execute_result"
    }
   ],
   "source": [
    "df_alemania['power_ps'].isna().sum()"
   ]
  },
  {
   "cell_type": "markdown",
   "metadata": {},
   "source": [
    "Ahora la variable 'power_kw' ya no nos es de más utilidad, así que la eliminaremos"
   ]
  },
  {
   "cell_type": "code",
   "execution_count": 207,
   "metadata": {},
   "outputs": [],
   "source": [
    "df_alemania=df_alemania.drop('power_kw', axis=1)"
   ]
  },
  {
   "cell_type": "markdown",
   "metadata": {},
   "source": [
    "Intentaremos llenar algunos Nan con la potencia de coches de la misma marca y modelo"
   ]
  },
  {
   "cell_type": "code",
   "execution_count": 208,
   "metadata": {},
   "outputs": [
    {
     "data": {
      "text/plain": [
       "1"
      ]
     },
     "execution_count": 208,
     "metadata": {},
     "output_type": "execute_result"
    }
   ],
   "source": [
    "df_alemania['power_ps'] = df_alemania.groupby(['brand', 'model'])['power_ps'].fillna(method='ffill')\n",
    "df_alemania['power_ps'] = df_alemania.groupby(['brand', 'model'])['power_ps'].fillna(method='bfill')\n",
    "df_alemania['power_ps'].isna().sum()"
   ]
  },
  {
   "cell_type": "markdown",
   "metadata": {},
   "source": [
    "Solo nos ha faltado un registro por completar, lo eliminaremos"
   ]
  },
  {
   "cell_type": "code",
   "execution_count": 209,
   "metadata": {},
   "outputs": [],
   "source": [
    "df_alemania=df_alemania[df_alemania['power_ps'].notna()]"
   ]
  },
  {
   "cell_type": "markdown",
   "metadata": {},
   "source": [
    "Los ps versión alemana de los Horse Power (HP) no són lo mismo que los Caballos de fuerza mecánica (CV). Haremos conversión."
   ]
  },
  {
   "cell_type": "code",
   "execution_count": 210,
   "metadata": {},
   "outputs": [
    {
     "data": {
      "text/plain": [
       "count    251074.000000\n",
       "mean        172.146621\n",
       "std         103.423228\n",
       "min           1.000000\n",
       "25%         111.000000\n",
       "50%         150.000000\n",
       "75%         190.000000\n",
       "max        2750.470800\n",
       "Name: power_ps, dtype: float64"
      ]
     },
     "execution_count": 210,
     "metadata": {},
     "output_type": "execute_result"
    }
   ],
   "source": [
    "df_alemania['power_ps'].describe()"
   ]
  },
  {
   "cell_type": "markdown",
   "metadata": {},
   "source": [
    "Vemos que hay un par de valores incorrectos, los eliminaremos."
   ]
  },
  {
   "cell_type": "code",
   "execution_count": 211,
   "metadata": {},
   "outputs": [],
   "source": [
    "df_alemania['power_cv']=df_alemania['power_ps'] * 0.98632\n",
    "df_alemania['power_cv']=df_alemania['power_cv'].round(0)"
   ]
  },
  {
   "cell_type": "markdown",
   "metadata": {},
   "source": [
    "Ahora eliminaremos la columna 'power_ps' que ya no nos sirve"
   ]
  },
  {
   "cell_type": "code",
   "execution_count": 212,
   "metadata": {},
   "outputs": [],
   "source": [
    "df_alemania=df_alemania.drop('power_ps', axis=1)"
   ]
  },
  {
   "cell_type": "markdown",
   "metadata": {},
   "source": [
    "Los atributos de fuel consumption uno no tiene ningún NaN (galons/km), mientras que otro, que además és el que nos interesa (l/100km), tiene bastantes. Miraremos de hacer la conversión entre unidades. Según una búsqueda en google, el factor de conversión es 3.785411 y los km se tienen que dividir entre 100. Primero hay que arreglar el formato, coger solo la cifra."
   ]
  },
  {
   "cell_type": "code",
   "execution_count": 213,
   "metadata": {},
   "outputs": [
    {
     "data": {
      "text/plain": [
       "Unnamed: 0                      0\n",
       "brand                           0\n",
       "model                           0\n",
       "color                           0\n",
       "year                          193\n",
       "price_in_euro                   0\n",
       "transmission_type               0\n",
       "fuel_type                       0\n",
       "fuel_consumption_l_100km    26872\n",
       "fuel_consumption_g_km           0\n",
       "mileage_in_km                 148\n",
       "offer_description               1\n",
       "month                           0\n",
       "power_cv                        0\n",
       "dtype: int64"
      ]
     },
     "execution_count": 213,
     "metadata": {},
     "output_type": "execute_result"
    }
   ],
   "source": [
    "df_alemania.isna().sum()"
   ]
  },
  {
   "cell_type": "code",
   "execution_count": 214,
   "metadata": {},
   "outputs": [
    {
     "data": {
      "text/plain": [
       "fuel_consumption_g_km\n",
       "- (g/km)             35808\n",
       "0 g/km                8533\n",
       "119 g/km              4813\n",
       "114 g/km              3882\n",
       "139 g/km              3389\n",
       "                     ...  \n",
       "152,6 g/km               1\n",
       "488 km Reichweite        1\n",
       "192,2 g/km               1\n",
       "138,4 g/km               1\n",
       "77 km Reichweite         1\n",
       "Name: count, Length: 1500, dtype: int64"
      ]
     },
     "execution_count": 214,
     "metadata": {},
     "output_type": "execute_result"
    }
   ],
   "source": [
    "df_alemania['fuel_consumption_g_km'].value_counts()"
   ]
  },
  {
   "cell_type": "markdown",
   "metadata": {},
   "source": [
    "Vemos que en realidad el atributo 'fuel_consumption_g_km' tienen más de 40.000 NaN, solo que están enmascarados por el formato. Primero hay algunos que no corresponden a la medida que debería tener g/km, sino que tiene el Reichweite (Rango), imaginamos que por depósito, dado que cada modelo de coche tiende depósitos de diferente capacidad, este dato no aporta valor, sino que crea confusión. vamos a eliminar esas filas."
   ]
  },
  {
   "cell_type": "code",
   "execution_count": 215,
   "metadata": {},
   "outputs": [],
   "source": [
    "df_alemania = df_alemania[~df_alemania['fuel_consumption_g_km'].str.contains('Reichweite')]\n",
    "df_alemania = df_alemania.reset_index(drop=True)"
   ]
  },
  {
   "cell_type": "code",
   "execution_count": 216,
   "metadata": {},
   "outputs": [],
   "source": [
    "def process_fuel(value):\n",
    "    if pd.isna(value):\n",
    "        return value\n",
    "    elif '-' in value:\n",
    "        return None\n",
    "    else:\n",
    "        cleaned_value = re.sub(r'\\.', '', value)\n",
    "        match = re.search(r'([\\d.,]+)', cleaned_value)\n",
    "        if match:\n",
    "            match=float(match.group(1).replace(',', '.'))\n",
    "            if match > 0.0:\n",
    "                return match\n",
    "        return None"
   ]
  },
  {
   "cell_type": "code",
   "execution_count": 217,
   "metadata": {},
   "outputs": [],
   "source": [
    "df_alemania['fuel_consumption_g_km']=df_alemania['fuel_consumption_g_km'].apply(process_fuel)"
   ]
  },
  {
   "cell_type": "code",
   "execution_count": 218,
   "metadata": {},
   "outputs": [
    {
     "data": {
      "text/plain": [
       "fuel_consumption_g_km\n",
       "119.0    4813\n",
       "114.0    3882\n",
       "139.0    3389\n",
       "130.0    3368\n",
       "109.0    3356\n",
       "         ... \n",
       "930.0       1\n",
       "190.3       1\n",
       "5.7         1\n",
       "135.8       1\n",
       "187.3       1\n",
       "Name: count, Length: 1037, dtype: int64"
      ]
     },
     "execution_count": 218,
     "metadata": {},
     "output_type": "execute_result"
    }
   ],
   "source": [
    "df_alemania['fuel_consumption_g_km'].value_counts()"
   ]
  },
  {
   "cell_type": "markdown",
   "metadata": {},
   "source": [
    "Vamos a aplicar la misma transformación a 'fuel_consumption_l_100km'"
   ]
  },
  {
   "cell_type": "code",
   "execution_count": 219,
   "metadata": {},
   "outputs": [],
   "source": [
    "df_alemania['fuel_consumption_l_100km']= df_alemania['fuel_consumption_l_100km'].apply(process_fuel)"
   ]
  },
  {
   "cell_type": "code",
   "execution_count": 220,
   "metadata": {},
   "outputs": [
    {
     "data": {
      "text/plain": [
       "fuel_consumption_l_100km\n",
       "4.9       8168\n",
       "5.1       7658\n",
       "5.5       7620\n",
       "5.9       7521\n",
       "5.3       7458\n",
       "          ... \n",
       "73.0         1\n",
       "169.0        1\n",
       "165.0        1\n",
       "2006.0       1\n",
       "22.6         1\n",
       "Name: count, Length: 312, dtype: int64"
      ]
     },
     "execution_count": 220,
     "metadata": {},
     "output_type": "execute_result"
    }
   ],
   "source": [
    "df_alemania['fuel_consumption_l_100km'].value_counts()"
   ]
  },
  {
   "cell_type": "code",
   "execution_count": 221,
   "metadata": {},
   "outputs": [
    {
     "data": {
      "text/plain": [
       "Unnamed: 0                      0\n",
       "brand                           0\n",
       "model                           0\n",
       "color                           0\n",
       "year                          193\n",
       "price_in_euro                   0\n",
       "transmission_type               0\n",
       "fuel_type                       0\n",
       "fuel_consumption_l_100km    24324\n",
       "fuel_consumption_g_km       45298\n",
       "mileage_in_km                 139\n",
       "offer_description               1\n",
       "month                           0\n",
       "power_cv                        0\n",
       "dtype: int64"
      ]
     },
     "execution_count": 221,
     "metadata": {},
     "output_type": "execute_result"
    }
   ],
   "source": [
    "df_alemania.isna().sum()"
   ]
  },
  {
   "cell_type": "markdown",
   "metadata": {},
   "source": [
    "Vamos a ver si podemos encontrar valores donde podamos completar el consumo de litros por 100km a través de los galones por km"
   ]
  },
  {
   "cell_type": "code",
   "execution_count": 222,
   "metadata": {},
   "outputs": [],
   "source": [
    "# Llenar NaN en 'fuel_consumption_l_100km' con la conversión desde 'fuel_consumption_g_km'\n",
    "df_alemania['fuel_consumption_l_100km'] = df_alemania['fuel_consumption_l_100km'].fillna(df_alemania['fuel_consumption_g_km'] * 3.78541 / 100)\n",
    "\n",
    "# Redondear a un número específico de decimales si es necesario\n",
    "df_alemania['fuel_consumption_l_100km'] = df_alemania['fuel_consumption_l_100km'].round(2)"
   ]
  },
  {
   "cell_type": "code",
   "execution_count": 223,
   "metadata": {},
   "outputs": [
    {
     "data": {
      "text/plain": [
       "Unnamed: 0                      0\n",
       "brand                           0\n",
       "model                           0\n",
       "color                           0\n",
       "year                          193\n",
       "price_in_euro                   0\n",
       "transmission_type               0\n",
       "fuel_type                       0\n",
       "fuel_consumption_l_100km    21886\n",
       "fuel_consumption_g_km       45298\n",
       "mileage_in_km                 139\n",
       "offer_description               1\n",
       "month                           0\n",
       "power_cv                        0\n",
       "dtype: int64"
      ]
     },
     "execution_count": 223,
     "metadata": {},
     "output_type": "execute_result"
    }
   ],
   "source": [
    "df_alemania.isna().sum()"
   ]
  },
  {
   "cell_type": "markdown",
   "metadata": {},
   "source": [
    "Veremos si podemos completar algún campo más llenándolo con los datos de vehículos de su misma marca y modelo."
   ]
  },
  {
   "cell_type": "code",
   "execution_count": 224,
   "metadata": {},
   "outputs": [],
   "source": [
    "df_alemania['fuel_consumption_l_100km'] = df_alemania.groupby(['brand', 'model'])['fuel_consumption_l_100km'].fillna(method='ffill')\n",
    "df_alemania['fuel_consumption_l_100km'] = df_alemania.groupby(['brand', 'model'])['fuel_consumption_l_100km'].fillna(method='bfill')"
   ]
  },
  {
   "cell_type": "code",
   "execution_count": 225,
   "metadata": {},
   "outputs": [
    {
     "data": {
      "text/plain": [
       "Unnamed: 0                      0\n",
       "brand                           0\n",
       "model                           0\n",
       "color                           0\n",
       "year                          193\n",
       "price_in_euro                   0\n",
       "transmission_type               0\n",
       "fuel_type                       0\n",
       "fuel_consumption_l_100km      873\n",
       "fuel_consumption_g_km       45298\n",
       "mileage_in_km                 139\n",
       "offer_description               1\n",
       "month                           0\n",
       "power_cv                        0\n",
       "dtype: int64"
      ]
     },
     "execution_count": 225,
     "metadata": {},
     "output_type": "execute_result"
    }
   ],
   "source": [
    "df_alemania.isna().sum()"
   ]
  },
  {
   "cell_type": "markdown",
   "metadata": {},
   "source": [
    "Hemos llenado los suficientes registros como para poder eliminar los 800 (de más de 250000) sin preocuparnos. También eliminaremos la columna del consumo por galones, que no nos es relevante para nada más."
   ]
  },
  {
   "cell_type": "code",
   "execution_count": 226,
   "metadata": {},
   "outputs": [],
   "source": [
    "df_alemania=df_alemania[df_alemania['fuel_consumption_l_100km'].notna()]\n",
    "df_alemania=df_alemania.drop('fuel_consumption_g_km', axis='columns')"
   ]
  },
  {
   "cell_type": "code",
   "execution_count": 227,
   "metadata": {},
   "outputs": [
    {
     "data": {
      "text/plain": [
       "Unnamed: 0                    0\n",
       "brand                         0\n",
       "model                         0\n",
       "color                         0\n",
       "year                        193\n",
       "price_in_euro                 0\n",
       "transmission_type             0\n",
       "fuel_type                     0\n",
       "fuel_consumption_l_100km      0\n",
       "mileage_in_km               139\n",
       "offer_description             1\n",
       "month                         0\n",
       "power_cv                      0\n",
       "dtype: int64"
      ]
     },
     "execution_count": 227,
     "metadata": {},
     "output_type": "execute_result"
    }
   ],
   "source": [
    "df_alemania.isna().sum()"
   ]
  },
  {
   "cell_type": "markdown",
   "metadata": {},
   "source": [
    "Los atributos que nos quedan con NaN no son en mucha cantidad y son muy importantes para nuestro análisis. Así que eliminaremos los registros con NaN restantes."
   ]
  },
  {
   "cell_type": "code",
   "execution_count": 228,
   "metadata": {},
   "outputs": [],
   "source": [
    "df_alemania=df_alemania.dropna()"
   ]
  },
  {
   "cell_type": "markdown",
   "metadata": {},
   "source": [
    "Ya podemos guardar nuestro dataset limpio en un nuevo archivo"
   ]
  },
  {
   "cell_type": "code",
   "execution_count": 229,
   "metadata": {},
   "outputs": [],
   "source": [
    "df_alemania.to_csv('data\\\\clean\\\\alemania.csv')"
   ]
  }
 ],
 "metadata": {
  "kernelspec": {
   "display_name": "proj",
   "language": "python",
   "name": "python3"
  },
  "language_info": {
   "codemirror_mode": {
    "name": "ipython",
    "version": 3
   },
   "file_extension": ".py",
   "mimetype": "text/x-python",
   "name": "python",
   "nbconvert_exporter": "python",
   "pygments_lexer": "ipython3",
   "version": "3.11.5"
  }
 },
 "nbformat": 4,
 "nbformat_minor": 2
}
